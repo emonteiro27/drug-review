{
 "cells": [
  {
   "cell_type": "markdown",
   "id": "4d1d1b60",
   "metadata": {},
   "source": [
    "# Drug Review"
   ]
  },
  {
   "cell_type": "markdown",
   "id": "22060050",
   "metadata": {},
   "source": [
    "## Used libraries"
   ]
  },
  {
   "cell_type": "code",
   "execution_count": 1,
   "id": "ea8a37ee",
   "metadata": {},
   "outputs": [],
   "source": [
    "import numpy as np\n",
    "import pandas as pd\n",
    "import matplotlib.pyplot as plt"
   ]
  },
  {
   "cell_type": "markdown",
   "id": "23254c73",
   "metadata": {},
   "source": [
    "## Upload data"
   ]
  },
  {
   "cell_type": "code",
   "execution_count": 2,
   "id": "bbe6d32d",
   "metadata": {},
   "outputs": [
    {
     "data": {
      "text/html": [
       "<div>\n",
       "<style scoped>\n",
       "    .dataframe tbody tr th:only-of-type {\n",
       "        vertical-align: middle;\n",
       "    }\n",
       "\n",
       "    .dataframe tbody tr th {\n",
       "        vertical-align: top;\n",
       "    }\n",
       "\n",
       "    .dataframe thead th {\n",
       "        text-align: right;\n",
       "    }\n",
       "</style>\n",
       "<table border=\"1\" class=\"dataframe\">\n",
       "  <thead>\n",
       "    <tr style=\"text-align: right;\">\n",
       "      <th></th>\n",
       "      <th>uniqueID</th>\n",
       "      <th>drugName</th>\n",
       "      <th>condition</th>\n",
       "      <th>review</th>\n",
       "      <th>rating</th>\n",
       "      <th>date</th>\n",
       "      <th>usefulCount</th>\n",
       "    </tr>\n",
       "  </thead>\n",
       "  <tbody>\n",
       "    <tr>\n",
       "      <th>0</th>\n",
       "      <td>206461</td>\n",
       "      <td>Valsartan</td>\n",
       "      <td>Left Ventricular Dysfunction</td>\n",
       "      <td>\"It has no side effect, I take it in combinati...</td>\n",
       "      <td>9</td>\n",
       "      <td>20-May-12</td>\n",
       "      <td>27</td>\n",
       "    </tr>\n",
       "    <tr>\n",
       "      <th>1</th>\n",
       "      <td>95260</td>\n",
       "      <td>Guanfacine</td>\n",
       "      <td>ADHD</td>\n",
       "      <td>\"My son is halfway through his fourth week of ...</td>\n",
       "      <td>8</td>\n",
       "      <td>27-Apr-10</td>\n",
       "      <td>192</td>\n",
       "    </tr>\n",
       "    <tr>\n",
       "      <th>2</th>\n",
       "      <td>92703</td>\n",
       "      <td>Lybrel</td>\n",
       "      <td>Birth Control</td>\n",
       "      <td>\"I used to take another oral contraceptive, wh...</td>\n",
       "      <td>5</td>\n",
       "      <td>14-Dec-09</td>\n",
       "      <td>17</td>\n",
       "    </tr>\n",
       "    <tr>\n",
       "      <th>3</th>\n",
       "      <td>138000</td>\n",
       "      <td>Ortho Evra</td>\n",
       "      <td>Birth Control</td>\n",
       "      <td>\"This is my first time using any form of birth...</td>\n",
       "      <td>8</td>\n",
       "      <td>3-Nov-15</td>\n",
       "      <td>10</td>\n",
       "    </tr>\n",
       "    <tr>\n",
       "      <th>4</th>\n",
       "      <td>35696</td>\n",
       "      <td>Buprenorphine / naloxone</td>\n",
       "      <td>Opiate Dependence</td>\n",
       "      <td>\"Suboxone has completely turned my life around...</td>\n",
       "      <td>9</td>\n",
       "      <td>27-Nov-16</td>\n",
       "      <td>37</td>\n",
       "    </tr>\n",
       "  </tbody>\n",
       "</table>\n",
       "</div>"
      ],
      "text/plain": [
       "   uniqueID                  drugName                     condition  \\\n",
       "0    206461                 Valsartan  Left Ventricular Dysfunction   \n",
       "1     95260                Guanfacine                          ADHD   \n",
       "2     92703                    Lybrel                 Birth Control   \n",
       "3    138000                Ortho Evra                 Birth Control   \n",
       "4     35696  Buprenorphine / naloxone             Opiate Dependence   \n",
       "\n",
       "                                              review  rating       date  \\\n",
       "0  \"It has no side effect, I take it in combinati...       9  20-May-12   \n",
       "1  \"My son is halfway through his fourth week of ...       8  27-Apr-10   \n",
       "2  \"I used to take another oral contraceptive, wh...       5  14-Dec-09   \n",
       "3  \"This is my first time using any form of birth...       8   3-Nov-15   \n",
       "4  \"Suboxone has completely turned my life around...       9  27-Nov-16   \n",
       "\n",
       "   usefulCount  \n",
       "0           27  \n",
       "1          192  \n",
       "2           17  \n",
       "3           10  \n",
       "4           37  "
      ]
     },
     "execution_count": 2,
     "metadata": {},
     "output_type": "execute_result"
    }
   ],
   "source": [
    "path_train = 'data/drugsComTrain_raw.csv'\n",
    "path_test = 'data/drugsComTest_raw.csv'\n",
    "\n",
    "df_train = pd.read_csv(path_train)\n",
    "df_test = pd.read_csv(path_test)\n",
    "\n",
    "df_train.head()"
   ]
  },
  {
   "cell_type": "code",
   "execution_count": 3,
   "id": "2977ea1d",
   "metadata": {},
   "outputs": [
    {
     "data": {
      "text/html": [
       "<div>\n",
       "<style scoped>\n",
       "    .dataframe tbody tr th:only-of-type {\n",
       "        vertical-align: middle;\n",
       "    }\n",
       "\n",
       "    .dataframe tbody tr th {\n",
       "        vertical-align: top;\n",
       "    }\n",
       "\n",
       "    .dataframe thead th {\n",
       "        text-align: right;\n",
       "    }\n",
       "</style>\n",
       "<table border=\"1\" class=\"dataframe\">\n",
       "  <thead>\n",
       "    <tr style=\"text-align: right;\">\n",
       "      <th></th>\n",
       "      <th>uniqueID</th>\n",
       "      <th>drugName</th>\n",
       "      <th>condition</th>\n",
       "      <th>review</th>\n",
       "      <th>rating</th>\n",
       "      <th>date</th>\n",
       "      <th>usefulCount</th>\n",
       "    </tr>\n",
       "  </thead>\n",
       "  <tbody>\n",
       "    <tr>\n",
       "      <th>0</th>\n",
       "      <td>163740</td>\n",
       "      <td>Mirtazapine</td>\n",
       "      <td>Depression</td>\n",
       "      <td>\"I&amp;#039;ve tried a few antidepressants over th...</td>\n",
       "      <td>10</td>\n",
       "      <td>28-Feb-12</td>\n",
       "      <td>22</td>\n",
       "    </tr>\n",
       "    <tr>\n",
       "      <th>1</th>\n",
       "      <td>206473</td>\n",
       "      <td>Mesalamine</td>\n",
       "      <td>Crohn's Disease, Maintenance</td>\n",
       "      <td>\"My son has Crohn&amp;#039;s disease and has done ...</td>\n",
       "      <td>8</td>\n",
       "      <td>17-May-09</td>\n",
       "      <td>17</td>\n",
       "    </tr>\n",
       "    <tr>\n",
       "      <th>2</th>\n",
       "      <td>159672</td>\n",
       "      <td>Bactrim</td>\n",
       "      <td>Urinary Tract Infection</td>\n",
       "      <td>\"Quick reduction of symptoms\"</td>\n",
       "      <td>9</td>\n",
       "      <td>29-Sep-17</td>\n",
       "      <td>3</td>\n",
       "    </tr>\n",
       "    <tr>\n",
       "      <th>3</th>\n",
       "      <td>39293</td>\n",
       "      <td>Contrave</td>\n",
       "      <td>Weight Loss</td>\n",
       "      <td>\"Contrave combines drugs that were used for al...</td>\n",
       "      <td>9</td>\n",
       "      <td>5-Mar-17</td>\n",
       "      <td>35</td>\n",
       "    </tr>\n",
       "    <tr>\n",
       "      <th>4</th>\n",
       "      <td>97768</td>\n",
       "      <td>Cyclafem 1 / 35</td>\n",
       "      <td>Birth Control</td>\n",
       "      <td>\"I have been on this birth control for one cyc...</td>\n",
       "      <td>9</td>\n",
       "      <td>22-Oct-15</td>\n",
       "      <td>4</td>\n",
       "    </tr>\n",
       "  </tbody>\n",
       "</table>\n",
       "</div>"
      ],
      "text/plain": [
       "   uniqueID         drugName                     condition  \\\n",
       "0    163740      Mirtazapine                    Depression   \n",
       "1    206473       Mesalamine  Crohn's Disease, Maintenance   \n",
       "2    159672          Bactrim       Urinary Tract Infection   \n",
       "3     39293         Contrave                   Weight Loss   \n",
       "4     97768  Cyclafem 1 / 35                 Birth Control   \n",
       "\n",
       "                                              review  rating       date  \\\n",
       "0  \"I&#039;ve tried a few antidepressants over th...      10  28-Feb-12   \n",
       "1  \"My son has Crohn&#039;s disease and has done ...       8  17-May-09   \n",
       "2                      \"Quick reduction of symptoms\"       9  29-Sep-17   \n",
       "3  \"Contrave combines drugs that were used for al...       9   5-Mar-17   \n",
       "4  \"I have been on this birth control for one cyc...       9  22-Oct-15   \n",
       "\n",
       "   usefulCount  \n",
       "0           22  \n",
       "1           17  \n",
       "2            3  \n",
       "3           35  \n",
       "4            4  "
      ]
     },
     "execution_count": 3,
     "metadata": {},
     "output_type": "execute_result"
    }
   ],
   "source": [
    "df_test.head()"
   ]
  },
  {
   "cell_type": "code",
   "execution_count": 4,
   "id": "9fa9dea5",
   "metadata": {},
   "outputs": [
    {
     "data": {
      "text/html": [
       "<div>\n",
       "<style scoped>\n",
       "    .dataframe tbody tr th:only-of-type {\n",
       "        vertical-align: middle;\n",
       "    }\n",
       "\n",
       "    .dataframe tbody tr th {\n",
       "        vertical-align: top;\n",
       "    }\n",
       "\n",
       "    .dataframe thead th {\n",
       "        text-align: right;\n",
       "    }\n",
       "</style>\n",
       "<table border=\"1\" class=\"dataframe\">\n",
       "  <thead>\n",
       "    <tr style=\"text-align: right;\">\n",
       "      <th></th>\n",
       "      <th>uniqueID</th>\n",
       "      <th>drugName</th>\n",
       "      <th>condition</th>\n",
       "      <th>review</th>\n",
       "      <th>rating</th>\n",
       "      <th>date</th>\n",
       "      <th>usefulCount</th>\n",
       "    </tr>\n",
       "  </thead>\n",
       "  <tbody>\n",
       "    <tr>\n",
       "      <th>0</th>\n",
       "      <td>206461</td>\n",
       "      <td>Valsartan</td>\n",
       "      <td>Left Ventricular Dysfunction</td>\n",
       "      <td>\"It has no side effect, I take it in combinati...</td>\n",
       "      <td>9</td>\n",
       "      <td>20-May-12</td>\n",
       "      <td>27</td>\n",
       "    </tr>\n",
       "    <tr>\n",
       "      <th>1</th>\n",
       "      <td>95260</td>\n",
       "      <td>Guanfacine</td>\n",
       "      <td>ADHD</td>\n",
       "      <td>\"My son is halfway through his fourth week of ...</td>\n",
       "      <td>8</td>\n",
       "      <td>27-Apr-10</td>\n",
       "      <td>192</td>\n",
       "    </tr>\n",
       "    <tr>\n",
       "      <th>2</th>\n",
       "      <td>92703</td>\n",
       "      <td>Lybrel</td>\n",
       "      <td>Birth Control</td>\n",
       "      <td>\"I used to take another oral contraceptive, wh...</td>\n",
       "      <td>5</td>\n",
       "      <td>14-Dec-09</td>\n",
       "      <td>17</td>\n",
       "    </tr>\n",
       "    <tr>\n",
       "      <th>3</th>\n",
       "      <td>138000</td>\n",
       "      <td>Ortho Evra</td>\n",
       "      <td>Birth Control</td>\n",
       "      <td>\"This is my first time using any form of birth...</td>\n",
       "      <td>8</td>\n",
       "      <td>3-Nov-15</td>\n",
       "      <td>10</td>\n",
       "    </tr>\n",
       "    <tr>\n",
       "      <th>4</th>\n",
       "      <td>35696</td>\n",
       "      <td>Buprenorphine / naloxone</td>\n",
       "      <td>Opiate Dependence</td>\n",
       "      <td>\"Suboxone has completely turned my life around...</td>\n",
       "      <td>9</td>\n",
       "      <td>27-Nov-16</td>\n",
       "      <td>37</td>\n",
       "    </tr>\n",
       "  </tbody>\n",
       "</table>\n",
       "</div>"
      ],
      "text/plain": [
       "   uniqueID                  drugName                     condition  \\\n",
       "0    206461                 Valsartan  Left Ventricular Dysfunction   \n",
       "1     95260                Guanfacine                          ADHD   \n",
       "2     92703                    Lybrel                 Birth Control   \n",
       "3    138000                Ortho Evra                 Birth Control   \n",
       "4     35696  Buprenorphine / naloxone             Opiate Dependence   \n",
       "\n",
       "                                              review  rating       date  \\\n",
       "0  \"It has no side effect, I take it in combinati...       9  20-May-12   \n",
       "1  \"My son is halfway through his fourth week of ...       8  27-Apr-10   \n",
       "2  \"I used to take another oral contraceptive, wh...       5  14-Dec-09   \n",
       "3  \"This is my first time using any form of birth...       8   3-Nov-15   \n",
       "4  \"Suboxone has completely turned my life around...       9  27-Nov-16   \n",
       "\n",
       "   usefulCount  \n",
       "0           27  \n",
       "1          192  \n",
       "2           17  \n",
       "3           10  \n",
       "4           37  "
      ]
     },
     "execution_count": 4,
     "metadata": {},
     "output_type": "execute_result"
    }
   ],
   "source": [
    "df_all = pd.concat([df_train, df_test], ignore_index=True)\n",
    "df_all.head()"
   ]
  },
  {
   "cell_type": "code",
   "execution_count": 5,
   "id": "a406a2cc",
   "metadata": {},
   "outputs": [
    {
     "name": "stdout",
     "output_type": "stream",
     "text": [
      "Train set shape: (161297, 7)\n",
      "Test set shape: (53766, 7)\n",
      "Full set shape: (215063, 7)\n"
     ]
    }
   ],
   "source": [
    "print(f'Train set shape: {df_train.shape}')\n",
    "print(f'Test set shape: {df_test.shape}')\n",
    "print(f'Full set shape: {df_all.shape}')"
   ]
  },
  {
   "cell_type": "markdown",
   "id": "cbf709f1",
   "metadata": {},
   "source": [
    "## Data Preprocessing"
   ]
  },
  {
   "cell_type": "markdown",
   "id": "5a1aa0da",
   "metadata": {},
   "source": [
    "### Remove reviews with missing values"
   ]
  },
  {
   "cell_type": "code",
   "execution_count": 6,
   "id": "248d32bc",
   "metadata": {},
   "outputs": [
    {
     "data": {
      "text/plain": [
       "uniqueID          0\n",
       "drugName          0\n",
       "condition      1194\n",
       "review            0\n",
       "rating            0\n",
       "date              0\n",
       "usefulCount       0\n",
       "dtype: int64"
      ]
     },
     "execution_count": 6,
     "metadata": {},
     "output_type": "execute_result"
    }
   ],
   "source": [
    "df_all.isna().sum()"
   ]
  },
  {
   "cell_type": "code",
   "execution_count": 7,
   "id": "21535540",
   "metadata": {},
   "outputs": [
    {
     "data": {
      "image/png": "[encoded data removed]",
      "text/plain": [
       "<Figure size 1000x600 with 1 Axes>"
      ]
     },
     "metadata": {},
     "output_type": "display_data"
    }
   ],
   "source": [
    "nan_percentage = df_all.isna().sum().sort_values(ascending=False)\n",
    "\n",
    "#plot number of NaN values in each feature\n",
    "plt.figure(figsize=(10,6))\n",
    "plt.bar(nan_percentage.index, height=nan_percentage)\n",
    "plt.xticks(fontsize=10, rotation=90)\n",
    "plt.ylabel('Amount of NaN values')\n",
    "plt.title('Total Missing Values')\n",
    "plt.show()"
   ]
  },
  {
   "cell_type": "code",
   "execution_count": 8,
   "id": "7732598a",
   "metadata": {},
   "outputs": [
    {
     "data": {
      "text/html": [
       "<div>\n",
       "<style scoped>\n",
       "    .dataframe tbody tr th:only-of-type {\n",
       "        vertical-align: middle;\n",
       "    }\n",
       "\n",
       "    .dataframe tbody tr th {\n",
       "        vertical-align: top;\n",
       "    }\n",
       "\n",
       "    .dataframe thead th {\n",
       "        text-align: right;\n",
       "    }\n",
       "</style>\n",
       "<table border=\"1\" class=\"dataframe\">\n",
       "  <thead>\n",
       "    <tr style=\"text-align: right;\">\n",
       "      <th></th>\n",
       "      <th>uniqueID</th>\n",
       "      <th>drugName</th>\n",
       "      <th>condition</th>\n",
       "      <th>review</th>\n",
       "      <th>rating</th>\n",
       "      <th>date</th>\n",
       "      <th>usefulCount</th>\n",
       "    </tr>\n",
       "  </thead>\n",
       "  <tbody>\n",
       "    <tr>\n",
       "      <th>30</th>\n",
       "      <td>51452</td>\n",
       "      <td>Azithromycin</td>\n",
       "      <td>NaN</td>\n",
       "      <td>\"Very good response. It is so useful for me. \"</td>\n",
       "      <td>10</td>\n",
       "      <td>18-Aug-10</td>\n",
       "      <td>1</td>\n",
       "    </tr>\n",
       "    <tr>\n",
       "      <th>148</th>\n",
       "      <td>61073</td>\n",
       "      <td>Urea</td>\n",
       "      <td>NaN</td>\n",
       "      <td>\"Accurate information.\"</td>\n",
       "      <td>10</td>\n",
       "      <td>2-Jul-11</td>\n",
       "      <td>13</td>\n",
       "    </tr>\n",
       "    <tr>\n",
       "      <th>488</th>\n",
       "      <td>132651</td>\n",
       "      <td>Doxepin</td>\n",
       "      <td>NaN</td>\n",
       "      <td>\"So far so good. Good for me and I can take it...</td>\n",
       "      <td>10</td>\n",
       "      <td>20-Oct-10</td>\n",
       "      <td>25</td>\n",
       "    </tr>\n",
       "    <tr>\n",
       "      <th>733</th>\n",
       "      <td>44297</td>\n",
       "      <td>Ethinyl estradiol / norgestimate</td>\n",
       "      <td>NaN</td>\n",
       "      <td>\"I haven&amp;#039;t been on it for a long time and...</td>\n",
       "      <td>8</td>\n",
       "      <td>24-Jan-11</td>\n",
       "      <td>1</td>\n",
       "    </tr>\n",
       "    <tr>\n",
       "      <th>851</th>\n",
       "      <td>68697</td>\n",
       "      <td>Medroxyprogesterone</td>\n",
       "      <td>NaN</td>\n",
       "      <td>\"I started the shot in July 2015 and ended in ...</td>\n",
       "      <td>6</td>\n",
       "      <td>23-Mar-17</td>\n",
       "      <td>1</td>\n",
       "    </tr>\n",
       "    <tr>\n",
       "      <th>...</th>\n",
       "      <td>...</td>\n",
       "      <td>...</td>\n",
       "      <td>...</td>\n",
       "      <td>...</td>\n",
       "      <td>...</td>\n",
       "      <td>...</td>\n",
       "      <td>...</td>\n",
       "    </tr>\n",
       "    <tr>\n",
       "      <th>213721</th>\n",
       "      <td>170508</td>\n",
       "      <td>Quetiapine</td>\n",
       "      <td>NaN</td>\n",
       "      <td>\"good for insomnia most of the time\"</td>\n",
       "      <td>7</td>\n",
       "      <td>27-May-15</td>\n",
       "      <td>10</td>\n",
       "    </tr>\n",
       "    <tr>\n",
       "      <th>213785</th>\n",
       "      <td>104629</td>\n",
       "      <td>Ethinyl estradiol / levonorgestrel</td>\n",
       "      <td>NaN</td>\n",
       "      <td>\"I am almost on my third month of my first pac...</td>\n",
       "      <td>5</td>\n",
       "      <td>25-Apr-11</td>\n",
       "      <td>4</td>\n",
       "    </tr>\n",
       "    <tr>\n",
       "      <th>213914</th>\n",
       "      <td>104642</td>\n",
       "      <td>Ethinyl estradiol / levonorgestrel</td>\n",
       "      <td>NaN</td>\n",
       "      <td>\"I have been taking this birth control for two...</td>\n",
       "      <td>10</td>\n",
       "      <td>11-Jan-11</td>\n",
       "      <td>1</td>\n",
       "    </tr>\n",
       "    <tr>\n",
       "      <th>214039</th>\n",
       "      <td>720</td>\n",
       "      <td>Medroxyprogesterone</td>\n",
       "      <td>NaN</td>\n",
       "      <td>\"I have been using the shot for 7 years now an...</td>\n",
       "      <td>10</td>\n",
       "      <td>21-Apr-11</td>\n",
       "      <td>1</td>\n",
       "    </tr>\n",
       "    <tr>\n",
       "      <th>214726</th>\n",
       "      <td>162326</td>\n",
       "      <td>Hyaluronan</td>\n",
       "      <td>NaN</td>\n",
       "      <td>\"I am 52 years old and have had pain in my kne...</td>\n",
       "      <td>9</td>\n",
       "      <td>20-Oct-11</td>\n",
       "      <td>10</td>\n",
       "    </tr>\n",
       "  </tbody>\n",
       "</table>\n",
       "<p>1194 rows × 7 columns</p>\n",
       "</div>"
      ],
      "text/plain": [
       "        uniqueID                            drugName condition  \\\n",
       "30         51452                        Azithromycin       NaN   \n",
       "148        61073                                Urea       NaN   \n",
       "488       132651                             Doxepin       NaN   \n",
       "733        44297    Ethinyl estradiol / norgestimate       NaN   \n",
       "851        68697                 Medroxyprogesterone       NaN   \n",
       "...          ...                                 ...       ...   \n",
       "213721    170508                          Quetiapine       NaN   \n",
       "213785    104629  Ethinyl estradiol / levonorgestrel       NaN   \n",
       "213914    104642  Ethinyl estradiol / levonorgestrel       NaN   \n",
       "214039       720                 Medroxyprogesterone       NaN   \n",
       "214726    162326                          Hyaluronan       NaN   \n",
       "\n",
       "                                                   review  rating       date  \\\n",
       "30         \"Very good response. It is so useful for me. \"      10  18-Aug-10   \n",
       "148                               \"Accurate information.\"      10   2-Jul-11   \n",
       "488     \"So far so good. Good for me and I can take it...      10  20-Oct-10   \n",
       "733     \"I haven&#039;t been on it for a long time and...       8  24-Jan-11   \n",
       "851     \"I started the shot in July 2015 and ended in ...       6  23-Mar-17   \n",
       "...                                                   ...     ...        ...   \n",
       "213721               \"good for insomnia most of the time\"       7  27-May-15   \n",
       "213785  \"I am almost on my third month of my first pac...       5  25-Apr-11   \n",
       "213914  \"I have been taking this birth control for two...      10  11-Jan-11   \n",
       "214039  \"I have been using the shot for 7 years now an...      10  21-Apr-11   \n",
       "214726  \"I am 52 years old and have had pain in my kne...       9  20-Oct-11   \n",
       "\n",
       "        usefulCount  \n",
       "30                1  \n",
       "148              13  \n",
       "488              25  \n",
       "733               1  \n",
       "851               1  \n",
       "...             ...  \n",
       "213721           10  \n",
       "213785            4  \n",
       "213914            1  \n",
       "214039            1  \n",
       "214726           10  \n",
       "\n",
       "[1194 rows x 7 columns]"
      ]
     },
     "execution_count": 8,
     "metadata": {},
     "output_type": "execute_result"
    }
   ],
   "source": [
    "#create mask to see rows with NaN values\n",
    "mask = df_all.isna()\n",
    "df_na = df_all[mask.any(axis=1)]\n",
    "df_na"
   ]
  },
  {
   "cell_type": "markdown",
   "id": "daf2c683",
   "metadata": {},
   "source": [
    "There's no point in having those rows with no condition. Let's drop them"
   ]
  },
  {
   "cell_type": "code",
   "execution_count": 9,
   "id": "038f22cc",
   "metadata": {},
   "outputs": [
    {
     "name": "stdout",
     "output_type": "stream",
     "text": [
      "Initial number of rows in the full set: 215063\n",
      "Initial number of rows in the train set: 161297\n",
      "Initial number of rows in the test set: 53766\n",
      "Number of rows in full set after dropping NaN values: 213869\n",
      "Number of rows in train set after dropping NaN values: 160398\n",
      "Number of rows in test set after dropping NaN values: 53471\n"
     ]
    }
   ],
   "source": [
    "print(f'Initial number of rows in the full set: {len(df_all)}')\n",
    "print(f'Initial number of rows in the train set: {len(df_train)}')\n",
    "print(f'Initial number of rows in the test set: {len(df_test)}')\n",
    "\n",
    "df_all.dropna(inplace=True)\n",
    "df_train.dropna(inplace=True)\n",
    "df_test.dropna(inplace=True)\n",
    "\n",
    "print(f'Number of rows in full set after dropping NaN values: {len(df_all)}')\n",
    "print(f'Number of rows in train set after dropping NaN values: {len(df_train)}')\n",
    "print(f'Number of rows in test set after dropping NaN values: {len(df_test)}')"
   ]
  },
  {
   "cell_type": "code",
   "execution_count": 10,
   "id": "abde3cdd",
   "metadata": {},
   "outputs": [
    {
     "name": "stdout",
     "output_type": "stream",
     "text": [
      "There are 3667 unique values of drugs\n",
      "There are 916 unique values of conditions\n",
      "There are 4 drugs for each condition\n"
     ]
    }
   ],
   "source": [
    "#number of unique conditions\n",
    "cond_nunique = df_all['condition'].nunique()\n",
    "\n",
    "#number of unique drug names\n",
    "drug_nunique = df_all['drugName'].nunique()\n",
    "\n",
    "print(f'There are {drug_nunique} unique values of drugs')\n",
    "print(f'There are {cond_nunique} unique values of conditions')\n",
    "print(f'There are {int(drug_nunique/cond_nunique)} drugs for each condition')"
   ]
  },
  {
   "cell_type": "markdown",
   "id": "87bff73a",
   "metadata": {},
   "source": [
    "### Remove reviews with '<\\span>' in the condition"
   ]
  },
  {
   "cell_type": "code",
   "execution_count": 11,
   "id": "f7b14a3d",
   "metadata": {},
   "outputs": [
    {
     "data": {
      "text/plain": [
       "<function matplotlib.pyplot.show(close=None, block=None)>"
      ]
     },
     "execution_count": 11,
     "metadata": {},
     "output_type": "execute_result"
    },
    {
     "data": {
      "image/png": "[encoded data removed]",
      "text/plain": [
       "<Figure size 1000x600 with 1 Axes>"
      ]
     },
     "metadata": {},
     "output_type": "display_data"
    }
   ],
   "source": [
    "#drugs grouped by condition\n",
    "drug_by_cond = df_all.groupby(['condition'])['drugName'].nunique().sort_values(ascending=False).head(20)\n",
    "\n",
    "#plot amount of drugs for each condition\n",
    "plt.figure(figsize=(10,6))\n",
    "plt.bar(drug_by_cond.index, drug_by_cond)\n",
    "plt.xlabel('Condition')\n",
    "plt.ylabel('Drug count')\n",
    "plt.xticks(fontsize=10, rotation=90)\n",
    "plt.title('20 top number of drugs per condition')\n",
    "plt.show"
   ]
  },
  {
   "cell_type": "code",
   "execution_count": 12,
   "id": "ec88e571",
   "metadata": {},
   "outputs": [
    {
     "data": {
      "text/html": [
       "<div>\n",
       "<style scoped>\n",
       "    .dataframe tbody tr th:only-of-type {\n",
       "        vertical-align: middle;\n",
       "    }\n",
       "\n",
       "    .dataframe tbody tr th {\n",
       "        vertical-align: top;\n",
       "    }\n",
       "\n",
       "    .dataframe thead th {\n",
       "        text-align: right;\n",
       "    }\n",
       "</style>\n",
       "<table border=\"1\" class=\"dataframe\">\n",
       "  <thead>\n",
       "    <tr style=\"text-align: right;\">\n",
       "      <th></th>\n",
       "      <th>uniqueID</th>\n",
       "      <th>drugName</th>\n",
       "      <th>condition</th>\n",
       "      <th>review</th>\n",
       "      <th>rating</th>\n",
       "      <th>date</th>\n",
       "      <th>usefulCount</th>\n",
       "    </tr>\n",
       "  </thead>\n",
       "  <tbody>\n",
       "    <tr>\n",
       "      <th>105</th>\n",
       "      <td>220696</td>\n",
       "      <td>Loestrin 24 Fe</td>\n",
       "      <td>2&lt;/span&gt; users found this comment helpful.</td>\n",
       "      <td>\"I&amp;#039;m 16 and  I have been on Loestrin 24 f...</td>\n",
       "      <td>3</td>\n",
       "      <td>3-Nov-10</td>\n",
       "      <td>2</td>\n",
       "    </tr>\n",
       "    <tr>\n",
       "      <th>196</th>\n",
       "      <td>67383</td>\n",
       "      <td>Provera</td>\n",
       "      <td>4&lt;/span&gt; users found this comment helpful.</td>\n",
       "      <td>\"I&amp;#039;m 24 years old and have always had a p...</td>\n",
       "      <td>1</td>\n",
       "      <td>27-Mar-16</td>\n",
       "      <td>4</td>\n",
       "    </tr>\n",
       "    <tr>\n",
       "      <th>243</th>\n",
       "      <td>81588</td>\n",
       "      <td>Yaz</td>\n",
       "      <td>3&lt;/span&gt; users found this comment helpful.</td>\n",
       "      <td>\"I took Yaz for a little over 2 years.  From a...</td>\n",
       "      <td>3</td>\n",
       "      <td>1-Jun-10</td>\n",
       "      <td>3</td>\n",
       "    </tr>\n",
       "    <tr>\n",
       "      <th>264</th>\n",
       "      <td>132965</td>\n",
       "      <td>Loestrin 24 Fe</td>\n",
       "      <td>4&lt;/span&gt; users found this comment helpful.</td>\n",
       "      <td>\"Took this pill for 1.) Acne and 2.) Birth Con...</td>\n",
       "      <td>2</td>\n",
       "      <td>24-Jun-14</td>\n",
       "      <td>4</td>\n",
       "    </tr>\n",
       "    <tr>\n",
       "      <th>391</th>\n",
       "      <td>91050</td>\n",
       "      <td>Norco</td>\n",
       "      <td>11&lt;/span&gt; users found this comment helpful.</td>\n",
       "      <td>\"I have suffered with low back pain - 2 surger...</td>\n",
       "      <td>9</td>\n",
       "      <td>15-Mar-09</td>\n",
       "      <td>11</td>\n",
       "    </tr>\n",
       "    <tr>\n",
       "      <th>...</th>\n",
       "      <td>...</td>\n",
       "      <td>...</td>\n",
       "      <td>...</td>\n",
       "      <td>...</td>\n",
       "      <td>...</td>\n",
       "      <td>...</td>\n",
       "      <td>...</td>\n",
       "    </tr>\n",
       "    <tr>\n",
       "      <th>213740</th>\n",
       "      <td>133354</td>\n",
       "      <td>Tri-Sprintec</td>\n",
       "      <td>3&lt;/span&gt; users found this comment helpful.</td>\n",
       "      <td>\"I have been taking this pill for less than a ...</td>\n",
       "      <td>8</td>\n",
       "      <td>24-Sep-10</td>\n",
       "      <td>3</td>\n",
       "    </tr>\n",
       "    <tr>\n",
       "      <th>214413</th>\n",
       "      <td>149494</td>\n",
       "      <td>Mirena</td>\n",
       "      <td>5&lt;/span&gt; users found this comment helpful.</td>\n",
       "      <td>\"I got the Mirena put in last month. And holy ...</td>\n",
       "      <td>7</td>\n",
       "      <td>12-Feb-13</td>\n",
       "      <td>5</td>\n",
       "    </tr>\n",
       "    <tr>\n",
       "      <th>214584</th>\n",
       "      <td>91988</td>\n",
       "      <td>Lyrica</td>\n",
       "      <td>21&lt;/span&gt; users found this comment helpful.</td>\n",
       "      <td>\"It was a nightmare.I had the worse side effec...</td>\n",
       "      <td>1</td>\n",
       "      <td>14-Apr-15</td>\n",
       "      <td>21</td>\n",
       "    </tr>\n",
       "    <tr>\n",
       "      <th>214650</th>\n",
       "      <td>174757</td>\n",
       "      <td>Dulera</td>\n",
       "      <td>28&lt;/span&gt; users found this comment helpful.</td>\n",
       "      <td>\"My 10 year old son took Dulera for asthma.  I...</td>\n",
       "      <td>1</td>\n",
       "      <td>29-Feb-12</td>\n",
       "      <td>28</td>\n",
       "    </tr>\n",
       "    <tr>\n",
       "      <th>214867</th>\n",
       "      <td>37632</td>\n",
       "      <td>Vyvanse</td>\n",
       "      <td>5&lt;/span&gt; users found this comment helpful.</td>\n",
       "      <td>\"Wonderful drug, after being on narcotics for ...</td>\n",
       "      <td>9</td>\n",
       "      <td>29-Dec-09</td>\n",
       "      <td>5</td>\n",
       "    </tr>\n",
       "  </tbody>\n",
       "</table>\n",
       "<p>1171 rows × 7 columns</p>\n",
       "</div>"
      ],
      "text/plain": [
       "        uniqueID        drugName                                    condition  \\\n",
       "105       220696  Loestrin 24 Fe   2</span> users found this comment helpful.   \n",
       "196        67383         Provera   4</span> users found this comment helpful.   \n",
       "243        81588             Yaz   3</span> users found this comment helpful.   \n",
       "264       132965  Loestrin 24 Fe   4</span> users found this comment helpful.   \n",
       "391        91050           Norco  11</span> users found this comment helpful.   \n",
       "...          ...             ...                                          ...   \n",
       "213740    133354    Tri-Sprintec   3</span> users found this comment helpful.   \n",
       "214413    149494          Mirena   5</span> users found this comment helpful.   \n",
       "214584     91988          Lyrica  21</span> users found this comment helpful.   \n",
       "214650    174757          Dulera  28</span> users found this comment helpful.   \n",
       "214867     37632         Vyvanse   5</span> users found this comment helpful.   \n",
       "\n",
       "                                                   review  rating       date  \\\n",
       "105     \"I&#039;m 16 and  I have been on Loestrin 24 f...       3   3-Nov-10   \n",
       "196     \"I&#039;m 24 years old and have always had a p...       1  27-Mar-16   \n",
       "243     \"I took Yaz for a little over 2 years.  From a...       3   1-Jun-10   \n",
       "264     \"Took this pill for 1.) Acne and 2.) Birth Con...       2  24-Jun-14   \n",
       "391     \"I have suffered with low back pain - 2 surger...       9  15-Mar-09   \n",
       "...                                                   ...     ...        ...   \n",
       "213740  \"I have been taking this pill for less than a ...       8  24-Sep-10   \n",
       "214413  \"I got the Mirena put in last month. And holy ...       7  12-Feb-13   \n",
       "214584  \"It was a nightmare.I had the worse side effec...       1  14-Apr-15   \n",
       "214650  \"My 10 year old son took Dulera for asthma.  I...       1  29-Feb-12   \n",
       "214867  \"Wonderful drug, after being on narcotics for ...       9  29-Dec-09   \n",
       "\n",
       "        usefulCount  \n",
       "105               2  \n",
       "196               4  \n",
       "243               3  \n",
       "264               4  \n",
       "391              11  \n",
       "...             ...  \n",
       "213740            3  \n",
       "214413            5  \n",
       "214584           21  \n",
       "214650           28  \n",
       "214867            5  \n",
       "\n",
       "[1171 rows x 7 columns]"
      ]
     },
     "execution_count": 12,
     "metadata": {},
     "output_type": "execute_result"
    }
   ],
   "source": [
    "df_all[df_all['condition'].str.contains('users.*helpful')]"
   ]
  },
  {
   "cell_type": "code",
   "execution_count": 13,
   "id": "9c6d680e",
   "metadata": {},
   "outputs": [],
   "source": [
    "#create mask to drop rows with condition = 'users found... helpful.'\n",
    "mask_all = df_all['condition'].str.contains('users.*helpful')\n",
    "mask_train = df_train['condition'].str.contains('users.*helpful')\n",
    "mask_test = df_test['condition'].str.contains('users.*helpful')\n",
    "\n",
    "#apply it to train, test and full dataset\n",
    "df_all = df_all[~mask_all].reset_index(drop=True)\n",
    "df_train = df_train[~mask_train].reset_index(drop=True)\n",
    "df_test = df_test[~mask_test].reset_index(drop=True)"
   ]
  },
  {
   "cell_type": "markdown",
   "id": "4ea04972",
   "metadata": {},
   "source": [
    "### Remove reviews with only one drug per condition"
   ]
  },
  {
   "cell_type": "code",
   "execution_count": 14,
   "id": "e238b4e3",
   "metadata": {},
   "outputs": [
    {
     "data": {
      "text/plain": [
       "Index(['ADHD', 'AIDS Related Wasting', 'AV Heart Block',\n",
       "       'Abdominal Distension', 'Abnormal Uterine Bleeding', 'Abortion',\n",
       "       'Acetaminophen Overdose', 'Acne', 'Actinic Keratosis',\n",
       "       'Acute Coronary Syndrome',\n",
       "       ...\n",
       "       'moterol)', 'mulation) (phenylephrine)', 't Care',\n",
       "       't Pac with Cyclobenzaprine (cyclobenzaprine)',\n",
       "       'tic (mycophenolic acid)', 'unctional Gastric Disorde',\n",
       "       'ungal Infection Prophylaxis', 'ungal Pneumonia',\n",
       "       'von Willebrand's Disease', 'zen Shoulde'],\n",
       "      dtype='object', name='condition', length=811)"
      ]
     },
     "execution_count": 14,
     "metadata": {},
     "output_type": "execute_result"
    }
   ],
   "source": [
    "(df_train.groupby(['condition'])['drugName'].nunique()==1).index"
   ]
  },
  {
   "cell_type": "code",
   "execution_count": 15,
   "id": "ceaff680",
   "metadata": {},
   "outputs": [],
   "source": [
    "#drop rows with conditions with only one drug\n",
    "\n",
    "#full dataset\n",
    "condition_count_all = df_all.groupby(['condition'])['drugName'].nunique()\n",
    "multi_drug_all = condition_count_all[condition_count_all>1].index.tolist()\n",
    "df_all = df_all[df_all['condition'].isin(multi_drug_all)]\n",
    "\n",
    "#train set\n",
    "condition_count_train = df_train.groupby(['condition'])['drugName'].nunique()\n",
    "multi_drug_train = condition_count_train[condition_count_train>1].index.tolist()\n",
    "df_train = df_train[df_train['condition'].isin(multi_drug_train)]\n",
    "\n",
    "#test set\n",
    "condition_count_test = df_test.groupby(['condition'])['drugName'].nunique()\n",
    "multi_drug_test = condition_count_test[condition_count_test>1].index.tolist()\n",
    "df_test = df_test[df_test['condition'].isin(multi_drug_test)]"
   ]
  },
  {
   "cell_type": "code",
   "execution_count": 16,
   "id": "5c92f646",
   "metadata": {},
   "outputs": [
    {
     "data": {
      "text/plain": [
       "condition\n",
       "Pudendal Neuralgia                         2\n",
       "Dupuytren's contracture                    2\n",
       "Pulmonary Embolism, First Event            2\n",
       "Radionuclide Myocardial Perfusion Study    2\n",
       "Keratoconjunctivitis Sicca                 2\n",
       "Name: drugName, dtype: int64"
      ]
     },
     "execution_count": 16,
     "metadata": {},
     "output_type": "execute_result"
    }
   ],
   "source": [
    "df_all.groupby('condition')['drugName'].nunique().sort_values(ascending=False).tail()"
   ]
  },
  {
   "cell_type": "code",
   "execution_count": 17,
   "id": "2eb37301",
   "metadata": {},
   "outputs": [
    {
     "data": {
      "text/html": [
       "<div>\n",
       "<style scoped>\n",
       "    .dataframe tbody tr th:only-of-type {\n",
       "        vertical-align: middle;\n",
       "    }\n",
       "\n",
       "    .dataframe tbody tr th {\n",
       "        vertical-align: top;\n",
       "    }\n",
       "\n",
       "    .dataframe thead th {\n",
       "        text-align: right;\n",
       "    }\n",
       "</style>\n",
       "<table border=\"1\" class=\"dataframe\">\n",
       "  <thead>\n",
       "    <tr style=\"text-align: right;\">\n",
       "      <th></th>\n",
       "      <th>uniqueID</th>\n",
       "      <th>drugName</th>\n",
       "      <th>condition</th>\n",
       "      <th>review</th>\n",
       "      <th>rating</th>\n",
       "      <th>date</th>\n",
       "      <th>usefulCount</th>\n",
       "    </tr>\n",
       "  </thead>\n",
       "  <tbody>\n",
       "    <tr>\n",
       "      <th>0</th>\n",
       "      <td>206461</td>\n",
       "      <td>Valsartan</td>\n",
       "      <td>Left Ventricular Dysfunction</td>\n",
       "      <td>\"It has no side effect, I take it in combinati...</td>\n",
       "      <td>9</td>\n",
       "      <td>20-May-12</td>\n",
       "      <td>27</td>\n",
       "    </tr>\n",
       "    <tr>\n",
       "      <th>1</th>\n",
       "      <td>95260</td>\n",
       "      <td>Guanfacine</td>\n",
       "      <td>ADHD</td>\n",
       "      <td>\"My son is halfway through his fourth week of ...</td>\n",
       "      <td>8</td>\n",
       "      <td>27-Apr-10</td>\n",
       "      <td>192</td>\n",
       "    </tr>\n",
       "    <tr>\n",
       "      <th>2</th>\n",
       "      <td>92703</td>\n",
       "      <td>Lybrel</td>\n",
       "      <td>Birth Control</td>\n",
       "      <td>\"I used to take another oral contraceptive, wh...</td>\n",
       "      <td>5</td>\n",
       "      <td>14-Dec-09</td>\n",
       "      <td>17</td>\n",
       "    </tr>\n",
       "    <tr>\n",
       "      <th>3</th>\n",
       "      <td>138000</td>\n",
       "      <td>Ortho Evra</td>\n",
       "      <td>Birth Control</td>\n",
       "      <td>\"This is my first time using any form of birth...</td>\n",
       "      <td>8</td>\n",
       "      <td>3-Nov-15</td>\n",
       "      <td>10</td>\n",
       "    </tr>\n",
       "    <tr>\n",
       "      <th>4</th>\n",
       "      <td>35696</td>\n",
       "      <td>Buprenorphine / naloxone</td>\n",
       "      <td>Opiate Dependence</td>\n",
       "      <td>\"Suboxone has completely turned my life around...</td>\n",
       "      <td>9</td>\n",
       "      <td>27-Nov-16</td>\n",
       "      <td>37</td>\n",
       "    </tr>\n",
       "    <tr>\n",
       "      <th>...</th>\n",
       "      <td>...</td>\n",
       "      <td>...</td>\n",
       "      <td>...</td>\n",
       "      <td>...</td>\n",
       "      <td>...</td>\n",
       "      <td>...</td>\n",
       "      <td>...</td>\n",
       "    </tr>\n",
       "    <tr>\n",
       "      <th>212693</th>\n",
       "      <td>159999</td>\n",
       "      <td>Tamoxifen</td>\n",
       "      <td>Breast Cancer, Prevention</td>\n",
       "      <td>\"I have taken Tamoxifen for 5 years. Side effe...</td>\n",
       "      <td>10</td>\n",
       "      <td>13-Sep-14</td>\n",
       "      <td>43</td>\n",
       "    </tr>\n",
       "    <tr>\n",
       "      <th>212694</th>\n",
       "      <td>140714</td>\n",
       "      <td>Escitalopram</td>\n",
       "      <td>Anxiety</td>\n",
       "      <td>\"I&amp;#039;ve been taking Lexapro (escitaploprgra...</td>\n",
       "      <td>9</td>\n",
       "      <td>8-Oct-16</td>\n",
       "      <td>11</td>\n",
       "    </tr>\n",
       "    <tr>\n",
       "      <th>212695</th>\n",
       "      <td>130945</td>\n",
       "      <td>Levonorgestrel</td>\n",
       "      <td>Birth Control</td>\n",
       "      <td>\"I&amp;#039;m married, 34 years old and I have no ...</td>\n",
       "      <td>8</td>\n",
       "      <td>15-Nov-10</td>\n",
       "      <td>7</td>\n",
       "    </tr>\n",
       "    <tr>\n",
       "      <th>212696</th>\n",
       "      <td>47656</td>\n",
       "      <td>Tapentadol</td>\n",
       "      <td>Pain</td>\n",
       "      <td>\"I was prescribed Nucynta for severe neck/shou...</td>\n",
       "      <td>1</td>\n",
       "      <td>28-Nov-11</td>\n",
       "      <td>20</td>\n",
       "    </tr>\n",
       "    <tr>\n",
       "      <th>212697</th>\n",
       "      <td>113712</td>\n",
       "      <td>Arthrotec</td>\n",
       "      <td>Sciatica</td>\n",
       "      <td>\"It works!!!\"</td>\n",
       "      <td>9</td>\n",
       "      <td>13-Sep-09</td>\n",
       "      <td>46</td>\n",
       "    </tr>\n",
       "  </tbody>\n",
       "</table>\n",
       "<p>212053 rows × 7 columns</p>\n",
       "</div>"
      ],
      "text/plain": [
       "        uniqueID                  drugName                     condition  \\\n",
       "0         206461                 Valsartan  Left Ventricular Dysfunction   \n",
       "1          95260                Guanfacine                          ADHD   \n",
       "2          92703                    Lybrel                 Birth Control   \n",
       "3         138000                Ortho Evra                 Birth Control   \n",
       "4          35696  Buprenorphine / naloxone             Opiate Dependence   \n",
       "...          ...                       ...                           ...   \n",
       "212693    159999                 Tamoxifen     Breast Cancer, Prevention   \n",
       "212694    140714              Escitalopram                       Anxiety   \n",
       "212695    130945            Levonorgestrel                 Birth Control   \n",
       "212696     47656                Tapentadol                          Pain   \n",
       "212697    113712                 Arthrotec                      Sciatica   \n",
       "\n",
       "                                                   review  rating       date  \\\n",
       "0       \"It has no side effect, I take it in combinati...       9  20-May-12   \n",
       "1       \"My son is halfway through his fourth week of ...       8  27-Apr-10   \n",
       "2       \"I used to take another oral contraceptive, wh...       5  14-Dec-09   \n",
       "3       \"This is my first time using any form of birth...       8   3-Nov-15   \n",
       "4       \"Suboxone has completely turned my life around...       9  27-Nov-16   \n",
       "...                                                   ...     ...        ...   \n",
       "212693  \"I have taken Tamoxifen for 5 years. Side effe...      10  13-Sep-14   \n",
       "212694  \"I&#039;ve been taking Lexapro (escitaploprgra...       9   8-Oct-16   \n",
       "212695  \"I&#039;m married, 34 years old and I have no ...       8  15-Nov-10   \n",
       "212696  \"I was prescribed Nucynta for severe neck/shou...       1  28-Nov-11   \n",
       "212697                                      \"It works!!!\"       9  13-Sep-09   \n",
       "\n",
       "        usefulCount  \n",
       "0                27  \n",
       "1               192  \n",
       "2                17  \n",
       "3                10  \n",
       "4                37  \n",
       "...             ...  \n",
       "212693           43  \n",
       "212694           11  \n",
       "212695            7  \n",
       "212696           20  \n",
       "212697           46  \n",
       "\n",
       "[212053 rows x 7 columns]"
      ]
     },
     "execution_count": 17,
     "metadata": {},
     "output_type": "execute_result"
    }
   ],
   "source": [
    "df_all"
   ]
  },
  {
   "cell_type": "markdown",
   "id": "ee63e965",
   "metadata": {},
   "source": [
    "### Preprocess reviews"
   ]
  },
  {
   "cell_type": "code",
   "execution_count": 18,
   "id": "26a17e7d",
   "metadata": {},
   "outputs": [],
   "source": [
    "from nltk.corpus import stopwords\n",
    "from bs4 import BeautifulSoup\n",
    "import re\n",
    "from nltk.stem.snowball import SnowballStemmer"
   ]
  },
  {
   "cell_type": "code",
   "execution_count": 19,
   "id": "4d2d94c4",
   "metadata": {},
   "outputs": [],
   "source": [
    "stops = set(stopwords.words('english'))"
   ]
  },
  {
   "cell_type": "code",
   "execution_count": 20,
   "id": "839aed6e",
   "metadata": {},
   "outputs": [
    {
     "name": "stdout",
     "output_type": "stream",
     "text": [
      "Inital number of stopwords: 179\n",
      "Final number of stopwords: 159\n"
     ]
    }
   ],
   "source": [
    "print(f'Inital number of stopwords: {len(stops)}')\n",
    "#for emotional proposes, we should include the not words\n",
    "\n",
    "not_stop = [\"aren't\",\"couldn't\",\"didn't\",\"doesn't\",\"don't\",\"hadn't\",\"hasn't\",\"haven't\",\"isn't\",\"mightn't\",\"mustn't\",\\\n",
    "            \"needn't\",\"no\",\"nor\",\"not\",\"shan't\",\"shouldn't\",\"wasn't\",\"weren't\",\"wouldn't\"]\n",
    "\n",
    "for i in not_stop:\n",
    "    stops.remove(i)\n",
    "      \n",
    "print(f'Final number of stopwords: {len(stops)}')"
   ]
  },
  {
   "cell_type": "code",
   "execution_count": 21,
   "id": "8f038526",
   "metadata": {},
   "outputs": [
    {
     "data": {
      "text/plain": [
       "'\"I used to take another oral contraceptive, which had 21 pill cycle, and was very happy- very light periods, max 5 days, no other side effects. But it contained hormone gestodene, which is not available in US, so I switched to Lybrel, because the ingredients are similar. When my other pills ended, I started Lybrel immediately, on my first day of period, as the instructions said. And the period lasted for two weeks. When taking the second pack- same two weeks. And now, with third pack things got even worse- my third period lasted for two weeks and now it&#039;s the end of the third week- I still have daily brown discharge.\\r\\nThe positive side is that I didn&#039;t have any other side effects. The idea of being period free was so tempting... Alas.\"'"
      ]
     },
     "execution_count": 21,
     "metadata": {},
     "output_type": "execute_result"
    }
   ],
   "source": [
    "df_all['review'][2]"
   ]
  },
  {
   "cell_type": "code",
   "execution_count": 22,
   "id": "3b3c4291",
   "metadata": {},
   "outputs": [
    {
     "data": {
      "text/plain": [
       "' I used to take another oral contraceptive  which had    pill cycle  and was very happy  very light periods  max   days  no other side effects  But it contained hormone gestodene  which is not available in US  so I switched to Lybrel  because the ingredients are similar  When my other pills ended  I started Lybrel immediately  on my first day of period  as the instructions said  And the period lasted for two weeks  When taking the second pack  same two weeks  And now  with third pack things got even worse  my third period lasted for two weeks and now it s the end of the third week  I still have daily brown discharge   The positive side is that I didn t have any other side effects  The idea of being period free was so tempting    Alas  '"
      ]
     },
     "execution_count": 22,
     "metadata": {},
     "output_type": "execute_result"
    }
   ],
   "source": [
    "#BeautifulSoup(df_all['review'][2], 'html.parser').get_text()\n",
    "re.sub('[^a-zA-Z]', ' ', BeautifulSoup(df_all['review'][2], 'html.parser').get_text())#.lower().split()"
   ]
  },
  {
   "cell_type": "code",
   "execution_count": 23,
   "id": "49c32821",
   "metadata": {},
   "outputs": [],
   "source": [
    "#import SnowballStemmer class with the argument 'english'\n",
    "stemmer = SnowballStemmer('english')\n",
    "\n",
    "def review_to_words(raw_review):\n",
    "    \n",
    "    #delete html\n",
    "    review_text = BeautifulSoup(raw_review, 'html.parser').get_text()\n",
    "    \n",
    "    #make a whitespace\n",
    "    letters_only = re.sub('[^a-zA-Z]', ' ', review_text)\n",
    "    \n",
    "    #lower letters and split\n",
    "    words = letters_only.lower().split()\n",
    "    \n",
    "    #remove stopwords\n",
    "    meaningful_words = [w for w in words if not w in stops]\n",
    "    \n",
    "    #stemming\n",
    "    stemming_words = [stemmer.stem(w) for w in meaningful_words]\n",
    "    \n",
    "    #join words with whitespace\n",
    "    return(' '.join(stemming_words))"
   ]
  },
  {
   "cell_type": "code",
   "execution_count": 24,
   "id": "6abc69c6",
   "metadata": {},
   "outputs": [
    {
     "data": {
      "text/plain": [
       "'use take anoth oral contracept pill cycl happi light period max day no side effect contain hormon gestoden not avail us switch lybrel ingredi similar pill end start lybrel immedi first day period instruct said period last two week take second pack two week third pack thing got even wors third period last two week end third week still daili brown discharg posit side side effect idea period free tempt ala'"
      ]
     },
     "execution_count": 24,
     "metadata": {},
     "output_type": "execute_result"
    }
   ],
   "source": [
    "review_to_words(df_all['review'][2])"
   ]
  },
  {
   "cell_type": "markdown",
   "id": "45f87e47",
   "metadata": {
    "heading_collapsed": true
   },
   "source": [
    "### N-grams"
   ]
  },
  {
   "cell_type": "code",
   "execution_count": 25,
   "id": "cf0f1b68",
   "metadata": {
    "hidden": true
   },
   "outputs": [],
   "source": [
    "#classify 1-5 as negative and 6-10 as positive\n",
    "df_all_1_5 = df_all[df_all['rating']<6]\n",
    "df_all_6_10 = df_all[df_all['rating']>5]"
   ]
  },
  {
   "cell_type": "code",
   "execution_count": 26,
   "id": "a2f6538d",
   "metadata": {
    "hidden": true
   },
   "outputs": [],
   "source": [
    "#custom function for ngram generation\n",
    "\n",
    "def generate_ngrams(text, n_gram=1):\n",
    "    token = [token for token in text.lower().split(' ') if token != '' if token not in stops]\n",
    "    ngrams = zip(*[token[i:] for i in range(n_gram)])\n",
    "    return [' '.join(ngram) for ngram in ngrams]"
   ]
  },
  {
   "cell_type": "code",
   "execution_count": 30,
   "id": "04fea888",
   "metadata": {
    "hidden": true
   },
   "outputs": [],
   "source": [
    "#custom function for horizontal bar chart\n",
    "\n",
    "def horizontal_bar_chart(df, color):\n",
    "    trace = go.Bar(\n",
    "        y=df[\"word\"].values[::-1],\n",
    "        x=df[\"wordcount\"].values[::-1],\n",
    "        showlegend=False,\n",
    "        orientation = 'h',\n",
    "        marker=dict(\n",
    "            color=color,\n",
    "        ),\n",
    "    )\n",
    "    return trace"
   ]
  },
  {
   "cell_type": "code",
   "execution_count": 42,
   "id": "4db5bfe7",
   "metadata": {
    "hidden": true
   },
   "outputs": [
    {
     "data": {
      "text/html": [
       "        <script type=\"text/javascript\">\n",
       "        window.PlotlyConfig = {MathJaxConfig: 'local'};\n",
       "        if (window.MathJax && window.MathJax.Hub && window.MathJax.Hub.Config) {window.MathJax.Hub.Config({SVG: {font: \"STIX-Web\"}});}\n",
       "        if (typeof require !== 'undefined') {\n",
       "        require.undef(\"plotly\");\n",
       "        requirejs.config({\n",
       "            paths: {\n",
       "                'plotly': ['https://cdn.plot.ly/plotly-2.14.0.min']\n",
       "            }\n",
       "        });\n",
       "        require(['plotly'], function(Plotly) {\n",
       "            window._Plotly = Plotly;\n",
       "        });\n",
       "        }\n",
       "        </script>\n",
       "        "
      ]
     },
     "metadata": {},
     "output_type": "display_data"
    },
    {
     "name": "stderr",
     "output_type": "stream",
     "text": [
      "/Users/eduardomonteiro/.pyenv/versions/3.10.6/envs/lewagon/lib/python3.10/site-packages/plotly/tools.py:460: DeprecationWarning:\n",
      "\n",
      "plotly.tools.make_subplots is deprecated, please use plotly.subplots.make_subplots instead\n",
      "\n"
     ]
    },
    {
     "data": {
      "application/vnd.plotly.v1+json": {
       "config": {
        "linkText": "Export to plot.ly",
        "plotlyServerURL": "https://plot.ly",
        "showLink": false
       },
       "data": [
        {
         "marker": {
          "color": "blue"
         },
         "orientation": "h",
         "showlegend": false,
         "type": "bar",
         "x": [
          7688,
          7719,
          7895,
          8030,
          8058,
          8181,
          8226,
          8296,
          8388,
          8431,
          8484,
          8570,
          8619,
          8712,
          8808,
          8868,
          9007,
          9732,
          9809,
          9952,
          10186,
          10197,
          10204,
          10237,
          10425,
          10655,
          10715,
          11935,
          11938,
          12004,
          12016,
          12217,
          12353,
          12517,
          12539,
          13290,
          13510,
          13587,
          14145,
          14194,
          15070,
          16187,
          16507,
          16770,
          17432,
          18737,
          20446,
          21039,
          25767,
          38983
         ],
         "xaxis": "x",
         "y": [
          "really",
          "going",
          "years",
          "two",
          "it.",
          "since",
          "made",
          "birth",
          "month",
          "week",
          "didn&#039;t",
          "don&#039;t",
          "bad",
          "even",
          "went",
          "weeks",
          "period",
          "effects",
          "felt",
          "time",
          "it&#039;s",
          "also",
          "one",
          "pill",
          "doctor",
          "still",
          "back",
          "never",
          "3",
          "days",
          "pain",
          "took",
          "got",
          "feel",
          "2",
          "take",
          "months",
          "would",
          "day",
          "i&#039;ve",
          "first",
          "get",
          "started",
          "side",
          "like",
          "no",
          "taking",
          "i&#039;m",
          "\"i",
          "not"
         ],
         "yaxis": "y"
        },
        {
         "marker": {
          "color": "blue"
         },
         "orientation": "h",
         "showlegend": false,
         "type": "bar",
         "x": [
          16256,
          16799,
          16802,
          16835,
          17115,
          18595,
          18605,
          18628,
          18692,
          18757,
          19180,
          19418,
          19460,
          20360,
          20432,
          20512,
          20565,
          21842,
          22435,
          22588,
          22633,
          22791,
          22856,
          22881,
          22908,
          24401,
          25180,
          25735,
          25818,
          26252,
          26849,
          27612,
          29173,
          29390,
          30115,
          31364,
          33293,
          33544,
          34960,
          35860,
          35932,
          37583,
          39926,
          41978,
          43135,
          45594,
          51008,
          57212,
          64887,
          69402
         ],
         "xaxis": "x2",
         "y": [
          "didn&#039;t",
          "tried",
          "felt",
          "never",
          "bad",
          "week",
          "medication",
          "two",
          "pill",
          "period",
          "every",
          "went",
          "weeks",
          "much",
          "it.",
          "still",
          "weight",
          "since",
          "also",
          "doctor",
          "got",
          "don&#039;t",
          "back",
          "really",
          "took",
          "time",
          "one",
          "days",
          "3",
          "months",
          "it&#039;s",
          "effects",
          "2",
          "would",
          "pain",
          "i&#039;ve",
          "years",
          "feel",
          "day",
          "like",
          "started",
          "get",
          "first",
          "i&#039;m",
          "take",
          "taking",
          "side",
          "no",
          "\"i",
          "not"
         ],
         "yaxis": "y2"
        }
       ],
       "layout": {
        "annotations": [
         {
          "font": {
           "size": 16
          },
          "showarrow": false,
          "text": "Most used words of rating 1 to 5",
          "x": 0.225,
          "xanchor": "center",
          "xref": "paper",
          "y": 1,
          "yanchor": "bottom",
          "yref": "paper"
         },
         {
          "font": {
           "size": 16
          },
          "showarrow": false,
          "text": "Most used words of rating 6 to 10",
          "x": 0.775,
          "xanchor": "center",
          "xref": "paper",
          "y": 1,
          "yanchor": "bottom",
          "yref": "paper"
         }
        ],
        "height": 1200,
        "paper_bgcolor": "rgb(233,233,233)",
        "template": {
         "data": {
          "bar": [
           {
            "error_x": {
             "color": "#2a3f5f"
            },
            "error_y": {
             "color": "#2a3f5f"
            },
            "marker": {
             "line": {
              "color": "#E5ECF6",
              "width": 0.5
             },
             "pattern": {
              "fillmode": "overlay",
              "size": 10,
              "solidity": 0.2
             }
            },
            "type": "bar"
           }
          ],
          "barpolar": [
           {
            "marker": {
             "line": {
              "color": "#E5ECF6",
              "width": 0.5
             },
             "pattern": {
              "fillmode": "overlay",
              "size": 10,
              "solidity": 0.2
             }
            },
            "type": "barpolar"
           }
          ],
          "carpet": [
           {
            "aaxis": {
             "endlinecolor": "#2a3f5f",
             "gridcolor": "white",
             "linecolor": "white",
             "minorgridcolor": "white",
             "startlinecolor": "#2a3f5f"
            },
            "baxis": {
             "endlinecolor": "#2a3f5f",
             "gridcolor": "white",
             "linecolor": "white",
             "minorgridcolor": "white",
             "startlinecolor": "#2a3f5f"
            },
            "type": "carpet"
           }
          ],
          "choropleth": [
           {
            "colorbar": {
             "outlinewidth": 0,
             "ticks": ""
            },
            "type": "choropleth"
           }
          ],
          "contour": [
           {
            "colorbar": {
             "outlinewidth": 0,
             "ticks": ""
            },
            "colorscale": [
             [
              0,
              "#0d0887"
             ],
             [
              0.1111111111111111,
              "#46039f"
             ],
             [
              0.2222222222222222,
              "#7201a8"
             ],
             [
              0.3333333333333333,
              "#9c179e"
             ],
             [
              0.4444444444444444,
              "#bd3786"
             ],
             [
              0.5555555555555556,
              "#d8576b"
             ],
             [
              0.6666666666666666,
              "#ed7953"
             ],
             [
              0.7777777777777778,
              "#fb9f3a"
             ],
             [
              0.8888888888888888,
              "#fdca26"
             ],
             [
              1,
              "#f0f921"
             ]
            ],
            "type": "contour"
           }
          ],
          "contourcarpet": [
           {
            "colorbar": {
             "outlinewidth": 0,
             "ticks": ""
            },
            "type": "contourcarpet"
           }
          ],
          "heatmap": [
           {
            "colorbar": {
             "outlinewidth": 0,
             "ticks": ""
            },
            "colorscale": [
             [
              0,
              "#0d0887"
             ],
             [
              0.1111111111111111,
              "#46039f"
             ],
             [
              0.2222222222222222,
              "#7201a8"
             ],
             [
              0.3333333333333333,
              "#9c179e"
             ],
             [
              0.4444444444444444,
              "#bd3786"
             ],
             [
              0.5555555555555556,
              "#d8576b"
             ],
             [
              0.6666666666666666,
              "#ed7953"
             ],
             [
              0.7777777777777778,
              "#fb9f3a"
             ],
             [
              0.8888888888888888,
              "#fdca26"
             ],
             [
              1,
              "#f0f921"
             ]
            ],
            "type": "heatmap"
           }
          ],
          "heatmapgl": [
           {
            "colorbar": {
             "outlinewidth": 0,
             "ticks": ""
            },
            "colorscale": [
             [
              0,
              "#0d0887"
             ],
             [
              0.1111111111111111,
              "#46039f"
             ],
             [
              0.2222222222222222,
              "#7201a8"
             ],
             [
              0.3333333333333333,
              "#9c179e"
             ],
             [
              0.4444444444444444,
              "#bd3786"
             ],
             [
              0.5555555555555556,
              "#d8576b"
             ],
             [
              0.6666666666666666,
              "#ed7953"
             ],
             [
              0.7777777777777778,
              "#fb9f3a"
             ],
             [
              0.8888888888888888,
              "#fdca26"
             ],
             [
              1,
              "#f0f921"
             ]
            ],
            "type": "heatmapgl"
           }
          ],
          "histogram": [
           {
            "marker": {
             "pattern": {
              "fillmode": "overlay",
              "size": 10,
              "solidity": 0.2
             }
            },
            "type": "histogram"
           }
          ],
          "histogram2d": [
           {
            "colorbar": {
             "outlinewidth": 0,
             "ticks": ""
            },
            "colorscale": [
             [
              0,
              "#0d0887"
             ],
             [
              0.1111111111111111,
              "#46039f"
             ],
             [
              0.2222222222222222,
              "#7201a8"
             ],
             [
              0.3333333333333333,
              "#9c179e"
             ],
             [
              0.4444444444444444,
              "#bd3786"
             ],
             [
              0.5555555555555556,
              "#d8576b"
             ],
             [
              0.6666666666666666,
              "#ed7953"
             ],
             [
              0.7777777777777778,
              "#fb9f3a"
             ],
             [
              0.8888888888888888,
              "#fdca26"
             ],
             [
              1,
              "#f0f921"
             ]
            ],
            "type": "histogram2d"
           }
          ],
          "histogram2dcontour": [
           {
            "colorbar": {
             "outlinewidth": 0,
             "ticks": ""
            },
            "colorscale": [
             [
              0,
              "#0d0887"
             ],
             [
              0.1111111111111111,
              "#46039f"
             ],
             [
              0.2222222222222222,
              "#7201a8"
             ],
             [
              0.3333333333333333,
              "#9c179e"
             ],
             [
              0.4444444444444444,
              "#bd3786"
             ],
             [
              0.5555555555555556,
              "#d8576b"
             ],
             [
              0.6666666666666666,
              "#ed7953"
             ],
             [
              0.7777777777777778,
              "#fb9f3a"
             ],
             [
              0.8888888888888888,
              "#fdca26"
             ],
             [
              1,
              "#f0f921"
             ]
            ],
            "type": "histogram2dcontour"
           }
          ],
          "mesh3d": [
           {
            "colorbar": {
             "outlinewidth": 0,
             "ticks": ""
            },
            "type": "mesh3d"
           }
          ],
          "parcoords": [
           {
            "line": {
             "colorbar": {
              "outlinewidth": 0,
              "ticks": ""
             }
            },
            "type": "parcoords"
           }
          ],
          "pie": [
           {
            "automargin": true,
            "type": "pie"
           }
          ],
          "scatter": [
           {
            "fillpattern": {
             "fillmode": "overlay",
             "size": 10,
             "solidity": 0.2
            },
            "type": "scatter"
           }
          ],
          "scatter3d": [
           {
            "line": {
             "colorbar": {
              "outlinewidth": 0,
              "ticks": ""
             }
            },
            "marker": {
             "colorbar": {
              "outlinewidth": 0,
              "ticks": ""
             }
            },
            "type": "scatter3d"
           }
          ],
          "scattercarpet": [
           {
            "marker": {
             "colorbar": {
              "outlinewidth": 0,
              "ticks": ""
             }
            },
            "type": "scattercarpet"
           }
          ],
          "scattergeo": [
           {
            "marker": {
             "colorbar": {
              "outlinewidth": 0,
              "ticks": ""
             }
            },
            "type": "scattergeo"
           }
          ],
          "scattergl": [
           {
            "marker": {
             "colorbar": {
              "outlinewidth": 0,
              "ticks": ""
             }
            },
            "type": "scattergl"
           }
          ],
          "scattermapbox": [
           {
            "marker": {
             "colorbar": {
              "outlinewidth": 0,
              "ticks": ""
             }
            },
            "type": "scattermapbox"
           }
          ],
          "scatterpolar": [
           {
            "marker": {
             "colorbar": {
              "outlinewidth": 0,
              "ticks": ""
             }
            },
            "type": "scatterpolar"
           }
          ],
          "scatterpolargl": [
           {
            "marker": {
             "colorbar": {
              "outlinewidth": 0,
              "ticks": ""
             }
            },
            "type": "scatterpolargl"
           }
          ],
          "scatterternary": [
           {
            "marker": {
             "colorbar": {
              "outlinewidth": 0,
              "ticks": ""
             }
            },
            "type": "scatterternary"
           }
          ],
          "surface": [
           {
            "colorbar": {
             "outlinewidth": 0,
             "ticks": ""
            },
            "colorscale": [
             [
              0,
              "#0d0887"
             ],
             [
              0.1111111111111111,
              "#46039f"
             ],
             [
              0.2222222222222222,
              "#7201a8"
             ],
             [
              0.3333333333333333,
              "#9c179e"
             ],
             [
              0.4444444444444444,
              "#bd3786"
             ],
             [
              0.5555555555555556,
              "#d8576b"
             ],
             [
              0.6666666666666666,
              "#ed7953"
             ],
             [
              0.7777777777777778,
              "#fb9f3a"
             ],
             [
              0.8888888888888888,
              "#fdca26"
             ],
             [
              1,
              "#f0f921"
             ]
            ],
            "type": "surface"
           }
          ],
          "table": [
           {
            "cells": {
             "fill": {
              "color": "#EBF0F8"
             },
             "line": {
              "color": "white"
             }
            },
            "header": {
             "fill": {
              "color": "#C8D4E3"
             },
             "line": {
              "color": "white"
             }
            },
            "type": "table"
           }
          ]
         },
         "layout": {
          "annotationdefaults": {
           "arrowcolor": "#2a3f5f",
           "arrowhead": 0,
           "arrowwidth": 1
          },
          "autotypenumbers": "strict",
          "coloraxis": {
           "colorbar": {
            "outlinewidth": 0,
            "ticks": ""
           }
          },
          "colorscale": {
           "diverging": [
            [
             0,
             "#8e0152"
            ],
            [
             0.1,
             "#c51b7d"
            ],
            [
             0.2,
             "#de77ae"
            ],
            [
             0.3,
             "#f1b6da"
            ],
            [
             0.4,
             "#fde0ef"
            ],
            [
             0.5,
             "#f7f7f7"
            ],
            [
             0.6,
             "#e6f5d0"
            ],
            [
             0.7,
             "#b8e186"
            ],
            [
             0.8,
             "#7fbc41"
            ],
            [
             0.9,
             "#4d9221"
            ],
            [
             1,
             "#276419"
            ]
           ],
           "sequential": [
            [
             0,
             "#0d0887"
            ],
            [
             0.1111111111111111,
             "#46039f"
            ],
            [
             0.2222222222222222,
             "#7201a8"
            ],
            [
             0.3333333333333333,
             "#9c179e"
            ],
            [
             0.4444444444444444,
             "#bd3786"
            ],
            [
             0.5555555555555556,
             "#d8576b"
            ],
            [
             0.6666666666666666,
             "#ed7953"
            ],
            [
             0.7777777777777778,
             "#fb9f3a"
            ],
            [
             0.8888888888888888,
             "#fdca26"
            ],
            [
             1,
             "#f0f921"
            ]
           ],
           "sequentialminus": [
            [
             0,
             "#0d0887"
            ],
            [
             0.1111111111111111,
             "#46039f"
            ],
            [
             0.2222222222222222,
             "#7201a8"
            ],
            [
             0.3333333333333333,
             "#9c179e"
            ],
            [
             0.4444444444444444,
             "#bd3786"
            ],
            [
             0.5555555555555556,
             "#d8576b"
            ],
            [
             0.6666666666666666,
             "#ed7953"
            ],
            [
             0.7777777777777778,
             "#fb9f3a"
            ],
            [
             0.8888888888888888,
             "#fdca26"
            ],
            [
             1,
             "#f0f921"
            ]
           ]
          },
          "colorway": [
           "#636efa",
           "#EF553B",
           "#00cc96",
           "#ab63fa",
           "#FFA15A",
           "#19d3f3",
           "#FF6692",
           "#B6E880",
           "#FF97FF",
           "#FECB52"
          ],
          "font": {
           "color": "#2a3f5f"
          },
          "geo": {
           "bgcolor": "white",
           "lakecolor": "white",
           "landcolor": "#E5ECF6",
           "showlakes": true,
           "showland": true,
           "subunitcolor": "white"
          },
          "hoverlabel": {
           "align": "left"
          },
          "hovermode": "closest",
          "mapbox": {
           "style": "light"
          },
          "paper_bgcolor": "white",
          "plot_bgcolor": "#E5ECF6",
          "polar": {
           "angularaxis": {
            "gridcolor": "white",
            "linecolor": "white",
            "ticks": ""
           },
           "bgcolor": "#E5ECF6",
           "radialaxis": {
            "gridcolor": "white",
            "linecolor": "white",
            "ticks": ""
           }
          },
          "scene": {
           "xaxis": {
            "backgroundcolor": "#E5ECF6",
            "gridcolor": "white",
            "gridwidth": 2,
            "linecolor": "white",
            "showbackground": true,
            "ticks": "",
            "zerolinecolor": "white"
           },
           "yaxis": {
            "backgroundcolor": "#E5ECF6",
            "gridcolor": "white",
            "gridwidth": 2,
            "linecolor": "white",
            "showbackground": true,
            "ticks": "",
            "zerolinecolor": "white"
           },
           "zaxis": {
            "backgroundcolor": "#E5ECF6",
            "gridcolor": "white",
            "gridwidth": 2,
            "linecolor": "white",
            "showbackground": true,
            "ticks": "",
            "zerolinecolor": "white"
           }
          },
          "shapedefaults": {
           "line": {
            "color": "#2a3f5f"
           }
          },
          "ternary": {
           "aaxis": {
            "gridcolor": "white",
            "linecolor": "white",
            "ticks": ""
           },
           "baxis": {
            "gridcolor": "white",
            "linecolor": "white",
            "ticks": ""
           },
           "bgcolor": "#E5ECF6",
           "caxis": {
            "gridcolor": "white",
            "linecolor": "white",
            "ticks": ""
           }
          },
          "title": {
           "x": 0.05
          },
          "xaxis": {
           "automargin": true,
           "gridcolor": "white",
           "linecolor": "white",
           "ticks": "",
           "title": {
            "standoff": 15
           },
           "zerolinecolor": "white",
           "zerolinewidth": 2
          },
          "yaxis": {
           "automargin": true,
           "gridcolor": "white",
           "linecolor": "white",
           "ticks": "",
           "title": {
            "standoff": 15
           },
           "zerolinecolor": "white",
           "zerolinewidth": 2
          }
         }
        },
        "title": {
         "text": "Word Count Plots"
        },
        "width": 900,
        "xaxis": {
         "anchor": "y",
         "domain": [
          0,
          0.45
         ]
        },
        "xaxis2": {
         "anchor": "y2",
         "domain": [
          0.55,
          1
         ]
        },
        "yaxis": {
         "anchor": "x",
         "domain": [
          0,
          1
         ]
        },
        "yaxis2": {
         "anchor": "x2",
         "domain": [
          0,
          1
         ]
        }
       }
      },
      "text/html": [
       "<div>                            <div id=\"cfa676bf-2df9-46d3-8126-4603cb69b6ee\" class=\"plotly-graph-div\" style=\"height:1200px; width:900px;\"></div>            <script type=\"text/javascript\">                require([\"plotly\"], function(Plotly) {                    window.PLOTLYENV=window.PLOTLYENV || {};                                    if (document.getElementById(\"cfa676bf-2df9-46d3-8126-4603cb69b6ee\")) {                    Plotly.newPlot(                        \"cfa676bf-2df9-46d3-8126-4603cb69b6ee\",                        [{\"marker\":{\"color\":\"blue\"},\"orientation\":\"h\",\"showlegend\":false,\"x\":[7688,7719,7895,8030,8058,8181,8226,8296,8388,8431,8484,8570,8619,8712,8808,8868,9007,9732,9809,9952,10186,10197,10204,10237,10425,10655,10715,11935,11938,12004,12016,12217,12353,12517,12539,13290,13510,13587,14145,14194,15070,16187,16507,16770,17432,18737,20446,21039,25767,38983],\"xaxis\":\"x\",\"y\":[\"really\",\"going\",\"years\",\"two\",\"it.\",\"since\",\"made\",\"birth\",\"month\",\"week\",\"didn&#039;t\",\"don&#039;t\",\"bad\",\"even\",\"went\",\"weeks\",\"period\",\"effects\",\"felt\",\"time\",\"it&#039;s\",\"also\",\"one\",\"pill\",\"doctor\",\"still\",\"back\",\"never\",\"3\",\"days\",\"pain\",\"took\",\"got\",\"feel\",\"2\",\"take\",\"months\",\"would\",\"day\",\"i&#039;ve\",\"first\",\"get\",\"started\",\"side\",\"like\",\"no\",\"taking\",\"i&#039;m\",\"\\\"i\",\"not\"],\"yaxis\":\"y\",\"type\":\"bar\"},{\"marker\":{\"color\":\"blue\"},\"orientation\":\"h\",\"showlegend\":false,\"x\":[16256,16799,16802,16835,17115,18595,18605,18628,18692,18757,19180,19418,19460,20360,20432,20512,20565,21842,22435,22588,22633,22791,22856,22881,22908,24401,25180,25735,25818,26252,26849,27612,29173,29390,30115,31364,33293,33544,34960,35860,35932,37583,39926,41978,43135,45594,51008,57212,64887,69402],\"xaxis\":\"x2\",\"y\":[\"didn&#039;t\",\"tried\",\"felt\",\"never\",\"bad\",\"week\",\"medication\",\"two\",\"pill\",\"period\",\"every\",\"went\",\"weeks\",\"much\",\"it.\",\"still\",\"weight\",\"since\",\"also\",\"doctor\",\"got\",\"don&#039;t\",\"back\",\"really\",\"took\",\"time\",\"one\",\"days\",\"3\",\"months\",\"it&#039;s\",\"effects\",\"2\",\"would\",\"pain\",\"i&#039;ve\",\"years\",\"feel\",\"day\",\"like\",\"started\",\"get\",\"first\",\"i&#039;m\",\"take\",\"taking\",\"side\",\"no\",\"\\\"i\",\"not\"],\"yaxis\":\"y2\",\"type\":\"bar\"}],                        {\"annotations\":[{\"font\":{\"size\":16},\"showarrow\":false,\"text\":\"Most used words of rating 1 to 5\",\"x\":0.225,\"xanchor\":\"center\",\"xref\":\"paper\",\"y\":1.0,\"yanchor\":\"bottom\",\"yref\":\"paper\"},{\"font\":{\"size\":16},\"showarrow\":false,\"text\":\"Most used words of rating 6 to 10\",\"x\":0.775,\"xanchor\":\"center\",\"xref\":\"paper\",\"y\":1.0,\"yanchor\":\"bottom\",\"yref\":\"paper\"}],\"height\":1200,\"paper_bgcolor\":\"rgb(233,233,233)\",\"template\":{\"data\":{\"barpolar\":[{\"marker\":{\"line\":{\"color\":\"#E5ECF6\",\"width\":0.5},\"pattern\":{\"fillmode\":\"overlay\",\"size\":10,\"solidity\":0.2}},\"type\":\"barpolar\"}],\"bar\":[{\"error_x\":{\"color\":\"#2a3f5f\"},\"error_y\":{\"color\":\"#2a3f5f\"},\"marker\":{\"line\":{\"color\":\"#E5ECF6\",\"width\":0.5},\"pattern\":{\"fillmode\":\"overlay\",\"size\":10,\"solidity\":0.2}},\"type\":\"bar\"}],\"carpet\":[{\"aaxis\":{\"endlinecolor\":\"#2a3f5f\",\"gridcolor\":\"white\",\"linecolor\":\"white\",\"minorgridcolor\":\"white\",\"startlinecolor\":\"#2a3f5f\"},\"baxis\":{\"endlinecolor\":\"#2a3f5f\",\"gridcolor\":\"white\",\"linecolor\":\"white\",\"minorgridcolor\":\"white\",\"startlinecolor\":\"#2a3f5f\"},\"type\":\"carpet\"}],\"choropleth\":[{\"colorbar\":{\"outlinewidth\":0,\"ticks\":\"\"},\"type\":\"choropleth\"}],\"contourcarpet\":[{\"colorbar\":{\"outlinewidth\":0,\"ticks\":\"\"},\"type\":\"contourcarpet\"}],\"contour\":[{\"colorbar\":{\"outlinewidth\":0,\"ticks\":\"\"},\"colorscale\":[[0.0,\"#0d0887\"],[0.1111111111111111,\"#46039f\"],[0.2222222222222222,\"#7201a8\"],[0.3333333333333333,\"#9c179e\"],[0.4444444444444444,\"#bd3786\"],[0.5555555555555556,\"#d8576b\"],[0.6666666666666666,\"#ed7953\"],[0.7777777777777778,\"#fb9f3a\"],[0.8888888888888888,\"#fdca26\"],[1.0,\"#f0f921\"]],\"type\":\"contour\"}],\"heatmapgl\":[{\"colorbar\":{\"outlinewidth\":0,\"ticks\":\"\"},\"colorscale\":[[0.0,\"#0d0887\"],[0.1111111111111111,\"#46039f\"],[0.2222222222222222,\"#7201a8\"],[0.3333333333333333,\"#9c179e\"],[0.4444444444444444,\"#bd3786\"],[0.5555555555555556,\"#d8576b\"],[0.6666666666666666,\"#ed7953\"],[0.7777777777777778,\"#fb9f3a\"],[0.8888888888888888,\"#fdca26\"],[1.0,\"#f0f921\"]],\"type\":\"heatmapgl\"}],\"heatmap\":[{\"colorbar\":{\"outlinewidth\":0,\"ticks\":\"\"},\"colorscale\":[[0.0,\"#0d0887\"],[0.1111111111111111,\"#46039f\"],[0.2222222222222222,\"#7201a8\"],[0.3333333333333333,\"#9c179e\"],[0.4444444444444444,\"#bd3786\"],[0.5555555555555556,\"#d8576b\"],[0.6666666666666666,\"#ed7953\"],[0.7777777777777778,\"#fb9f3a\"],[0.8888888888888888,\"#fdca26\"],[1.0,\"#f0f921\"]],\"type\":\"heatmap\"}],\"histogram2dcontour\":[{\"colorbar\":{\"outlinewidth\":0,\"ticks\":\"\"},\"colorscale\":[[0.0,\"#0d0887\"],[0.1111111111111111,\"#46039f\"],[0.2222222222222222,\"#7201a8\"],[0.3333333333333333,\"#9c179e\"],[0.4444444444444444,\"#bd3786\"],[0.5555555555555556,\"#d8576b\"],[0.6666666666666666,\"#ed7953\"],[0.7777777777777778,\"#fb9f3a\"],[0.8888888888888888,\"#fdca26\"],[1.0,\"#f0f921\"]],\"type\":\"histogram2dcontour\"}],\"histogram2d\":[{\"colorbar\":{\"outlinewidth\":0,\"ticks\":\"\"},\"colorscale\":[[0.0,\"#0d0887\"],[0.1111111111111111,\"#46039f\"],[0.2222222222222222,\"#7201a8\"],[0.3333333333333333,\"#9c179e\"],[0.4444444444444444,\"#bd3786\"],[0.5555555555555556,\"#d8576b\"],[0.6666666666666666,\"#ed7953\"],[0.7777777777777778,\"#fb9f3a\"],[0.8888888888888888,\"#fdca26\"],[1.0,\"#f0f921\"]],\"type\":\"histogram2d\"}],\"histogram\":[{\"marker\":{\"pattern\":{\"fillmode\":\"overlay\",\"size\":10,\"solidity\":0.2}},\"type\":\"histogram\"}],\"mesh3d\":[{\"colorbar\":{\"outlinewidth\":0,\"ticks\":\"\"},\"type\":\"mesh3d\"}],\"parcoords\":[{\"line\":{\"colorbar\":{\"outlinewidth\":0,\"ticks\":\"\"}},\"type\":\"parcoords\"}],\"pie\":[{\"automargin\":true,\"type\":\"pie\"}],\"scatter3d\":[{\"line\":{\"colorbar\":{\"outlinewidth\":0,\"ticks\":\"\"}},\"marker\":{\"colorbar\":{\"outlinewidth\":0,\"ticks\":\"\"}},\"type\":\"scatter3d\"}],\"scattercarpet\":[{\"marker\":{\"colorbar\":{\"outlinewidth\":0,\"ticks\":\"\"}},\"type\":\"scattercarpet\"}],\"scattergeo\":[{\"marker\":{\"colorbar\":{\"outlinewidth\":0,\"ticks\":\"\"}},\"type\":\"scattergeo\"}],\"scattergl\":[{\"marker\":{\"colorbar\":{\"outlinewidth\":0,\"ticks\":\"\"}},\"type\":\"scattergl\"}],\"scattermapbox\":[{\"marker\":{\"colorbar\":{\"outlinewidth\":0,\"ticks\":\"\"}},\"type\":\"scattermapbox\"}],\"scatterpolargl\":[{\"marker\":{\"colorbar\":{\"outlinewidth\":0,\"ticks\":\"\"}},\"type\":\"scatterpolargl\"}],\"scatterpolar\":[{\"marker\":{\"colorbar\":{\"outlinewidth\":0,\"ticks\":\"\"}},\"type\":\"scatterpolar\"}],\"scatter\":[{\"fillpattern\":{\"fillmode\":\"overlay\",\"size\":10,\"solidity\":0.2},\"type\":\"scatter\"}],\"scatterternary\":[{\"marker\":{\"colorbar\":{\"outlinewidth\":0,\"ticks\":\"\"}},\"type\":\"scatterternary\"}],\"surface\":[{\"colorbar\":{\"outlinewidth\":0,\"ticks\":\"\"},\"colorscale\":[[0.0,\"#0d0887\"],[0.1111111111111111,\"#46039f\"],[0.2222222222222222,\"#7201a8\"],[0.3333333333333333,\"#9c179e\"],[0.4444444444444444,\"#bd3786\"],[0.5555555555555556,\"#d8576b\"],[0.6666666666666666,\"#ed7953\"],[0.7777777777777778,\"#fb9f3a\"],[0.8888888888888888,\"#fdca26\"],[1.0,\"#f0f921\"]],\"type\":\"surface\"}],\"table\":[{\"cells\":{\"fill\":{\"color\":\"#EBF0F8\"},\"line\":{\"color\":\"white\"}},\"header\":{\"fill\":{\"color\":\"#C8D4E3\"},\"line\":{\"color\":\"white\"}},\"type\":\"table\"}]},\"layout\":{\"annotationdefaults\":{\"arrowcolor\":\"#2a3f5f\",\"arrowhead\":0,\"arrowwidth\":1},\"autotypenumbers\":\"strict\",\"coloraxis\":{\"colorbar\":{\"outlinewidth\":0,\"ticks\":\"\"}},\"colorscale\":{\"diverging\":[[0,\"#8e0152\"],[0.1,\"#c51b7d\"],[0.2,\"#de77ae\"],[0.3,\"#f1b6da\"],[0.4,\"#fde0ef\"],[0.5,\"#f7f7f7\"],[0.6,\"#e6f5d0\"],[0.7,\"#b8e186\"],[0.8,\"#7fbc41\"],[0.9,\"#4d9221\"],[1,\"#276419\"]],\"sequential\":[[0.0,\"#0d0887\"],[0.1111111111111111,\"#46039f\"],[0.2222222222222222,\"#7201a8\"],[0.3333333333333333,\"#9c179e\"],[0.4444444444444444,\"#bd3786\"],[0.5555555555555556,\"#d8576b\"],[0.6666666666666666,\"#ed7953\"],[0.7777777777777778,\"#fb9f3a\"],[0.8888888888888888,\"#fdca26\"],[1.0,\"#f0f921\"]],\"sequentialminus\":[[0.0,\"#0d0887\"],[0.1111111111111111,\"#46039f\"],[0.2222222222222222,\"#7201a8\"],[0.3333333333333333,\"#9c179e\"],[0.4444444444444444,\"#bd3786\"],[0.5555555555555556,\"#d8576b\"],[0.6666666666666666,\"#ed7953\"],[0.7777777777777778,\"#fb9f3a\"],[0.8888888888888888,\"#fdca26\"],[1.0,\"#f0f921\"]]},\"colorway\":[\"#636efa\",\"#EF553B\",\"#00cc96\",\"#ab63fa\",\"#FFA15A\",\"#19d3f3\",\"#FF6692\",\"#B6E880\",\"#FF97FF\",\"#FECB52\"],\"font\":{\"color\":\"#2a3f5f\"},\"geo\":{\"bgcolor\":\"white\",\"lakecolor\":\"white\",\"landcolor\":\"#E5ECF6\",\"showlakes\":true,\"showland\":true,\"subunitcolor\":\"white\"},\"hoverlabel\":{\"align\":\"left\"},\"hovermode\":\"closest\",\"mapbox\":{\"style\":\"light\"},\"paper_bgcolor\":\"white\",\"plot_bgcolor\":\"#E5ECF6\",\"polar\":{\"angularaxis\":{\"gridcolor\":\"white\",\"linecolor\":\"white\",\"ticks\":\"\"},\"bgcolor\":\"#E5ECF6\",\"radialaxis\":{\"gridcolor\":\"white\",\"linecolor\":\"white\",\"ticks\":\"\"}},\"scene\":{\"xaxis\":{\"backgroundcolor\":\"#E5ECF6\",\"gridcolor\":\"white\",\"gridwidth\":2,\"linecolor\":\"white\",\"showbackground\":true,\"ticks\":\"\",\"zerolinecolor\":\"white\"},\"yaxis\":{\"backgroundcolor\":\"#E5ECF6\",\"gridcolor\":\"white\",\"gridwidth\":2,\"linecolor\":\"white\",\"showbackground\":true,\"ticks\":\"\",\"zerolinecolor\":\"white\"},\"zaxis\":{\"backgroundcolor\":\"#E5ECF6\",\"gridcolor\":\"white\",\"gridwidth\":2,\"linecolor\":\"white\",\"showbackground\":true,\"ticks\":\"\",\"zerolinecolor\":\"white\"}},\"shapedefaults\":{\"line\":{\"color\":\"#2a3f5f\"}},\"ternary\":{\"aaxis\":{\"gridcolor\":\"white\",\"linecolor\":\"white\",\"ticks\":\"\"},\"baxis\":{\"gridcolor\":\"white\",\"linecolor\":\"white\",\"ticks\":\"\"},\"bgcolor\":\"#E5ECF6\",\"caxis\":{\"gridcolor\":\"white\",\"linecolor\":\"white\",\"ticks\":\"\"}},\"title\":{\"x\":0.05},\"xaxis\":{\"automargin\":true,\"gridcolor\":\"white\",\"linecolor\":\"white\",\"ticks\":\"\",\"title\":{\"standoff\":15},\"zerolinecolor\":\"white\",\"zerolinewidth\":2},\"yaxis\":{\"automargin\":true,\"gridcolor\":\"white\",\"linecolor\":\"white\",\"ticks\":\"\",\"title\":{\"standoff\":15},\"zerolinecolor\":\"white\",\"zerolinewidth\":2}}},\"title\":{\"text\":\"Word Count Plots\"},\"width\":900,\"xaxis\":{\"anchor\":\"y\",\"domain\":[0.0,0.45]},\"yaxis\":{\"anchor\":\"x\",\"domain\":[0.0,1.0]},\"xaxis2\":{\"anchor\":\"y2\",\"domain\":[0.55,1.0]},\"yaxis2\":{\"anchor\":\"x2\",\"domain\":[0.0,1.0]}},                        {\"responsive\": true}                    ).then(function(){\n",
       "                            \n",
       "var gd = document.getElementById('cfa676bf-2df9-46d3-8126-4603cb69b6ee');\n",
       "var x = new MutationObserver(function (mutations, observer) {{\n",
       "        var display = window.getComputedStyle(gd).display;\n",
       "        if (!display || display === 'none') {{\n",
       "            console.log([gd, 'removed!']);\n",
       "            Plotly.purge(gd);\n",
       "            observer.disconnect();\n",
       "        }}\n",
       "}});\n",
       "\n",
       "// Listen for the removal of the full notebook cells\n",
       "var notebookContainer = gd.closest('#notebook-container');\n",
       "if (notebookContainer) {{\n",
       "    x.observe(notebookContainer, {childList: true});\n",
       "}}\n",
       "\n",
       "// Listen for the clearing of the current output cell\n",
       "var outputEl = gd.closest('.output');\n",
       "if (outputEl) {{\n",
       "    x.observe(outputEl, {childList: true});\n",
       "}}\n",
       "\n",
       "                        })                };                });            </script>        </div>"
      ]
     },
     "metadata": {},
     "output_type": "display_data"
    }
   ],
   "source": [
    "from collections import defaultdict\n",
    "from plotly import tools\n",
    "import plotly.offline as py\n",
    "py.init_notebook_mode(connected=True)\n",
    "import plotly.graph_objs as go\n",
    "#get the bar chart from rating 1 to 5\n",
    "\n",
    "freq_dict = defaultdict(int)\n",
    "for sent in df_all_1_5['review']:\n",
    "    for word in generate_ngrams(sent, 1):\n",
    "        freq_dict[word] += 1\n",
    "        \n",
    "fd_sorted_1_5 = pd.DataFrame(sorted(freq_dict.items(), key=lambda x: x[1])[::-1])\n",
    "#the same as: pd.DataFrame(freq_dict.items, columns=['word','freq']).sort_values('freq', ascending=False)\n",
    "fd_sorted_1_5.columns = ['word', 'wordcount']\n",
    "trace0 = horizontal_bar_chart(fd_sorted_1_5.head(50), 'blue')\n",
    "\n",
    "#get the bar chart from rating 6 to 10\n",
    "\n",
    "freq_dict = defaultdict(int)\n",
    "for sent in df_all_6_10['review']:\n",
    "    for word in generate_ngrams(sent, 1):\n",
    "        freq_dict[word] += 1\n",
    "        \n",
    "fd_sorted_6_10 = pd.DataFrame(sorted(freq_dict.items(), key=lambda x: x[1])[::-1])\n",
    "#the same as: pd.DataFrame(freq_dict.items, columns=['word','freq']).sort_values('freq', ascending=False)\n",
    "fd_sorted_6_10.columns = ['word', 'wordcount']\n",
    "trace1 = horizontal_bar_chart(fd_sorted_6_10.head(50), 'blue')\n",
    "\n",
    "#create two subplots\n",
    "fig = tools.make_subplots(rows=1, cols=2, vertical_spacing=0.04,\n",
    "                         subplot_titles= ['Most used words of rating 1 to 5',\n",
    "                                         'Most used words of rating 6 to 10'])\n",
    "fig.append_trace(trace0, 1, 1)\n",
    "fig.append_trace(trace1, 1, 2)\n",
    "fig['layout'].update(height=1200, width=900, paper_bgcolor='rgb(233,233,233)', title=\"Word Count Plots\")\n",
    "py.iplot(fig, filename='word-plots')"
   ]
  },
  {
   "cell_type": "code",
   "execution_count": 47,
   "id": "b1ebe8ac",
   "metadata": {
    "hidden": true
   },
   "outputs": [
    {
     "name": "stdout",
     "output_type": "stream",
     "text": [
      "There are 45 most used words that are shared in both dataframes\n"
     ]
    }
   ],
   "source": [
    "count = fd_sorted_1_5.head(50)['word'].isin(fd_sorted_6_10.head(50)['word']).sum()\n",
    "print(f'There are {count} most used words that are shared in both dataframes')"
   ]
  },
  {
   "cell_type": "markdown",
   "id": "52fb4caf",
   "metadata": {
    "hidden": true
   },
   "source": [
    "##### 1 N-gram is not enough to distinguish between a bad and a good review. Let's try with 2 N-grams"
   ]
  },
  {
   "cell_type": "code",
   "execution_count": 48,
   "id": "95ec7a12",
   "metadata": {
    "hidden": true
   },
   "outputs": [
    {
     "name": "stderr",
     "output_type": "stream",
     "text": [
      "/Users/eduardomonteiro/.pyenv/versions/3.10.6/envs/lewagon/lib/python3.10/site-packages/plotly/tools.py:460: DeprecationWarning:\n",
      "\n",
      "plotly.tools.make_subplots is deprecated, please use plotly.subplots.make_subplots instead\n",
      "\n"
     ]
    },
    {
     "data": {
      "application/vnd.plotly.v1+json": {
       "config": {
        "linkText": "Export to plot.ly",
        "plotlyServerURL": "https://plot.ly",
        "showLink": false
       },
       "data": [
        {
         "marker": {
          "color": "blue"
         },
         "orientation": "h",
         "showlegend": false,
         "type": "bar",
         "x": [
          887,
          891,
          896,
          906,
          955,
          972,
          977,
          986,
          1017,
          1019,
          1020,
          1021,
          1033,
          1041,
          1063,
          1165,
          1176,
          1249,
          1273,
          1286,
          1310,
          1325,
          1325,
          1327,
          1330,
          1351,
          1356,
          1427,
          1460,
          1515,
          1520,
          1555,
          1578,
          1619,
          1647,
          1699,
          1701,
          1874,
          1883,
          1975,
          2019,
          2027,
          2110,
          2217,
          2448,
          2450,
          2584,
          2904,
          5682,
          8658
         ],
         "xaxis": "x",
         "y": [
          "no longer",
          "really bad",
          "made feel",
          "2 years",
          "go back",
          "4 months",
          "it&#039;s not",
          "i&#039;m still",
          "\"i prescribed",
          "i&#039;ve never",
          "taking it.",
          "not work",
          "2 days",
          "\"i taking",
          "no side",
          "birth control.",
          "first time",
          "not take",
          "\"i got",
          "mood swings,",
          "3 weeks",
          "stop taking",
          "i&#039;m going",
          "3 days",
          "don&#039;t know",
          "blood pressure",
          "two weeks",
          "not sure",
          "2 months",
          "weight gain",
          "side effect",
          "not worth",
          "not recommend",
          "would not",
          "6 months",
          "sex drive",
          "could not",
          "2 weeks",
          "\"i took",
          "stopped taking",
          "mood swings",
          "3 months",
          "\"i started",
          "i&#039;m not",
          "started taking",
          "side effects.",
          "felt like",
          "feel like",
          "birth control",
          "side effects"
         ],
         "yaxis": "y"
        },
        {
         "marker": {
          "color": "blue"
         },
         "orientation": "h",
         "showlegend": false,
         "type": "bar",
         "x": [
          1820,
          1838,
          1871,
          1873,
          1879,
          1909,
          1976,
          1979,
          2042,
          2068,
          2073,
          2101,
          2168,
          2208,
          2249,
          2370,
          2429,
          2492,
          2492,
          2511,
          2547,
          2549,
          2589,
          2613,
          2625,
          2707,
          2719,
          2793,
          2815,
          2820,
          2834,
          2907,
          3150,
          3364,
          3396,
          3554,
          3658,
          3737,
          3790,
          3941,
          4022,
          4093,
          5512,
          5522,
          5888,
          6714,
          8006,
          8573,
          9108,
          25112
         ],
         "xaxis": "x2",
         "y": [
          "birth control.",
          "4 months",
          "\"i got",
          "plan b",
          "it&#039;s not",
          "first day",
          "first month",
          "side effects.\"",
          "weight gain,",
          "no weight",
          "don&#039;t know",
          "2 days",
          "panic attacks",
          "3 years",
          "first week",
          "not sure",
          "highly recommend",
          "much better",
          "years old",
          "doctor prescribed",
          "could not",
          "3 weeks",
          "would recommend",
          "blood pressure",
          "year old",
          "years ago",
          "3 days",
          "2 years",
          "two weeks",
          "mood swings",
          "sex drive",
          "2 months",
          "6 months",
          "side effects,",
          "felt like",
          "weight gain",
          "\"i taking",
          "no longer",
          "3 months",
          "2 weeks",
          "i&#039;m not",
          "first time",
          "\"i started",
          "feel like",
          "side effect",
          "started taking",
          "side effects.",
          "birth control",
          "no side",
          "side effects"
         ],
         "yaxis": "y2"
        }
       ],
       "layout": {
        "annotations": [
         {
          "font": {
           "size": 16
          },
          "showarrow": false,
          "text": "Most used words of rating 1 to 5",
          "x": 0.225,
          "xanchor": "center",
          "xref": "paper",
          "y": 1,
          "yanchor": "bottom",
          "yref": "paper"
         },
         {
          "font": {
           "size": 16
          },
          "showarrow": false,
          "text": "Most used words of rating 6 to 10",
          "x": 0.775,
          "xanchor": "center",
          "xref": "paper",
          "y": 1,
          "yanchor": "bottom",
          "yref": "paper"
         }
        ],
        "height": 1200,
        "paper_bgcolor": "rgb(233,233,233)",
        "template": {
         "data": {
          "bar": [
           {
            "error_x": {
             "color": "#2a3f5f"
            },
            "error_y": {
             "color": "#2a3f5f"
            },
            "marker": {
             "line": {
              "color": "#E5ECF6",
              "width": 0.5
             },
             "pattern": {
              "fillmode": "overlay",
              "size": 10,
              "solidity": 0.2
             }
            },
            "type": "bar"
           }
          ],
          "barpolar": [
           {
            "marker": {
             "line": {
              "color": "#E5ECF6",
              "width": 0.5
             },
             "pattern": {
              "fillmode": "overlay",
              "size": 10,
              "solidity": 0.2
             }
            },
            "type": "barpolar"
           }
          ],
          "carpet": [
           {
            "aaxis": {
             "endlinecolor": "#2a3f5f",
             "gridcolor": "white",
             "linecolor": "white",
             "minorgridcolor": "white",
             "startlinecolor": "#2a3f5f"
            },
            "baxis": {
             "endlinecolor": "#2a3f5f",
             "gridcolor": "white",
             "linecolor": "white",
             "minorgridcolor": "white",
             "startlinecolor": "#2a3f5f"
            },
            "type": "carpet"
           }
          ],
          "choropleth": [
           {
            "colorbar": {
             "outlinewidth": 0,
             "ticks": ""
            },
            "type": "choropleth"
           }
          ],
          "contour": [
           {
            "colorbar": {
             "outlinewidth": 0,
             "ticks": ""
            },
            "colorscale": [
             [
              0,
              "#0d0887"
             ],
             [
              0.1111111111111111,
              "#46039f"
             ],
             [
              0.2222222222222222,
              "#7201a8"
             ],
             [
              0.3333333333333333,
              "#9c179e"
             ],
             [
              0.4444444444444444,
              "#bd3786"
             ],
             [
              0.5555555555555556,
              "#d8576b"
             ],
             [
              0.6666666666666666,
              "#ed7953"
             ],
             [
              0.7777777777777778,
              "#fb9f3a"
             ],
             [
              0.8888888888888888,
              "#fdca26"
             ],
             [
              1,
              "#f0f921"
             ]
            ],
            "type": "contour"
           }
          ],
          "contourcarpet": [
           {
            "colorbar": {
             "outlinewidth": 0,
             "ticks": ""
            },
            "type": "contourcarpet"
           }
          ],
          "heatmap": [
           {
            "colorbar": {
             "outlinewidth": 0,
             "ticks": ""
            },
            "colorscale": [
             [
              0,
              "#0d0887"
             ],
             [
              0.1111111111111111,
              "#46039f"
             ],
             [
              0.2222222222222222,
              "#7201a8"
             ],
             [
              0.3333333333333333,
              "#9c179e"
             ],
             [
              0.4444444444444444,
              "#bd3786"
             ],
             [
              0.5555555555555556,
              "#d8576b"
             ],
             [
              0.6666666666666666,
              "#ed7953"
             ],
             [
              0.7777777777777778,
              "#fb9f3a"
             ],
             [
              0.8888888888888888,
              "#fdca26"
             ],
             [
              1,
              "#f0f921"
             ]
            ],
            "type": "heatmap"
           }
          ],
          "heatmapgl": [
           {
            "colorbar": {
             "outlinewidth": 0,
             "ticks": ""
            },
            "colorscale": [
             [
              0,
              "#0d0887"
             ],
             [
              0.1111111111111111,
              "#46039f"
             ],
             [
              0.2222222222222222,
              "#7201a8"
             ],
             [
              0.3333333333333333,
              "#9c179e"
             ],
             [
              0.4444444444444444,
              "#bd3786"
             ],
             [
              0.5555555555555556,
              "#d8576b"
             ],
             [
              0.6666666666666666,
              "#ed7953"
             ],
             [
              0.7777777777777778,
              "#fb9f3a"
             ],
             [
              0.8888888888888888,
              "#fdca26"
             ],
             [
              1,
              "#f0f921"
             ]
            ],
            "type": "heatmapgl"
           }
          ],
          "histogram": [
           {
            "marker": {
             "pattern": {
              "fillmode": "overlay",
              "size": 10,
              "solidity": 0.2
             }
            },
            "type": "histogram"
           }
          ],
          "histogram2d": [
           {
            "colorbar": {
             "outlinewidth": 0,
             "ticks": ""
            },
            "colorscale": [
             [
              0,
              "#0d0887"
             ],
             [
              0.1111111111111111,
              "#46039f"
             ],
             [
              0.2222222222222222,
              "#7201a8"
             ],
             [
              0.3333333333333333,
              "#9c179e"
             ],
             [
              0.4444444444444444,
              "#bd3786"
             ],
             [
              0.5555555555555556,
              "#d8576b"
             ],
             [
              0.6666666666666666,
              "#ed7953"
             ],
             [
              0.7777777777777778,
              "#fb9f3a"
             ],
             [
              0.8888888888888888,
              "#fdca26"
             ],
             [
              1,
              "#f0f921"
             ]
            ],
            "type": "histogram2d"
           }
          ],
          "histogram2dcontour": [
           {
            "colorbar": {
             "outlinewidth": 0,
             "ticks": ""
            },
            "colorscale": [
             [
              0,
              "#0d0887"
             ],
             [
              0.1111111111111111,
              "#46039f"
             ],
             [
              0.2222222222222222,
              "#7201a8"
             ],
             [
              0.3333333333333333,
              "#9c179e"
             ],
             [
              0.4444444444444444,
              "#bd3786"
             ],
             [
              0.5555555555555556,
              "#d8576b"
             ],
             [
              0.6666666666666666,
              "#ed7953"
             ],
             [
              0.7777777777777778,
              "#fb9f3a"
             ],
             [
              0.8888888888888888,
              "#fdca26"
             ],
             [
              1,
              "#f0f921"
             ]
            ],
            "type": "histogram2dcontour"
           }
          ],
          "mesh3d": [
           {
            "colorbar": {
             "outlinewidth": 0,
             "ticks": ""
            },
            "type": "mesh3d"
           }
          ],
          "parcoords": [
           {
            "line": {
             "colorbar": {
              "outlinewidth": 0,
              "ticks": ""
             }
            },
            "type": "parcoords"
           }
          ],
          "pie": [
           {
            "automargin": true,
            "type": "pie"
           }
          ],
          "scatter": [
           {
            "fillpattern": {
             "fillmode": "overlay",
             "size": 10,
             "solidity": 0.2
            },
            "type": "scatter"
           }
          ],
          "scatter3d": [
           {
            "line": {
             "colorbar": {
              "outlinewidth": 0,
              "ticks": ""
             }
            },
            "marker": {
             "colorbar": {
              "outlinewidth": 0,
              "ticks": ""
             }
            },
            "type": "scatter3d"
           }
          ],
          "scattercarpet": [
           {
            "marker": {
             "colorbar": {
              "outlinewidth": 0,
              "ticks": ""
             }
            },
            "type": "scattercarpet"
           }
          ],
          "scattergeo": [
           {
            "marker": {
             "colorbar": {
              "outlinewidth": 0,
              "ticks": ""
             }
            },
            "type": "scattergeo"
           }
          ],
          "scattergl": [
           {
            "marker": {
             "colorbar": {
              "outlinewidth": 0,
              "ticks": ""
             }
            },
            "type": "scattergl"
           }
          ],
          "scattermapbox": [
           {
            "marker": {
             "colorbar": {
              "outlinewidth": 0,
              "ticks": ""
             }
            },
            "type": "scattermapbox"
           }
          ],
          "scatterpolar": [
           {
            "marker": {
             "colorbar": {
              "outlinewidth": 0,
              "ticks": ""
             }
            },
            "type": "scatterpolar"
           }
          ],
          "scatterpolargl": [
           {
            "marker": {
             "colorbar": {
              "outlinewidth": 0,
              "ticks": ""
             }
            },
            "type": "scatterpolargl"
           }
          ],
          "scatterternary": [
           {
            "marker": {
             "colorbar": {
              "outlinewidth": 0,
              "ticks": ""
             }
            },
            "type": "scatterternary"
           }
          ],
          "surface": [
           {
            "colorbar": {
             "outlinewidth": 0,
             "ticks": ""
            },
            "colorscale": [
             [
              0,
              "#0d0887"
             ],
             [
              0.1111111111111111,
              "#46039f"
             ],
             [
              0.2222222222222222,
              "#7201a8"
             ],
             [
              0.3333333333333333,
              "#9c179e"
             ],
             [
              0.4444444444444444,
              "#bd3786"
             ],
             [
              0.5555555555555556,
              "#d8576b"
             ],
             [
              0.6666666666666666,
              "#ed7953"
             ],
             [
              0.7777777777777778,
              "#fb9f3a"
             ],
             [
              0.8888888888888888,
              "#fdca26"
             ],
             [
              1,
              "#f0f921"
             ]
            ],
            "type": "surface"
           }
          ],
          "table": [
           {
            "cells": {
             "fill": {
              "color": "#EBF0F8"
             },
             "line": {
              "color": "white"
             }
            },
            "header": {
             "fill": {
              "color": "#C8D4E3"
             },
             "line": {
              "color": "white"
             }
            },
            "type": "table"
           }
          ]
         },
         "layout": {
          "annotationdefaults": {
           "arrowcolor": "#2a3f5f",
           "arrowhead": 0,
           "arrowwidth": 1
          },
          "autotypenumbers": "strict",
          "coloraxis": {
           "colorbar": {
            "outlinewidth": 0,
            "ticks": ""
           }
          },
          "colorscale": {
           "diverging": [
            [
             0,
             "#8e0152"
            ],
            [
             0.1,
             "#c51b7d"
            ],
            [
             0.2,
             "#de77ae"
            ],
            [
             0.3,
             "#f1b6da"
            ],
            [
             0.4,
             "#fde0ef"
            ],
            [
             0.5,
             "#f7f7f7"
            ],
            [
             0.6,
             "#e6f5d0"
            ],
            [
             0.7,
             "#b8e186"
            ],
            [
             0.8,
             "#7fbc41"
            ],
            [
             0.9,
             "#4d9221"
            ],
            [
             1,
             "#276419"
            ]
           ],
           "sequential": [
            [
             0,
             "#0d0887"
            ],
            [
             0.1111111111111111,
             "#46039f"
            ],
            [
             0.2222222222222222,
             "#7201a8"
            ],
            [
             0.3333333333333333,
             "#9c179e"
            ],
            [
             0.4444444444444444,
             "#bd3786"
            ],
            [
             0.5555555555555556,
             "#d8576b"
            ],
            [
             0.6666666666666666,
             "#ed7953"
            ],
            [
             0.7777777777777778,
             "#fb9f3a"
            ],
            [
             0.8888888888888888,
             "#fdca26"
            ],
            [
             1,
             "#f0f921"
            ]
           ],
           "sequentialminus": [
            [
             0,
             "#0d0887"
            ],
            [
             0.1111111111111111,
             "#46039f"
            ],
            [
             0.2222222222222222,
             "#7201a8"
            ],
            [
             0.3333333333333333,
             "#9c179e"
            ],
            [
             0.4444444444444444,
             "#bd3786"
            ],
            [
             0.5555555555555556,
             "#d8576b"
            ],
            [
             0.6666666666666666,
             "#ed7953"
            ],
            [
             0.7777777777777778,
             "#fb9f3a"
            ],
            [
             0.8888888888888888,
             "#fdca26"
            ],
            [
             1,
             "#f0f921"
            ]
           ]
          },
          "colorway": [
           "#636efa",
           "#EF553B",
           "#00cc96",
           "#ab63fa",
           "#FFA15A",
           "#19d3f3",
           "#FF6692",
           "#B6E880",
           "#FF97FF",
           "#FECB52"
          ],
          "font": {
           "color": "#2a3f5f"
          },
          "geo": {
           "bgcolor": "white",
           "lakecolor": "white",
           "landcolor": "#E5ECF6",
           "showlakes": true,
           "showland": true,
           "subunitcolor": "white"
          },
          "hoverlabel": {
           "align": "left"
          },
          "hovermode": "closest",
          "mapbox": {
           "style": "light"
          },
          "paper_bgcolor": "white",
          "plot_bgcolor": "#E5ECF6",
          "polar": {
           "angularaxis": {
            "gridcolor": "white",
            "linecolor": "white",
            "ticks": ""
           },
           "bgcolor": "#E5ECF6",
           "radialaxis": {
            "gridcolor": "white",
            "linecolor": "white",
            "ticks": ""
           }
          },
          "scene": {
           "xaxis": {
            "backgroundcolor": "#E5ECF6",
            "gridcolor": "white",
            "gridwidth": 2,
            "linecolor": "white",
            "showbackground": true,
            "ticks": "",
            "zerolinecolor": "white"
           },
           "yaxis": {
            "backgroundcolor": "#E5ECF6",
            "gridcolor": "white",
            "gridwidth": 2,
            "linecolor": "white",
            "showbackground": true,
            "ticks": "",
            "zerolinecolor": "white"
           },
           "zaxis": {
            "backgroundcolor": "#E5ECF6",
            "gridcolor": "white",
            "gridwidth": 2,
            "linecolor": "white",
            "showbackground": true,
            "ticks": "",
            "zerolinecolor": "white"
           }
          },
          "shapedefaults": {
           "line": {
            "color": "#2a3f5f"
           }
          },
          "ternary": {
           "aaxis": {
            "gridcolor": "white",
            "linecolor": "white",
            "ticks": ""
           },
           "baxis": {
            "gridcolor": "white",
            "linecolor": "white",
            "ticks": ""
           },
           "bgcolor": "#E5ECF6",
           "caxis": {
            "gridcolor": "white",
            "linecolor": "white",
            "ticks": ""
           }
          },
          "title": {
           "x": 0.05
          },
          "xaxis": {
           "automargin": true,
           "gridcolor": "white",
           "linecolor": "white",
           "ticks": "",
           "title": {
            "standoff": 15
           },
           "zerolinecolor": "white",
           "zerolinewidth": 2
          },
          "yaxis": {
           "automargin": true,
           "gridcolor": "white",
           "linecolor": "white",
           "ticks": "",
           "title": {
            "standoff": 15
           },
           "zerolinecolor": "white",
           "zerolinewidth": 2
          }
         }
        },
        "title": {
         "text": "Word Count Plots"
        },
        "width": 900,
        "xaxis": {
         "anchor": "y",
         "domain": [
          0,
          0.45
         ]
        },
        "xaxis2": {
         "anchor": "y2",
         "domain": [
          0.55,
          1
         ]
        },
        "yaxis": {
         "anchor": "x",
         "domain": [
          0,
          1
         ]
        },
        "yaxis2": {
         "anchor": "x2",
         "domain": [
          0,
          1
         ]
        }
       }
      },
      "text/html": [
       "<div>                            <div id=\"6c0a8ed1-5d26-4606-b91b-a2bac09842ed\" class=\"plotly-graph-div\" style=\"height:1200px; width:900px;\"></div>            <script type=\"text/javascript\">                require([\"plotly\"], function(Plotly) {                    window.PLOTLYENV=window.PLOTLYENV || {};                                    if (document.getElementById(\"6c0a8ed1-5d26-4606-b91b-a2bac09842ed\")) {                    Plotly.newPlot(                        \"6c0a8ed1-5d26-4606-b91b-a2bac09842ed\",                        [{\"marker\":{\"color\":\"blue\"},\"orientation\":\"h\",\"showlegend\":false,\"x\":[887,891,896,906,955,972,977,986,1017,1019,1020,1021,1033,1041,1063,1165,1176,1249,1273,1286,1310,1325,1325,1327,1330,1351,1356,1427,1460,1515,1520,1555,1578,1619,1647,1699,1701,1874,1883,1975,2019,2027,2110,2217,2448,2450,2584,2904,5682,8658],\"xaxis\":\"x\",\"y\":[\"no longer\",\"really bad\",\"made feel\",\"2 years\",\"go back\",\"4 months\",\"it&#039;s not\",\"i&#039;m still\",\"\\\"i prescribed\",\"i&#039;ve never\",\"taking it.\",\"not work\",\"2 days\",\"\\\"i taking\",\"no side\",\"birth control.\",\"first time\",\"not take\",\"\\\"i got\",\"mood swings,\",\"3 weeks\",\"stop taking\",\"i&#039;m going\",\"3 days\",\"don&#039;t know\",\"blood pressure\",\"two weeks\",\"not sure\",\"2 months\",\"weight gain\",\"side effect\",\"not worth\",\"not recommend\",\"would not\",\"6 months\",\"sex drive\",\"could not\",\"2 weeks\",\"\\\"i took\",\"stopped taking\",\"mood swings\",\"3 months\",\"\\\"i started\",\"i&#039;m not\",\"started taking\",\"side effects.\",\"felt like\",\"feel like\",\"birth control\",\"side effects\"],\"yaxis\":\"y\",\"type\":\"bar\"},{\"marker\":{\"color\":\"blue\"},\"orientation\":\"h\",\"showlegend\":false,\"x\":[1820,1838,1871,1873,1879,1909,1976,1979,2042,2068,2073,2101,2168,2208,2249,2370,2429,2492,2492,2511,2547,2549,2589,2613,2625,2707,2719,2793,2815,2820,2834,2907,3150,3364,3396,3554,3658,3737,3790,3941,4022,4093,5512,5522,5888,6714,8006,8573,9108,25112],\"xaxis\":\"x2\",\"y\":[\"birth control.\",\"4 months\",\"\\\"i got\",\"plan b\",\"it&#039;s not\",\"first day\",\"first month\",\"side effects.\\\"\",\"weight gain,\",\"no weight\",\"don&#039;t know\",\"2 days\",\"panic attacks\",\"3 years\",\"first week\",\"not sure\",\"highly recommend\",\"much better\",\"years old\",\"doctor prescribed\",\"could not\",\"3 weeks\",\"would recommend\",\"blood pressure\",\"year old\",\"years ago\",\"3 days\",\"2 years\",\"two weeks\",\"mood swings\",\"sex drive\",\"2 months\",\"6 months\",\"side effects,\",\"felt like\",\"weight gain\",\"\\\"i taking\",\"no longer\",\"3 months\",\"2 weeks\",\"i&#039;m not\",\"first time\",\"\\\"i started\",\"feel like\",\"side effect\",\"started taking\",\"side effects.\",\"birth control\",\"no side\",\"side effects\"],\"yaxis\":\"y2\",\"type\":\"bar\"}],                        {\"annotations\":[{\"font\":{\"size\":16},\"showarrow\":false,\"text\":\"Most used words of rating 1 to 5\",\"x\":0.225,\"xanchor\":\"center\",\"xref\":\"paper\",\"y\":1.0,\"yanchor\":\"bottom\",\"yref\":\"paper\"},{\"font\":{\"size\":16},\"showarrow\":false,\"text\":\"Most used words of rating 6 to 10\",\"x\":0.775,\"xanchor\":\"center\",\"xref\":\"paper\",\"y\":1.0,\"yanchor\":\"bottom\",\"yref\":\"paper\"}],\"height\":1200,\"paper_bgcolor\":\"rgb(233,233,233)\",\"template\":{\"data\":{\"barpolar\":[{\"marker\":{\"line\":{\"color\":\"#E5ECF6\",\"width\":0.5},\"pattern\":{\"fillmode\":\"overlay\",\"size\":10,\"solidity\":0.2}},\"type\":\"barpolar\"}],\"bar\":[{\"error_x\":{\"color\":\"#2a3f5f\"},\"error_y\":{\"color\":\"#2a3f5f\"},\"marker\":{\"line\":{\"color\":\"#E5ECF6\",\"width\":0.5},\"pattern\":{\"fillmode\":\"overlay\",\"size\":10,\"solidity\":0.2}},\"type\":\"bar\"}],\"carpet\":[{\"aaxis\":{\"endlinecolor\":\"#2a3f5f\",\"gridcolor\":\"white\",\"linecolor\":\"white\",\"minorgridcolor\":\"white\",\"startlinecolor\":\"#2a3f5f\"},\"baxis\":{\"endlinecolor\":\"#2a3f5f\",\"gridcolor\":\"white\",\"linecolor\":\"white\",\"minorgridcolor\":\"white\",\"startlinecolor\":\"#2a3f5f\"},\"type\":\"carpet\"}],\"choropleth\":[{\"colorbar\":{\"outlinewidth\":0,\"ticks\":\"\"},\"type\":\"choropleth\"}],\"contourcarpet\":[{\"colorbar\":{\"outlinewidth\":0,\"ticks\":\"\"},\"type\":\"contourcarpet\"}],\"contour\":[{\"colorbar\":{\"outlinewidth\":0,\"ticks\":\"\"},\"colorscale\":[[0.0,\"#0d0887\"],[0.1111111111111111,\"#46039f\"],[0.2222222222222222,\"#7201a8\"],[0.3333333333333333,\"#9c179e\"],[0.4444444444444444,\"#bd3786\"],[0.5555555555555556,\"#d8576b\"],[0.6666666666666666,\"#ed7953\"],[0.7777777777777778,\"#fb9f3a\"],[0.8888888888888888,\"#fdca26\"],[1.0,\"#f0f921\"]],\"type\":\"contour\"}],\"heatmapgl\":[{\"colorbar\":{\"outlinewidth\":0,\"ticks\":\"\"},\"colorscale\":[[0.0,\"#0d0887\"],[0.1111111111111111,\"#46039f\"],[0.2222222222222222,\"#7201a8\"],[0.3333333333333333,\"#9c179e\"],[0.4444444444444444,\"#bd3786\"],[0.5555555555555556,\"#d8576b\"],[0.6666666666666666,\"#ed7953\"],[0.7777777777777778,\"#fb9f3a\"],[0.8888888888888888,\"#fdca26\"],[1.0,\"#f0f921\"]],\"type\":\"heatmapgl\"}],\"heatmap\":[{\"colorbar\":{\"outlinewidth\":0,\"ticks\":\"\"},\"colorscale\":[[0.0,\"#0d0887\"],[0.1111111111111111,\"#46039f\"],[0.2222222222222222,\"#7201a8\"],[0.3333333333333333,\"#9c179e\"],[0.4444444444444444,\"#bd3786\"],[0.5555555555555556,\"#d8576b\"],[0.6666666666666666,\"#ed7953\"],[0.7777777777777778,\"#fb9f3a\"],[0.8888888888888888,\"#fdca26\"],[1.0,\"#f0f921\"]],\"type\":\"heatmap\"}],\"histogram2dcontour\":[{\"colorbar\":{\"outlinewidth\":0,\"ticks\":\"\"},\"colorscale\":[[0.0,\"#0d0887\"],[0.1111111111111111,\"#46039f\"],[0.2222222222222222,\"#7201a8\"],[0.3333333333333333,\"#9c179e\"],[0.4444444444444444,\"#bd3786\"],[0.5555555555555556,\"#d8576b\"],[0.6666666666666666,\"#ed7953\"],[0.7777777777777778,\"#fb9f3a\"],[0.8888888888888888,\"#fdca26\"],[1.0,\"#f0f921\"]],\"type\":\"histogram2dcontour\"}],\"histogram2d\":[{\"colorbar\":{\"outlinewidth\":0,\"ticks\":\"\"},\"colorscale\":[[0.0,\"#0d0887\"],[0.1111111111111111,\"#46039f\"],[0.2222222222222222,\"#7201a8\"],[0.3333333333333333,\"#9c179e\"],[0.4444444444444444,\"#bd3786\"],[0.5555555555555556,\"#d8576b\"],[0.6666666666666666,\"#ed7953\"],[0.7777777777777778,\"#fb9f3a\"],[0.8888888888888888,\"#fdca26\"],[1.0,\"#f0f921\"]],\"type\":\"histogram2d\"}],\"histogram\":[{\"marker\":{\"pattern\":{\"fillmode\":\"overlay\",\"size\":10,\"solidity\":0.2}},\"type\":\"histogram\"}],\"mesh3d\":[{\"colorbar\":{\"outlinewidth\":0,\"ticks\":\"\"},\"type\":\"mesh3d\"}],\"parcoords\":[{\"line\":{\"colorbar\":{\"outlinewidth\":0,\"ticks\":\"\"}},\"type\":\"parcoords\"}],\"pie\":[{\"automargin\":true,\"type\":\"pie\"}],\"scatter3d\":[{\"line\":{\"colorbar\":{\"outlinewidth\":0,\"ticks\":\"\"}},\"marker\":{\"colorbar\":{\"outlinewidth\":0,\"ticks\":\"\"}},\"type\":\"scatter3d\"}],\"scattercarpet\":[{\"marker\":{\"colorbar\":{\"outlinewidth\":0,\"ticks\":\"\"}},\"type\":\"scattercarpet\"}],\"scattergeo\":[{\"marker\":{\"colorbar\":{\"outlinewidth\":0,\"ticks\":\"\"}},\"type\":\"scattergeo\"}],\"scattergl\":[{\"marker\":{\"colorbar\":{\"outlinewidth\":0,\"ticks\":\"\"}},\"type\":\"scattergl\"}],\"scattermapbox\":[{\"marker\":{\"colorbar\":{\"outlinewidth\":0,\"ticks\":\"\"}},\"type\":\"scattermapbox\"}],\"scatterpolargl\":[{\"marker\":{\"colorbar\":{\"outlinewidth\":0,\"ticks\":\"\"}},\"type\":\"scatterpolargl\"}],\"scatterpolar\":[{\"marker\":{\"colorbar\":{\"outlinewidth\":0,\"ticks\":\"\"}},\"type\":\"scatterpolar\"}],\"scatter\":[{\"fillpattern\":{\"fillmode\":\"overlay\",\"size\":10,\"solidity\":0.2},\"type\":\"scatter\"}],\"scatterternary\":[{\"marker\":{\"colorbar\":{\"outlinewidth\":0,\"ticks\":\"\"}},\"type\":\"scatterternary\"}],\"surface\":[{\"colorbar\":{\"outlinewidth\":0,\"ticks\":\"\"},\"colorscale\":[[0.0,\"#0d0887\"],[0.1111111111111111,\"#46039f\"],[0.2222222222222222,\"#7201a8\"],[0.3333333333333333,\"#9c179e\"],[0.4444444444444444,\"#bd3786\"],[0.5555555555555556,\"#d8576b\"],[0.6666666666666666,\"#ed7953\"],[0.7777777777777778,\"#fb9f3a\"],[0.8888888888888888,\"#fdca26\"],[1.0,\"#f0f921\"]],\"type\":\"surface\"}],\"table\":[{\"cells\":{\"fill\":{\"color\":\"#EBF0F8\"},\"line\":{\"color\":\"white\"}},\"header\":{\"fill\":{\"color\":\"#C8D4E3\"},\"line\":{\"color\":\"white\"}},\"type\":\"table\"}]},\"layout\":{\"annotationdefaults\":{\"arrowcolor\":\"#2a3f5f\",\"arrowhead\":0,\"arrowwidth\":1},\"autotypenumbers\":\"strict\",\"coloraxis\":{\"colorbar\":{\"outlinewidth\":0,\"ticks\":\"\"}},\"colorscale\":{\"diverging\":[[0,\"#8e0152\"],[0.1,\"#c51b7d\"],[0.2,\"#de77ae\"],[0.3,\"#f1b6da\"],[0.4,\"#fde0ef\"],[0.5,\"#f7f7f7\"],[0.6,\"#e6f5d0\"],[0.7,\"#b8e186\"],[0.8,\"#7fbc41\"],[0.9,\"#4d9221\"],[1,\"#276419\"]],\"sequential\":[[0.0,\"#0d0887\"],[0.1111111111111111,\"#46039f\"],[0.2222222222222222,\"#7201a8\"],[0.3333333333333333,\"#9c179e\"],[0.4444444444444444,\"#bd3786\"],[0.5555555555555556,\"#d8576b\"],[0.6666666666666666,\"#ed7953\"],[0.7777777777777778,\"#fb9f3a\"],[0.8888888888888888,\"#fdca26\"],[1.0,\"#f0f921\"]],\"sequentialminus\":[[0.0,\"#0d0887\"],[0.1111111111111111,\"#46039f\"],[0.2222222222222222,\"#7201a8\"],[0.3333333333333333,\"#9c179e\"],[0.4444444444444444,\"#bd3786\"],[0.5555555555555556,\"#d8576b\"],[0.6666666666666666,\"#ed7953\"],[0.7777777777777778,\"#fb9f3a\"],[0.8888888888888888,\"#fdca26\"],[1.0,\"#f0f921\"]]},\"colorway\":[\"#636efa\",\"#EF553B\",\"#00cc96\",\"#ab63fa\",\"#FFA15A\",\"#19d3f3\",\"#FF6692\",\"#B6E880\",\"#FF97FF\",\"#FECB52\"],\"font\":{\"color\":\"#2a3f5f\"},\"geo\":{\"bgcolor\":\"white\",\"lakecolor\":\"white\",\"landcolor\":\"#E5ECF6\",\"showlakes\":true,\"showland\":true,\"subunitcolor\":\"white\"},\"hoverlabel\":{\"align\":\"left\"},\"hovermode\":\"closest\",\"mapbox\":{\"style\":\"light\"},\"paper_bgcolor\":\"white\",\"plot_bgcolor\":\"#E5ECF6\",\"polar\":{\"angularaxis\":{\"gridcolor\":\"white\",\"linecolor\":\"white\",\"ticks\":\"\"},\"bgcolor\":\"#E5ECF6\",\"radialaxis\":{\"gridcolor\":\"white\",\"linecolor\":\"white\",\"ticks\":\"\"}},\"scene\":{\"xaxis\":{\"backgroundcolor\":\"#E5ECF6\",\"gridcolor\":\"white\",\"gridwidth\":2,\"linecolor\":\"white\",\"showbackground\":true,\"ticks\":\"\",\"zerolinecolor\":\"white\"},\"yaxis\":{\"backgroundcolor\":\"#E5ECF6\",\"gridcolor\":\"white\",\"gridwidth\":2,\"linecolor\":\"white\",\"showbackground\":true,\"ticks\":\"\",\"zerolinecolor\":\"white\"},\"zaxis\":{\"backgroundcolor\":\"#E5ECF6\",\"gridcolor\":\"white\",\"gridwidth\":2,\"linecolor\":\"white\",\"showbackground\":true,\"ticks\":\"\",\"zerolinecolor\":\"white\"}},\"shapedefaults\":{\"line\":{\"color\":\"#2a3f5f\"}},\"ternary\":{\"aaxis\":{\"gridcolor\":\"white\",\"linecolor\":\"white\",\"ticks\":\"\"},\"baxis\":{\"gridcolor\":\"white\",\"linecolor\":\"white\",\"ticks\":\"\"},\"bgcolor\":\"#E5ECF6\",\"caxis\":{\"gridcolor\":\"white\",\"linecolor\":\"white\",\"ticks\":\"\"}},\"title\":{\"x\":0.05},\"xaxis\":{\"automargin\":true,\"gridcolor\":\"white\",\"linecolor\":\"white\",\"ticks\":\"\",\"title\":{\"standoff\":15},\"zerolinecolor\":\"white\",\"zerolinewidth\":2},\"yaxis\":{\"automargin\":true,\"gridcolor\":\"white\",\"linecolor\":\"white\",\"ticks\":\"\",\"title\":{\"standoff\":15},\"zerolinecolor\":\"white\",\"zerolinewidth\":2}}},\"title\":{\"text\":\"Word Count Plots\"},\"width\":900,\"xaxis\":{\"anchor\":\"y\",\"domain\":[0.0,0.45]},\"yaxis\":{\"anchor\":\"x\",\"domain\":[0.0,1.0]},\"xaxis2\":{\"anchor\":\"y2\",\"domain\":[0.55,1.0]},\"yaxis2\":{\"anchor\":\"x2\",\"domain\":[0.0,1.0]}},                        {\"responsive\": true}                    ).then(function(){\n",
       "                            \n",
       "var gd = document.getElementById('6c0a8ed1-5d26-4606-b91b-a2bac09842ed');\n",
       "var x = new MutationObserver(function (mutations, observer) {{\n",
       "        var display = window.getComputedStyle(gd).display;\n",
       "        if (!display || display === 'none') {{\n",
       "            console.log([gd, 'removed!']);\n",
       "            Plotly.purge(gd);\n",
       "            observer.disconnect();\n",
       "        }}\n",
       "}});\n",
       "\n",
       "// Listen for the removal of the full notebook cells\n",
       "var notebookContainer = gd.closest('#notebook-container');\n",
       "if (notebookContainer) {{\n",
       "    x.observe(notebookContainer, {childList: true});\n",
       "}}\n",
       "\n",
       "// Listen for the clearing of the current output cell\n",
       "var outputEl = gd.closest('.output');\n",
       "if (outputEl) {{\n",
       "    x.observe(outputEl, {childList: true});\n",
       "}}\n",
       "\n",
       "                        })                };                });            </script>        </div>"
      ]
     },
     "metadata": {},
     "output_type": "display_data"
    }
   ],
   "source": [
    "#get the bar chart from rating 1 to 5\n",
    "\n",
    "freq_dict = defaultdict(int)\n",
    "for sent in df_all_1_5['review']:\n",
    "    for word in generate_ngrams(sent, 2):\n",
    "        freq_dict[word] += 1\n",
    "        \n",
    "fd_sorted_1_5 = pd.DataFrame(sorted(freq_dict.items(), key=lambda x: x[1])[::-1])\n",
    "#the same as: pd.DataFrame(freq_dict.items, columns=['word','freq']).sort_values('freq', ascending=False)\n",
    "fd_sorted_1_5.columns = ['word', 'wordcount']\n",
    "trace0 = horizontal_bar_chart(fd_sorted_1_5.head(50), 'blue')\n",
    "\n",
    "#get the bar chart from rating 6 to 10\n",
    "\n",
    "freq_dict = defaultdict(int)\n",
    "for sent in df_all_6_10['review']:\n",
    "    for word in generate_ngrams(sent, 2):\n",
    "        freq_dict[word] += 1\n",
    "        \n",
    "fd_sorted_6_10 = pd.DataFrame(sorted(freq_dict.items(), key=lambda x: x[1])[::-1])\n",
    "#the same as: pd.DataFrame(freq_dict.items, columns=['word','freq']).sort_values('freq', ascending=False)\n",
    "fd_sorted_6_10.columns = ['word', 'wordcount']\n",
    "trace1 = horizontal_bar_chart(fd_sorted_6_10.head(50), 'blue')\n",
    "\n",
    "#create two subplots\n",
    "fig = tools.make_subplots(rows=1, cols=2, vertical_spacing=0.04,\n",
    "                         subplot_titles= ['Most used words of rating 1 to 5',\n",
    "                                         'Most used words of rating 6 to 10'])\n",
    "fig.append_trace(trace0, 1, 1)\n",
    "fig.append_trace(trace1, 1, 2)\n",
    "fig['layout'].update(height=1200, width=900, paper_bgcolor='rgb(233,233,233)', title=\"Word Count Plots\")\n",
    "py.iplot(fig, filename='word-plots')"
   ]
  },
  {
   "cell_type": "code",
   "execution_count": 50,
   "id": "74e09cc7",
   "metadata": {
    "hidden": true
   },
   "outputs": [
    {
     "name": "stdout",
     "output_type": "stream",
     "text": [
      "There are 33 most used 2-grams that are shared in both dataframes\n"
     ]
    }
   ],
   "source": [
    "count = fd_sorted_1_5.head(50)['word'].isin(fd_sorted_6_10.head(50)['word']).sum()\n",
    "print(f'There are {count} most used 2-grams that are shared in both dataframes')"
   ]
  },
  {
   "cell_type": "markdown",
   "id": "86ef283f",
   "metadata": {
    "hidden": true
   },
   "source": [
    "##### It's still not enough to establish a difference between a good and a bad review. Let's try 3 N-grams"
   ]
  },
  {
   "cell_type": "code",
   "execution_count": 52,
   "id": "dc909489",
   "metadata": {
    "hidden": true
   },
   "outputs": [
    {
     "name": "stderr",
     "output_type": "stream",
     "text": [
      "/Users/eduardomonteiro/.pyenv/versions/3.10.6/envs/lewagon/lib/python3.10/site-packages/plotly/tools.py:460: DeprecationWarning:\n",
      "\n",
      "plotly.tools.make_subplots is deprecated, please use plotly.subplots.make_subplots instead\n",
      "\n"
     ]
    },
    {
     "data": {
      "application/vnd.plotly.v1+json": {
       "config": {
        "linkText": "Export to plot.ly",
        "plotlyServerURL": "https://plot.ly",
        "showLink": false
       },
       "data": [
        {
         "marker": {
          "color": "blue"
         },
         "orientation": "h",
         "showlegend": false,
         "type": "bar",
         "x": [
          123,
          123,
          127,
          127,
          128,
          128,
          129,
          131,
          132,
          134,
          138,
          139,
          147,
          151,
          152,
          153,
          156,
          156,
          159,
          161,
          170,
          175,
          178,
          178,
          178,
          180,
          189,
          189,
          189,
          190,
          192,
          192,
          194,
          200,
          208,
          218,
          225,
          230,
          247,
          265,
          270,
          285,
          307,
          313,
          338,
          361,
          512,
          552,
          792,
          832
         ],
         "xaxis": "x",
         "y": [
          "took one pill",
          "not recommend birth",
          "\"do not take",
          "birth control ever",
          "\"my doctor prescribed",
          "no side effects,",
          "many side effects",
          "took first dose",
          "birth control i&#039;ve",
          "gained 20 pounds",
          "started birth control",
          "negative side effects",
          "first birth control",
          "made feel like",
          "form birth control",
          "decided stop taking",
          "could not get",
          "every single day",
          "started taking pill",
          "i&#039;m going back",
          "don&#039;t feel like",
          "since started taking",
          "worst birth control",
          "\"this birth control",
          "stopped taking it.",
          "not work me.",
          "\"i birth control",
          "no sex drive.",
          "stop taking it.",
          "effects not worth",
          "\"i got nexplanon",
          "would never recommend",
          "high blood pressure",
          "not worth it.\"",
          "no sex drive,",
          "felt like going",
          "birth control pill",
          "it&#039;s not worth",
          "bad side effects",
          "no side effects.",
          "birth control pills",
          "taking birth control",
          "side effects not",
          "not worth it.",
          "no sex drive",
          "feel like i&#039;m",
          "no side effects",
          "i&#039;m not sure",
          "\"i started taking",
          "would not recommend"
         ],
         "yaxis": "y"
        },
        {
         "marker": {
          "color": "blue"
         },
         "orientation": "h",
         "showlegend": false,
         "type": "bar",
         "x": [
          294,
          294,
          294,
          301,
          301,
          301,
          308,
          315,
          318,
          328,
          331,
          333,
          338,
          355,
          360,
          364,
          364,
          375,
          377,
          380,
          380,
          385,
          386,
          388,
          390,
          415,
          419,
          425,
          427,
          437,
          446,
          457,
          481,
          481,
          514,
          527,
          528,
          531,
          584,
          616,
          622,
          644,
          714,
          717,
          766,
          774,
          848,
          1923,
          2077,
          4722
         ],
         "xaxis": "x2",
         "y": [
          "2 years ago",
          "not side effects",
          "\"i got nexplanon",
          "year old male",
          "negative side effects.",
          "no bad side",
          "don&#039;t feel like",
          "bad side effects.",
          "absolutely no side",
          "no negative side",
          "side effect i&#039;ve",
          "experienced side effects",
          "side effects first",
          "since started taking",
          "birth control i&#039;ve",
          "\"i started using",
          "side effects not",
          "year old female",
          "feel much better.",
          "3 times day",
          "no mood swings,",
          "birth control pill",
          "first 2 weeks",
          "first two weeks",
          "first started taking",
          "first birth control",
          "taking birth control",
          "feel like i&#039;m",
          "side effects i&#039;ve",
          "would recommend anyone",
          "weight gain, no",
          "high blood pressure",
          "would highly recommend",
          "side effects like",
          "feel much better",
          "negative side effects",
          "would definitely recommend",
          "side effects all.",
          "side effects except",
          "birth control pills",
          "bad side effects",
          "no side effects.\"",
          "no weight gain",
          "took plan b",
          "no weight gain,",
          "no side effects,",
          "i&#039;m not sure",
          "\"i started taking",
          "no side effects.",
          "no side effects"
         ],
         "yaxis": "y2"
        }
       ],
       "layout": {
        "annotations": [
         {
          "font": {
           "size": 16
          },
          "showarrow": false,
          "text": "Most used words of rating 1 to 5",
          "x": 0.225,
          "xanchor": "center",
          "xref": "paper",
          "y": 1,
          "yanchor": "bottom",
          "yref": "paper"
         },
         {
          "font": {
           "size": 16
          },
          "showarrow": false,
          "text": "Most used words of rating 6 to 10",
          "x": 0.775,
          "xanchor": "center",
          "xref": "paper",
          "y": 1,
          "yanchor": "bottom",
          "yref": "paper"
         }
        ],
        "height": 1200,
        "paper_bgcolor": "rgb(233,233,233)",
        "template": {
         "data": {
          "bar": [
           {
            "error_x": {
             "color": "#2a3f5f"
            },
            "error_y": {
             "color": "#2a3f5f"
            },
            "marker": {
             "line": {
              "color": "#E5ECF6",
              "width": 0.5
             },
             "pattern": {
              "fillmode": "overlay",
              "size": 10,
              "solidity": 0.2
             }
            },
            "type": "bar"
           }
          ],
          "barpolar": [
           {
            "marker": {
             "line": {
              "color": "#E5ECF6",
              "width": 0.5
             },
             "pattern": {
              "fillmode": "overlay",
              "size": 10,
              "solidity": 0.2
             }
            },
            "type": "barpolar"
           }
          ],
          "carpet": [
           {
            "aaxis": {
             "endlinecolor": "#2a3f5f",
             "gridcolor": "white",
             "linecolor": "white",
             "minorgridcolor": "white",
             "startlinecolor": "#2a3f5f"
            },
            "baxis": {
             "endlinecolor": "#2a3f5f",
             "gridcolor": "white",
             "linecolor": "white",
             "minorgridcolor": "white",
             "startlinecolor": "#2a3f5f"
            },
            "type": "carpet"
           }
          ],
          "choropleth": [
           {
            "colorbar": {
             "outlinewidth": 0,
             "ticks": ""
            },
            "type": "choropleth"
           }
          ],
          "contour": [
           {
            "colorbar": {
             "outlinewidth": 0,
             "ticks": ""
            },
            "colorscale": [
             [
              0,
              "#0d0887"
             ],
             [
              0.1111111111111111,
              "#46039f"
             ],
             [
              0.2222222222222222,
              "#7201a8"
             ],
             [
              0.3333333333333333,
              "#9c179e"
             ],
             [
              0.4444444444444444,
              "#bd3786"
             ],
             [
              0.5555555555555556,
              "#d8576b"
             ],
             [
              0.6666666666666666,
              "#ed7953"
             ],
             [
              0.7777777777777778,
              "#fb9f3a"
             ],
             [
              0.8888888888888888,
              "#fdca26"
             ],
             [
              1,
              "#f0f921"
             ]
            ],
            "type": "contour"
           }
          ],
          "contourcarpet": [
           {
            "colorbar": {
             "outlinewidth": 0,
             "ticks": ""
            },
            "type": "contourcarpet"
           }
          ],
          "heatmap": [
           {
            "colorbar": {
             "outlinewidth": 0,
             "ticks": ""
            },
            "colorscale": [
             [
              0,
              "#0d0887"
             ],
             [
              0.1111111111111111,
              "#46039f"
             ],
             [
              0.2222222222222222,
              "#7201a8"
             ],
             [
              0.3333333333333333,
              "#9c179e"
             ],
             [
              0.4444444444444444,
              "#bd3786"
             ],
             [
              0.5555555555555556,
              "#d8576b"
             ],
             [
              0.6666666666666666,
              "#ed7953"
             ],
             [
              0.7777777777777778,
              "#fb9f3a"
             ],
             [
              0.8888888888888888,
              "#fdca26"
             ],
             [
              1,
              "#f0f921"
             ]
            ],
            "type": "heatmap"
           }
          ],
          "heatmapgl": [
           {
            "colorbar": {
             "outlinewidth": 0,
             "ticks": ""
            },
            "colorscale": [
             [
              0,
              "#0d0887"
             ],
             [
              0.1111111111111111,
              "#46039f"
             ],
             [
              0.2222222222222222,
              "#7201a8"
             ],
             [
              0.3333333333333333,
              "#9c179e"
             ],
             [
              0.4444444444444444,
              "#bd3786"
             ],
             [
              0.5555555555555556,
              "#d8576b"
             ],
             [
              0.6666666666666666,
              "#ed7953"
             ],
             [
              0.7777777777777778,
              "#fb9f3a"
             ],
             [
              0.8888888888888888,
              "#fdca26"
             ],
             [
              1,
              "#f0f921"
             ]
            ],
            "type": "heatmapgl"
           }
          ],
          "histogram": [
           {
            "marker": {
             "pattern": {
              "fillmode": "overlay",
              "size": 10,
              "solidity": 0.2
             }
            },
            "type": "histogram"
           }
          ],
          "histogram2d": [
           {
            "colorbar": {
             "outlinewidth": 0,
             "ticks": ""
            },
            "colorscale": [
             [
              0,
              "#0d0887"
             ],
             [
              0.1111111111111111,
              "#46039f"
             ],
             [
              0.2222222222222222,
              "#7201a8"
             ],
             [
              0.3333333333333333,
              "#9c179e"
             ],
             [
              0.4444444444444444,
              "#bd3786"
             ],
             [
              0.5555555555555556,
              "#d8576b"
             ],
             [
              0.6666666666666666,
              "#ed7953"
             ],
             [
              0.7777777777777778,
              "#fb9f3a"
             ],
             [
              0.8888888888888888,
              "#fdca26"
             ],
             [
              1,
              "#f0f921"
             ]
            ],
            "type": "histogram2d"
           }
          ],
          "histogram2dcontour": [
           {
            "colorbar": {
             "outlinewidth": 0,
             "ticks": ""
            },
            "colorscale": [
             [
              0,
              "#0d0887"
             ],
             [
              0.1111111111111111,
              "#46039f"
             ],
             [
              0.2222222222222222,
              "#7201a8"
             ],
             [
              0.3333333333333333,
              "#9c179e"
             ],
             [
              0.4444444444444444,
              "#bd3786"
             ],
             [
              0.5555555555555556,
              "#d8576b"
             ],
             [
              0.6666666666666666,
              "#ed7953"
             ],
             [
              0.7777777777777778,
              "#fb9f3a"
             ],
             [
              0.8888888888888888,
              "#fdca26"
             ],
             [
              1,
              "#f0f921"
             ]
            ],
            "type": "histogram2dcontour"
           }
          ],
          "mesh3d": [
           {
            "colorbar": {
             "outlinewidth": 0,
             "ticks": ""
            },
            "type": "mesh3d"
           }
          ],
          "parcoords": [
           {
            "line": {
             "colorbar": {
              "outlinewidth": 0,
              "ticks": ""
             }
            },
            "type": "parcoords"
           }
          ],
          "pie": [
           {
            "automargin": true,
            "type": "pie"
           }
          ],
          "scatter": [
           {
            "fillpattern": {
             "fillmode": "overlay",
             "size": 10,
             "solidity": 0.2
            },
            "type": "scatter"
           }
          ],
          "scatter3d": [
           {
            "line": {
             "colorbar": {
              "outlinewidth": 0,
              "ticks": ""
             }
            },
            "marker": {
             "colorbar": {
              "outlinewidth": 0,
              "ticks": ""
             }
            },
            "type": "scatter3d"
           }
          ],
          "scattercarpet": [
           {
            "marker": {
             "colorbar": {
              "outlinewidth": 0,
              "ticks": ""
             }
            },
            "type": "scattercarpet"
           }
          ],
          "scattergeo": [
           {
            "marker": {
             "colorbar": {
              "outlinewidth": 0,
              "ticks": ""
             }
            },
            "type": "scattergeo"
           }
          ],
          "scattergl": [
           {
            "marker": {
             "colorbar": {
              "outlinewidth": 0,
              "ticks": ""
             }
            },
            "type": "scattergl"
           }
          ],
          "scattermapbox": [
           {
            "marker": {
             "colorbar": {
              "outlinewidth": 0,
              "ticks": ""
             }
            },
            "type": "scattermapbox"
           }
          ],
          "scatterpolar": [
           {
            "marker": {
             "colorbar": {
              "outlinewidth": 0,
              "ticks": ""
             }
            },
            "type": "scatterpolar"
           }
          ],
          "scatterpolargl": [
           {
            "marker": {
             "colorbar": {
              "outlinewidth": 0,
              "ticks": ""
             }
            },
            "type": "scatterpolargl"
           }
          ],
          "scatterternary": [
           {
            "marker": {
             "colorbar": {
              "outlinewidth": 0,
              "ticks": ""
             }
            },
            "type": "scatterternary"
           }
          ],
          "surface": [
           {
            "colorbar": {
             "outlinewidth": 0,
             "ticks": ""
            },
            "colorscale": [
             [
              0,
              "#0d0887"
             ],
             [
              0.1111111111111111,
              "#46039f"
             ],
             [
              0.2222222222222222,
              "#7201a8"
             ],
             [
              0.3333333333333333,
              "#9c179e"
             ],
             [
              0.4444444444444444,
              "#bd3786"
             ],
             [
              0.5555555555555556,
              "#d8576b"
             ],
             [
              0.6666666666666666,
              "#ed7953"
             ],
             [
              0.7777777777777778,
              "#fb9f3a"
             ],
             [
              0.8888888888888888,
              "#fdca26"
             ],
             [
              1,
              "#f0f921"
             ]
            ],
            "type": "surface"
           }
          ],
          "table": [
           {
            "cells": {
             "fill": {
              "color": "#EBF0F8"
             },
             "line": {
              "color": "white"
             }
            },
            "header": {
             "fill": {
              "color": "#C8D4E3"
             },
             "line": {
              "color": "white"
             }
            },
            "type": "table"
           }
          ]
         },
         "layout": {
          "annotationdefaults": {
           "arrowcolor": "#2a3f5f",
           "arrowhead": 0,
           "arrowwidth": 1
          },
          "autotypenumbers": "strict",
          "coloraxis": {
           "colorbar": {
            "outlinewidth": 0,
            "ticks": ""
           }
          },
          "colorscale": {
           "diverging": [
            [
             0,
             "#8e0152"
            ],
            [
             0.1,
             "#c51b7d"
            ],
            [
             0.2,
             "#de77ae"
            ],
            [
             0.3,
             "#f1b6da"
            ],
            [
             0.4,
             "#fde0ef"
            ],
            [
             0.5,
             "#f7f7f7"
            ],
            [
             0.6,
             "#e6f5d0"
            ],
            [
             0.7,
             "#b8e186"
            ],
            [
             0.8,
             "#7fbc41"
            ],
            [
             0.9,
             "#4d9221"
            ],
            [
             1,
             "#276419"
            ]
           ],
           "sequential": [
            [
             0,
             "#0d0887"
            ],
            [
             0.1111111111111111,
             "#46039f"
            ],
            [
             0.2222222222222222,
             "#7201a8"
            ],
            [
             0.3333333333333333,
             "#9c179e"
            ],
            [
             0.4444444444444444,
             "#bd3786"
            ],
            [
             0.5555555555555556,
             "#d8576b"
            ],
            [
             0.6666666666666666,
             "#ed7953"
            ],
            [
             0.7777777777777778,
             "#fb9f3a"
            ],
            [
             0.8888888888888888,
             "#fdca26"
            ],
            [
             1,
             "#f0f921"
            ]
           ],
           "sequentialminus": [
            [
             0,
             "#0d0887"
            ],
            [
             0.1111111111111111,
             "#46039f"
            ],
            [
             0.2222222222222222,
             "#7201a8"
            ],
            [
             0.3333333333333333,
             "#9c179e"
            ],
            [
             0.4444444444444444,
             "#bd3786"
            ],
            [
             0.5555555555555556,
             "#d8576b"
            ],
            [
             0.6666666666666666,
             "#ed7953"
            ],
            [
             0.7777777777777778,
             "#fb9f3a"
            ],
            [
             0.8888888888888888,
             "#fdca26"
            ],
            [
             1,
             "#f0f921"
            ]
           ]
          },
          "colorway": [
           "#636efa",
           "#EF553B",
           "#00cc96",
           "#ab63fa",
           "#FFA15A",
           "#19d3f3",
           "#FF6692",
           "#B6E880",
           "#FF97FF",
           "#FECB52"
          ],
          "font": {
           "color": "#2a3f5f"
          },
          "geo": {
           "bgcolor": "white",
           "lakecolor": "white",
           "landcolor": "#E5ECF6",
           "showlakes": true,
           "showland": true,
           "subunitcolor": "white"
          },
          "hoverlabel": {
           "align": "left"
          },
          "hovermode": "closest",
          "mapbox": {
           "style": "light"
          },
          "paper_bgcolor": "white",
          "plot_bgcolor": "#E5ECF6",
          "polar": {
           "angularaxis": {
            "gridcolor": "white",
            "linecolor": "white",
            "ticks": ""
           },
           "bgcolor": "#E5ECF6",
           "radialaxis": {
            "gridcolor": "white",
            "linecolor": "white",
            "ticks": ""
           }
          },
          "scene": {
           "xaxis": {
            "backgroundcolor": "#E5ECF6",
            "gridcolor": "white",
            "gridwidth": 2,
            "linecolor": "white",
            "showbackground": true,
            "ticks": "",
            "zerolinecolor": "white"
           },
           "yaxis": {
            "backgroundcolor": "#E5ECF6",
            "gridcolor": "white",
            "gridwidth": 2,
            "linecolor": "white",
            "showbackground": true,
            "ticks": "",
            "zerolinecolor": "white"
           },
           "zaxis": {
            "backgroundcolor": "#E5ECF6",
            "gridcolor": "white",
            "gridwidth": 2,
            "linecolor": "white",
            "showbackground": true,
            "ticks": "",
            "zerolinecolor": "white"
           }
          },
          "shapedefaults": {
           "line": {
            "color": "#2a3f5f"
           }
          },
          "ternary": {
           "aaxis": {
            "gridcolor": "white",
            "linecolor": "white",
            "ticks": ""
           },
           "baxis": {
            "gridcolor": "white",
            "linecolor": "white",
            "ticks": ""
           },
           "bgcolor": "#E5ECF6",
           "caxis": {
            "gridcolor": "white",
            "linecolor": "white",
            "ticks": ""
           }
          },
          "title": {
           "x": 0.05
          },
          "xaxis": {
           "automargin": true,
           "gridcolor": "white",
           "linecolor": "white",
           "ticks": "",
           "title": {
            "standoff": 15
           },
           "zerolinecolor": "white",
           "zerolinewidth": 2
          },
          "yaxis": {
           "automargin": true,
           "gridcolor": "white",
           "linecolor": "white",
           "ticks": "",
           "title": {
            "standoff": 15
           },
           "zerolinecolor": "white",
           "zerolinewidth": 2
          }
         }
        },
        "title": {
         "text": "Word Count Plots"
        },
        "width": 900,
        "xaxis": {
         "anchor": "y",
         "domain": [
          0,
          0.45
         ]
        },
        "xaxis2": {
         "anchor": "y2",
         "domain": [
          0.55,
          1
         ]
        },
        "yaxis": {
         "anchor": "x",
         "domain": [
          0,
          1
         ]
        },
        "yaxis2": {
         "anchor": "x2",
         "domain": [
          0,
          1
         ]
        }
       }
      },
      "text/html": [
       "<div>                            <div id=\"a36b1f1e-55a0-4e67-b3f7-6881716eb2d8\" class=\"plotly-graph-div\" style=\"height:1200px; width:900px;\"></div>            <script type=\"text/javascript\">                require([\"plotly\"], function(Plotly) {                    window.PLOTLYENV=window.PLOTLYENV || {};                                    if (document.getElementById(\"a36b1f1e-55a0-4e67-b3f7-6881716eb2d8\")) {                    Plotly.newPlot(                        \"a36b1f1e-55a0-4e67-b3f7-6881716eb2d8\",                        [{\"marker\":{\"color\":\"blue\"},\"orientation\":\"h\",\"showlegend\":false,\"x\":[123,123,127,127,128,128,129,131,132,134,138,139,147,151,152,153,156,156,159,161,170,175,178,178,178,180,189,189,189,190,192,192,194,200,208,218,225,230,247,265,270,285,307,313,338,361,512,552,792,832],\"xaxis\":\"x\",\"y\":[\"took one pill\",\"not recommend birth\",\"\\\"do not take\",\"birth control ever\",\"\\\"my doctor prescribed\",\"no side effects,\",\"many side effects\",\"took first dose\",\"birth control i&#039;ve\",\"gained 20 pounds\",\"started birth control\",\"negative side effects\",\"first birth control\",\"made feel like\",\"form birth control\",\"decided stop taking\",\"could not get\",\"every single day\",\"started taking pill\",\"i&#039;m going back\",\"don&#039;t feel like\",\"since started taking\",\"worst birth control\",\"\\\"this birth control\",\"stopped taking it.\",\"not work me.\",\"\\\"i birth control\",\"no sex drive.\",\"stop taking it.\",\"effects not worth\",\"\\\"i got nexplanon\",\"would never recommend\",\"high blood pressure\",\"not worth it.\\\"\",\"no sex drive,\",\"felt like going\",\"birth control pill\",\"it&#039;s not worth\",\"bad side effects\",\"no side effects.\",\"birth control pills\",\"taking birth control\",\"side effects not\",\"not worth it.\",\"no sex drive\",\"feel like i&#039;m\",\"no side effects\",\"i&#039;m not sure\",\"\\\"i started taking\",\"would not recommend\"],\"yaxis\":\"y\",\"type\":\"bar\"},{\"marker\":{\"color\":\"blue\"},\"orientation\":\"h\",\"showlegend\":false,\"x\":[294,294,294,301,301,301,308,315,318,328,331,333,338,355,360,364,364,375,377,380,380,385,386,388,390,415,419,425,427,437,446,457,481,481,514,527,528,531,584,616,622,644,714,717,766,774,848,1923,2077,4722],\"xaxis\":\"x2\",\"y\":[\"2 years ago\",\"not side effects\",\"\\\"i got nexplanon\",\"year old male\",\"negative side effects.\",\"no bad side\",\"don&#039;t feel like\",\"bad side effects.\",\"absolutely no side\",\"no negative side\",\"side effect i&#039;ve\",\"experienced side effects\",\"side effects first\",\"since started taking\",\"birth control i&#039;ve\",\"\\\"i started using\",\"side effects not\",\"year old female\",\"feel much better.\",\"3 times day\",\"no mood swings,\",\"birth control pill\",\"first 2 weeks\",\"first two weeks\",\"first started taking\",\"first birth control\",\"taking birth control\",\"feel like i&#039;m\",\"side effects i&#039;ve\",\"would recommend anyone\",\"weight gain, no\",\"high blood pressure\",\"would highly recommend\",\"side effects like\",\"feel much better\",\"negative side effects\",\"would definitely recommend\",\"side effects all.\",\"side effects except\",\"birth control pills\",\"bad side effects\",\"no side effects.\\\"\",\"no weight gain\",\"took plan b\",\"no weight gain,\",\"no side effects,\",\"i&#039;m not sure\",\"\\\"i started taking\",\"no side effects.\",\"no side effects\"],\"yaxis\":\"y2\",\"type\":\"bar\"}],                        {\"annotations\":[{\"font\":{\"size\":16},\"showarrow\":false,\"text\":\"Most used words of rating 1 to 5\",\"x\":0.225,\"xanchor\":\"center\",\"xref\":\"paper\",\"y\":1.0,\"yanchor\":\"bottom\",\"yref\":\"paper\"},{\"font\":{\"size\":16},\"showarrow\":false,\"text\":\"Most used words of rating 6 to 10\",\"x\":0.775,\"xanchor\":\"center\",\"xref\":\"paper\",\"y\":1.0,\"yanchor\":\"bottom\",\"yref\":\"paper\"}],\"height\":1200,\"paper_bgcolor\":\"rgb(233,233,233)\",\"template\":{\"data\":{\"barpolar\":[{\"marker\":{\"line\":{\"color\":\"#E5ECF6\",\"width\":0.5},\"pattern\":{\"fillmode\":\"overlay\",\"size\":10,\"solidity\":0.2}},\"type\":\"barpolar\"}],\"bar\":[{\"error_x\":{\"color\":\"#2a3f5f\"},\"error_y\":{\"color\":\"#2a3f5f\"},\"marker\":{\"line\":{\"color\":\"#E5ECF6\",\"width\":0.5},\"pattern\":{\"fillmode\":\"overlay\",\"size\":10,\"solidity\":0.2}},\"type\":\"bar\"}],\"carpet\":[{\"aaxis\":{\"endlinecolor\":\"#2a3f5f\",\"gridcolor\":\"white\",\"linecolor\":\"white\",\"minorgridcolor\":\"white\",\"startlinecolor\":\"#2a3f5f\"},\"baxis\":{\"endlinecolor\":\"#2a3f5f\",\"gridcolor\":\"white\",\"linecolor\":\"white\",\"minorgridcolor\":\"white\",\"startlinecolor\":\"#2a3f5f\"},\"type\":\"carpet\"}],\"choropleth\":[{\"colorbar\":{\"outlinewidth\":0,\"ticks\":\"\"},\"type\":\"choropleth\"}],\"contourcarpet\":[{\"colorbar\":{\"outlinewidth\":0,\"ticks\":\"\"},\"type\":\"contourcarpet\"}],\"contour\":[{\"colorbar\":{\"outlinewidth\":0,\"ticks\":\"\"},\"colorscale\":[[0.0,\"#0d0887\"],[0.1111111111111111,\"#46039f\"],[0.2222222222222222,\"#7201a8\"],[0.3333333333333333,\"#9c179e\"],[0.4444444444444444,\"#bd3786\"],[0.5555555555555556,\"#d8576b\"],[0.6666666666666666,\"#ed7953\"],[0.7777777777777778,\"#fb9f3a\"],[0.8888888888888888,\"#fdca26\"],[1.0,\"#f0f921\"]],\"type\":\"contour\"}],\"heatmapgl\":[{\"colorbar\":{\"outlinewidth\":0,\"ticks\":\"\"},\"colorscale\":[[0.0,\"#0d0887\"],[0.1111111111111111,\"#46039f\"],[0.2222222222222222,\"#7201a8\"],[0.3333333333333333,\"#9c179e\"],[0.4444444444444444,\"#bd3786\"],[0.5555555555555556,\"#d8576b\"],[0.6666666666666666,\"#ed7953\"],[0.7777777777777778,\"#fb9f3a\"],[0.8888888888888888,\"#fdca26\"],[1.0,\"#f0f921\"]],\"type\":\"heatmapgl\"}],\"heatmap\":[{\"colorbar\":{\"outlinewidth\":0,\"ticks\":\"\"},\"colorscale\":[[0.0,\"#0d0887\"],[0.1111111111111111,\"#46039f\"],[0.2222222222222222,\"#7201a8\"],[0.3333333333333333,\"#9c179e\"],[0.4444444444444444,\"#bd3786\"],[0.5555555555555556,\"#d8576b\"],[0.6666666666666666,\"#ed7953\"],[0.7777777777777778,\"#fb9f3a\"],[0.8888888888888888,\"#fdca26\"],[1.0,\"#f0f921\"]],\"type\":\"heatmap\"}],\"histogram2dcontour\":[{\"colorbar\":{\"outlinewidth\":0,\"ticks\":\"\"},\"colorscale\":[[0.0,\"#0d0887\"],[0.1111111111111111,\"#46039f\"],[0.2222222222222222,\"#7201a8\"],[0.3333333333333333,\"#9c179e\"],[0.4444444444444444,\"#bd3786\"],[0.5555555555555556,\"#d8576b\"],[0.6666666666666666,\"#ed7953\"],[0.7777777777777778,\"#fb9f3a\"],[0.8888888888888888,\"#fdca26\"],[1.0,\"#f0f921\"]],\"type\":\"histogram2dcontour\"}],\"histogram2d\":[{\"colorbar\":{\"outlinewidth\":0,\"ticks\":\"\"},\"colorscale\":[[0.0,\"#0d0887\"],[0.1111111111111111,\"#46039f\"],[0.2222222222222222,\"#7201a8\"],[0.3333333333333333,\"#9c179e\"],[0.4444444444444444,\"#bd3786\"],[0.5555555555555556,\"#d8576b\"],[0.6666666666666666,\"#ed7953\"],[0.7777777777777778,\"#fb9f3a\"],[0.8888888888888888,\"#fdca26\"],[1.0,\"#f0f921\"]],\"type\":\"histogram2d\"}],\"histogram\":[{\"marker\":{\"pattern\":{\"fillmode\":\"overlay\",\"size\":10,\"solidity\":0.2}},\"type\":\"histogram\"}],\"mesh3d\":[{\"colorbar\":{\"outlinewidth\":0,\"ticks\":\"\"},\"type\":\"mesh3d\"}],\"parcoords\":[{\"line\":{\"colorbar\":{\"outlinewidth\":0,\"ticks\":\"\"}},\"type\":\"parcoords\"}],\"pie\":[{\"automargin\":true,\"type\":\"pie\"}],\"scatter3d\":[{\"line\":{\"colorbar\":{\"outlinewidth\":0,\"ticks\":\"\"}},\"marker\":{\"colorbar\":{\"outlinewidth\":0,\"ticks\":\"\"}},\"type\":\"scatter3d\"}],\"scattercarpet\":[{\"marker\":{\"colorbar\":{\"outlinewidth\":0,\"ticks\":\"\"}},\"type\":\"scattercarpet\"}],\"scattergeo\":[{\"marker\":{\"colorbar\":{\"outlinewidth\":0,\"ticks\":\"\"}},\"type\":\"scattergeo\"}],\"scattergl\":[{\"marker\":{\"colorbar\":{\"outlinewidth\":0,\"ticks\":\"\"}},\"type\":\"scattergl\"}],\"scattermapbox\":[{\"marker\":{\"colorbar\":{\"outlinewidth\":0,\"ticks\":\"\"}},\"type\":\"scattermapbox\"}],\"scatterpolargl\":[{\"marker\":{\"colorbar\":{\"outlinewidth\":0,\"ticks\":\"\"}},\"type\":\"scatterpolargl\"}],\"scatterpolar\":[{\"marker\":{\"colorbar\":{\"outlinewidth\":0,\"ticks\":\"\"}},\"type\":\"scatterpolar\"}],\"scatter\":[{\"fillpattern\":{\"fillmode\":\"overlay\",\"size\":10,\"solidity\":0.2},\"type\":\"scatter\"}],\"scatterternary\":[{\"marker\":{\"colorbar\":{\"outlinewidth\":0,\"ticks\":\"\"}},\"type\":\"scatterternary\"}],\"surface\":[{\"colorbar\":{\"outlinewidth\":0,\"ticks\":\"\"},\"colorscale\":[[0.0,\"#0d0887\"],[0.1111111111111111,\"#46039f\"],[0.2222222222222222,\"#7201a8\"],[0.3333333333333333,\"#9c179e\"],[0.4444444444444444,\"#bd3786\"],[0.5555555555555556,\"#d8576b\"],[0.6666666666666666,\"#ed7953\"],[0.7777777777777778,\"#fb9f3a\"],[0.8888888888888888,\"#fdca26\"],[1.0,\"#f0f921\"]],\"type\":\"surface\"}],\"table\":[{\"cells\":{\"fill\":{\"color\":\"#EBF0F8\"},\"line\":{\"color\":\"white\"}},\"header\":{\"fill\":{\"color\":\"#C8D4E3\"},\"line\":{\"color\":\"white\"}},\"type\":\"table\"}]},\"layout\":{\"annotationdefaults\":{\"arrowcolor\":\"#2a3f5f\",\"arrowhead\":0,\"arrowwidth\":1},\"autotypenumbers\":\"strict\",\"coloraxis\":{\"colorbar\":{\"outlinewidth\":0,\"ticks\":\"\"}},\"colorscale\":{\"diverging\":[[0,\"#8e0152\"],[0.1,\"#c51b7d\"],[0.2,\"#de77ae\"],[0.3,\"#f1b6da\"],[0.4,\"#fde0ef\"],[0.5,\"#f7f7f7\"],[0.6,\"#e6f5d0\"],[0.7,\"#b8e186\"],[0.8,\"#7fbc41\"],[0.9,\"#4d9221\"],[1,\"#276419\"]],\"sequential\":[[0.0,\"#0d0887\"],[0.1111111111111111,\"#46039f\"],[0.2222222222222222,\"#7201a8\"],[0.3333333333333333,\"#9c179e\"],[0.4444444444444444,\"#bd3786\"],[0.5555555555555556,\"#d8576b\"],[0.6666666666666666,\"#ed7953\"],[0.7777777777777778,\"#fb9f3a\"],[0.8888888888888888,\"#fdca26\"],[1.0,\"#f0f921\"]],\"sequentialminus\":[[0.0,\"#0d0887\"],[0.1111111111111111,\"#46039f\"],[0.2222222222222222,\"#7201a8\"],[0.3333333333333333,\"#9c179e\"],[0.4444444444444444,\"#bd3786\"],[0.5555555555555556,\"#d8576b\"],[0.6666666666666666,\"#ed7953\"],[0.7777777777777778,\"#fb9f3a\"],[0.8888888888888888,\"#fdca26\"],[1.0,\"#f0f921\"]]},\"colorway\":[\"#636efa\",\"#EF553B\",\"#00cc96\",\"#ab63fa\",\"#FFA15A\",\"#19d3f3\",\"#FF6692\",\"#B6E880\",\"#FF97FF\",\"#FECB52\"],\"font\":{\"color\":\"#2a3f5f\"},\"geo\":{\"bgcolor\":\"white\",\"lakecolor\":\"white\",\"landcolor\":\"#E5ECF6\",\"showlakes\":true,\"showland\":true,\"subunitcolor\":\"white\"},\"hoverlabel\":{\"align\":\"left\"},\"hovermode\":\"closest\",\"mapbox\":{\"style\":\"light\"},\"paper_bgcolor\":\"white\",\"plot_bgcolor\":\"#E5ECF6\",\"polar\":{\"angularaxis\":{\"gridcolor\":\"white\",\"linecolor\":\"white\",\"ticks\":\"\"},\"bgcolor\":\"#E5ECF6\",\"radialaxis\":{\"gridcolor\":\"white\",\"linecolor\":\"white\",\"ticks\":\"\"}},\"scene\":{\"xaxis\":{\"backgroundcolor\":\"#E5ECF6\",\"gridcolor\":\"white\",\"gridwidth\":2,\"linecolor\":\"white\",\"showbackground\":true,\"ticks\":\"\",\"zerolinecolor\":\"white\"},\"yaxis\":{\"backgroundcolor\":\"#E5ECF6\",\"gridcolor\":\"white\",\"gridwidth\":2,\"linecolor\":\"white\",\"showbackground\":true,\"ticks\":\"\",\"zerolinecolor\":\"white\"},\"zaxis\":{\"backgroundcolor\":\"#E5ECF6\",\"gridcolor\":\"white\",\"gridwidth\":2,\"linecolor\":\"white\",\"showbackground\":true,\"ticks\":\"\",\"zerolinecolor\":\"white\"}},\"shapedefaults\":{\"line\":{\"color\":\"#2a3f5f\"}},\"ternary\":{\"aaxis\":{\"gridcolor\":\"white\",\"linecolor\":\"white\",\"ticks\":\"\"},\"baxis\":{\"gridcolor\":\"white\",\"linecolor\":\"white\",\"ticks\":\"\"},\"bgcolor\":\"#E5ECF6\",\"caxis\":{\"gridcolor\":\"white\",\"linecolor\":\"white\",\"ticks\":\"\"}},\"title\":{\"x\":0.05},\"xaxis\":{\"automargin\":true,\"gridcolor\":\"white\",\"linecolor\":\"white\",\"ticks\":\"\",\"title\":{\"standoff\":15},\"zerolinecolor\":\"white\",\"zerolinewidth\":2},\"yaxis\":{\"automargin\":true,\"gridcolor\":\"white\",\"linecolor\":\"white\",\"ticks\":\"\",\"title\":{\"standoff\":15},\"zerolinecolor\":\"white\",\"zerolinewidth\":2}}},\"title\":{\"text\":\"Word Count Plots\"},\"width\":900,\"xaxis\":{\"anchor\":\"y\",\"domain\":[0.0,0.45]},\"yaxis\":{\"anchor\":\"x\",\"domain\":[0.0,1.0]},\"xaxis2\":{\"anchor\":\"y2\",\"domain\":[0.55,1.0]},\"yaxis2\":{\"anchor\":\"x2\",\"domain\":[0.0,1.0]}},                        {\"responsive\": true}                    ).then(function(){\n",
       "                            \n",
       "var gd = document.getElementById('a36b1f1e-55a0-4e67-b3f7-6881716eb2d8');\n",
       "var x = new MutationObserver(function (mutations, observer) {{\n",
       "        var display = window.getComputedStyle(gd).display;\n",
       "        if (!display || display === 'none') {{\n",
       "            console.log([gd, 'removed!']);\n",
       "            Plotly.purge(gd);\n",
       "            observer.disconnect();\n",
       "        }}\n",
       "}});\n",
       "\n",
       "// Listen for the removal of the full notebook cells\n",
       "var notebookContainer = gd.closest('#notebook-container');\n",
       "if (notebookContainer) {{\n",
       "    x.observe(notebookContainer, {childList: true});\n",
       "}}\n",
       "\n",
       "// Listen for the clearing of the current output cell\n",
       "var outputEl = gd.closest('.output');\n",
       "if (outputEl) {{\n",
       "    x.observe(outputEl, {childList: true});\n",
       "}}\n",
       "\n",
       "                        })                };                });            </script>        </div>"
      ]
     },
     "metadata": {},
     "output_type": "display_data"
    }
   ],
   "source": [
    "#get the bar chart from rating 1 to 5\n",
    "\n",
    "freq_dict = defaultdict(int)\n",
    "for sent in df_all_1_5['review']:\n",
    "    for word in generate_ngrams(sent, 3):\n",
    "        freq_dict[word] += 1\n",
    "        \n",
    "fd_sorted_1_5 = pd.DataFrame(sorted(freq_dict.items(), key=lambda x: x[1])[::-1])\n",
    "#the same as: pd.DataFrame(freq_dict.items, columns=['word','freq']).sort_values('freq', ascending=False)\n",
    "fd_sorted_1_5.columns = ['word', 'wordcount']\n",
    "trace0 = horizontal_bar_chart(fd_sorted_1_5.head(50), 'blue')\n",
    "\n",
    "#get the bar chart from rating 6 to 10\n",
    "\n",
    "freq_dict = defaultdict(int)\n",
    "for sent in df_all_6_10['review']:\n",
    "    for word in generate_ngrams(sent, 3):\n",
    "        freq_dict[word] += 1\n",
    "        \n",
    "fd_sorted_6_10 = pd.DataFrame(sorted(freq_dict.items(), key=lambda x: x[1])[::-1])\n",
    "#the same as: pd.DataFrame(freq_dict.items, columns=['word','freq']).sort_values('freq', ascending=False)\n",
    "fd_sorted_6_10.columns = ['word', 'wordcount']\n",
    "trace1 = horizontal_bar_chart(fd_sorted_6_10.head(50), 'blue')\n",
    "\n",
    "#create two subplots\n",
    "fig = tools.make_subplots(rows=1, cols=2, vertical_spacing=0.04,\n",
    "                         subplot_titles= ['Most used words of rating 1 to 5',\n",
    "                                         'Most used words of rating 6 to 10'])\n",
    "fig.append_trace(trace0, 1, 1)\n",
    "fig.append_trace(trace1, 1, 2)\n",
    "fig['layout'].update(height=1200, width=900, paper_bgcolor='rgb(233,233,233)', title=\"Word Count Plots\")\n",
    "py.iplot(fig, filename='word-plots')"
   ]
  },
  {
   "cell_type": "code",
   "execution_count": 53,
   "id": "3544c82a",
   "metadata": {
    "hidden": true
   },
   "outputs": [
    {
     "name": "stdout",
     "output_type": "stream",
     "text": [
      "There are 18 most used 3-grams that are shared in both dataframes\n"
     ]
    }
   ],
   "source": [
    "count = fd_sorted_1_5.head(50)['word'].isin(fd_sorted_6_10.head(50)['word']).sum()\n",
    "print(f'There are {count} most used 3-grams that are shared in both dataframes')"
   ]
  },
  {
   "cell_type": "markdown",
   "id": "3c74b521",
   "metadata": {
    "hidden": true
   },
   "source": [
    "##### 18 shared grams is still a big amount. Let's try 4-grams"
   ]
  },
  {
   "cell_type": "code",
   "execution_count": 54,
   "id": "3f1bcca9",
   "metadata": {
    "hidden": true
   },
   "outputs": [
    {
     "name": "stderr",
     "output_type": "stream",
     "text": [
      "/Users/eduardomonteiro/.pyenv/versions/3.10.6/envs/lewagon/lib/python3.10/site-packages/plotly/tools.py:460: DeprecationWarning:\n",
      "\n",
      "plotly.tools.make_subplots is deprecated, please use plotly.subplots.make_subplots instead\n",
      "\n"
     ]
    },
    {
     "data": {
      "application/vnd.plotly.v1+json": {
       "config": {
        "linkText": "Export to plot.ly",
        "plotlyServerURL": "https://plot.ly",
        "showLink": false
       },
       "data": [
        {
         "marker": {
          "color": "blue"
         },
         "orientation": "h",
         "showlegend": false,
         "type": "bar",
         "x": [
          29,
          29,
          30,
          30,
          30,
          31,
          31,
          32,
          32,
          32,
          32,
          32,
          32,
          32,
          34,
          34,
          35,
          35,
          36,
          39,
          40,
          40,
          40,
          41,
          41,
          42,
          42,
          42,
          44,
          45,
          46,
          47,
          48,
          48,
          52,
          52,
          53,
          54,
          57,
          60,
          61,
          61,
          64,
          66,
          69,
          71,
          73,
          79,
          91,
          184
         ],
         "xaxis": "x",
         "y": [
          "absolutely no sex drive.",
          "no mood swings, no",
          "absolutely no sex drive,",
          "never experienced anything like",
          "first birth control ever",
          "would not recommend medication",
          "absolutely no sex drive",
          "\"i started taking medicine",
          "it&#039;s not worth it.\"",
          "since started taking it.",
          "\"i took first dose",
          "\"i got birth control",
          "\"i got depo shot",
          "wish would read reviews",
          "it&#039;s not worth it.",
          "no weight gain, no",
          "\"this worst birth control",
          "not worth side effects",
          "felt like going pass",
          "side effects aren&#039;t worth",
          "worst birth control i&#039;ve",
          "not worth side effects.\"",
          "would not recommend pill",
          "would not recommend drug",
          "first birth control pill",
          "\"i got nexplanon inserted",
          "ever since started taking",
          "\"i taking birth control",
          "side effects go away",
          "\"i started taking medication",
          "no sex drive all.",
          "i&#039;m going stop taking",
          "started taking birth control",
          "worst pain i&#039;ve ever",
          "worst birth control ever",
          "\"i would not recommend",
          "would not recommend anyone.",
          "ortho tri cyclen lo",
          "would not recommend anyone.\"",
          "i&#039;m not sure it&#039;s",
          "\"this first birth control",
          "would not recommend anyone",
          "effects not worth it.",
          "would not recommend birth",
          "\"i started taking pill",
          "birth control i&#039;ve ever",
          "\"i started birth control",
          "feel like i&#039;m going",
          "not recommend birth control",
          "side effects not worth"
         ],
         "yaxis": "y"
        },
        {
         "marker": {
          "color": "blue"
         },
         "orientation": "h",
         "showlegend": false,
         "type": "bar",
         "x": [
          74,
          74,
          75,
          76,
          77,
          77,
          78,
          80,
          81,
          81,
          83,
          83,
          85,
          85,
          86,
          86,
          87,
          88,
          89,
          90,
          90,
          91,
          91,
          91,
          92,
          93,
          93,
          95,
          95,
          98,
          100,
          102,
          108,
          109,
          110,
          110,
          114,
          115,
          116,
          117,
          118,
          127,
          140,
          141,
          157,
          159,
          201,
          270,
          328,
          386
         ],
         "xaxis": "x2",
         "y": [
          "no side effects all,",
          "side effect i&#039;ve experienced",
          "side effect i&#039;ve noticed",
          "\"i love birth control.",
          "little no side effects",
          "best thing ever happened",
          "weight gain, no mood",
          "took plan b within",
          "no real side effects",
          "feel like new person.",
          "feel like old self",
          "no side effects me.",
          "side effects dry mouth",
          "first birth control i&#039;ve",
          "post traumatic stress disorder.",
          "side effects go away",
          "i&#039;m not sure it&#039;s",
          "best birth control i&#039;ve",
          "no noticeable side effects",
          "first birth control pill",
          "plan b one step",
          "no major side effects",
          "no bad side effects.",
          "don&#039;t know would without",
          "side effects i&#039;ve experienced",
          "\"this first birth control",
          "\"i started taking phentermine",
          "no side effects all.\"",
          "no negative side effects.",
          "no side effects no",
          "started taking birth control",
          "side effects went away",
          "no side effects whatsoever.",
          "\"i took plan b",
          "\"i started taking medication",
          "absolutely no side effects.",
          "little no side effects.",
          "no side effects, no",
          "post traumatic stress disorder",
          "i&#039;ve no side effects",
          "birth control i&#039;ve ever",
          "not experienced side effects",
          "absolutely no side effects",
          "experienced no side effects",
          "no negative side effects",
          "no bad side effects",
          "no mood swings, no",
          "no side effects except",
          "no side effects all.",
          "no weight gain, no"
         ],
         "yaxis": "y2"
        }
       ],
       "layout": {
        "annotations": [
         {
          "font": {
           "size": 16
          },
          "showarrow": false,
          "text": "Most used words of rating 1 to 5",
          "x": 0.225,
          "xanchor": "center",
          "xref": "paper",
          "y": 1,
          "yanchor": "bottom",
          "yref": "paper"
         },
         {
          "font": {
           "size": 16
          },
          "showarrow": false,
          "text": "Most used words of rating 6 to 10",
          "x": 0.775,
          "xanchor": "center",
          "xref": "paper",
          "y": 1,
          "yanchor": "bottom",
          "yref": "paper"
         }
        ],
        "height": 1200,
        "paper_bgcolor": "rgb(233,233,233)",
        "template": {
         "data": {
          "bar": [
           {
            "error_x": {
             "color": "#2a3f5f"
            },
            "error_y": {
             "color": "#2a3f5f"
            },
            "marker": {
             "line": {
              "color": "#E5ECF6",
              "width": 0.5
             },
             "pattern": {
              "fillmode": "overlay",
              "size": 10,
              "solidity": 0.2
             }
            },
            "type": "bar"
           }
          ],
          "barpolar": [
           {
            "marker": {
             "line": {
              "color": "#E5ECF6",
              "width": 0.5
             },
             "pattern": {
              "fillmode": "overlay",
              "size": 10,
              "solidity": 0.2
             }
            },
            "type": "barpolar"
           }
          ],
          "carpet": [
           {
            "aaxis": {
             "endlinecolor": "#2a3f5f",
             "gridcolor": "white",
             "linecolor": "white",
             "minorgridcolor": "white",
             "startlinecolor": "#2a3f5f"
            },
            "baxis": {
             "endlinecolor": "#2a3f5f",
             "gridcolor": "white",
             "linecolor": "white",
             "minorgridcolor": "white",
             "startlinecolor": "#2a3f5f"
            },
            "type": "carpet"
           }
          ],
          "choropleth": [
           {
            "colorbar": {
             "outlinewidth": 0,
             "ticks": ""
            },
            "type": "choropleth"
           }
          ],
          "contour": [
           {
            "colorbar": {
             "outlinewidth": 0,
             "ticks": ""
            },
            "colorscale": [
             [
              0,
              "#0d0887"
             ],
             [
              0.1111111111111111,
              "#46039f"
             ],
             [
              0.2222222222222222,
              "#7201a8"
             ],
             [
              0.3333333333333333,
              "#9c179e"
             ],
             [
              0.4444444444444444,
              "#bd3786"
             ],
             [
              0.5555555555555556,
              "#d8576b"
             ],
             [
              0.6666666666666666,
              "#ed7953"
             ],
             [
              0.7777777777777778,
              "#fb9f3a"
             ],
             [
              0.8888888888888888,
              "#fdca26"
             ],
             [
              1,
              "#f0f921"
             ]
            ],
            "type": "contour"
           }
          ],
          "contourcarpet": [
           {
            "colorbar": {
             "outlinewidth": 0,
             "ticks": ""
            },
            "type": "contourcarpet"
           }
          ],
          "heatmap": [
           {
            "colorbar": {
             "outlinewidth": 0,
             "ticks": ""
            },
            "colorscale": [
             [
              0,
              "#0d0887"
             ],
             [
              0.1111111111111111,
              "#46039f"
             ],
             [
              0.2222222222222222,
              "#7201a8"
             ],
             [
              0.3333333333333333,
              "#9c179e"
             ],
             [
              0.4444444444444444,
              "#bd3786"
             ],
             [
              0.5555555555555556,
              "#d8576b"
             ],
             [
              0.6666666666666666,
              "#ed7953"
             ],
             [
              0.7777777777777778,
              "#fb9f3a"
             ],
             [
              0.8888888888888888,
              "#fdca26"
             ],
             [
              1,
              "#f0f921"
             ]
            ],
            "type": "heatmap"
           }
          ],
          "heatmapgl": [
           {
            "colorbar": {
             "outlinewidth": 0,
             "ticks": ""
            },
            "colorscale": [
             [
              0,
              "#0d0887"
             ],
             [
              0.1111111111111111,
              "#46039f"
             ],
             [
              0.2222222222222222,
              "#7201a8"
             ],
             [
              0.3333333333333333,
              "#9c179e"
             ],
             [
              0.4444444444444444,
              "#bd3786"
             ],
             [
              0.5555555555555556,
              "#d8576b"
             ],
             [
              0.6666666666666666,
              "#ed7953"
             ],
             [
              0.7777777777777778,
              "#fb9f3a"
             ],
             [
              0.8888888888888888,
              "#fdca26"
             ],
             [
              1,
              "#f0f921"
             ]
            ],
            "type": "heatmapgl"
           }
          ],
          "histogram": [
           {
            "marker": {
             "pattern": {
              "fillmode": "overlay",
              "size": 10,
              "solidity": 0.2
             }
            },
            "type": "histogram"
           }
          ],
          "histogram2d": [
           {
            "colorbar": {
             "outlinewidth": 0,
             "ticks": ""
            },
            "colorscale": [
             [
              0,
              "#0d0887"
             ],
             [
              0.1111111111111111,
              "#46039f"
             ],
             [
              0.2222222222222222,
              "#7201a8"
             ],
             [
              0.3333333333333333,
              "#9c179e"
             ],
             [
              0.4444444444444444,
              "#bd3786"
             ],
             [
              0.5555555555555556,
              "#d8576b"
             ],
             [
              0.6666666666666666,
              "#ed7953"
             ],
             [
              0.7777777777777778,
              "#fb9f3a"
             ],
             [
              0.8888888888888888,
              "#fdca26"
             ],
             [
              1,
              "#f0f921"
             ]
            ],
            "type": "histogram2d"
           }
          ],
          "histogram2dcontour": [
           {
            "colorbar": {
             "outlinewidth": 0,
             "ticks": ""
            },
            "colorscale": [
             [
              0,
              "#0d0887"
             ],
             [
              0.1111111111111111,
              "#46039f"
             ],
             [
              0.2222222222222222,
              "#7201a8"
             ],
             [
              0.3333333333333333,
              "#9c179e"
             ],
             [
              0.4444444444444444,
              "#bd3786"
             ],
             [
              0.5555555555555556,
              "#d8576b"
             ],
             [
              0.6666666666666666,
              "#ed7953"
             ],
             [
              0.7777777777777778,
              "#fb9f3a"
             ],
             [
              0.8888888888888888,
              "#fdca26"
             ],
             [
              1,
              "#f0f921"
             ]
            ],
            "type": "histogram2dcontour"
           }
          ],
          "mesh3d": [
           {
            "colorbar": {
             "outlinewidth": 0,
             "ticks": ""
            },
            "type": "mesh3d"
           }
          ],
          "parcoords": [
           {
            "line": {
             "colorbar": {
              "outlinewidth": 0,
              "ticks": ""
             }
            },
            "type": "parcoords"
           }
          ],
          "pie": [
           {
            "automargin": true,
            "type": "pie"
           }
          ],
          "scatter": [
           {
            "fillpattern": {
             "fillmode": "overlay",
             "size": 10,
             "solidity": 0.2
            },
            "type": "scatter"
           }
          ],
          "scatter3d": [
           {
            "line": {
             "colorbar": {
              "outlinewidth": 0,
              "ticks": ""
             }
            },
            "marker": {
             "colorbar": {
              "outlinewidth": 0,
              "ticks": ""
             }
            },
            "type": "scatter3d"
           }
          ],
          "scattercarpet": [
           {
            "marker": {
             "colorbar": {
              "outlinewidth": 0,
              "ticks": ""
             }
            },
            "type": "scattercarpet"
           }
          ],
          "scattergeo": [
           {
            "marker": {
             "colorbar": {
              "outlinewidth": 0,
              "ticks": ""
             }
            },
            "type": "scattergeo"
           }
          ],
          "scattergl": [
           {
            "marker": {
             "colorbar": {
              "outlinewidth": 0,
              "ticks": ""
             }
            },
            "type": "scattergl"
           }
          ],
          "scattermapbox": [
           {
            "marker": {
             "colorbar": {
              "outlinewidth": 0,
              "ticks": ""
             }
            },
            "type": "scattermapbox"
           }
          ],
          "scatterpolar": [
           {
            "marker": {
             "colorbar": {
              "outlinewidth": 0,
              "ticks": ""
             }
            },
            "type": "scatterpolar"
           }
          ],
          "scatterpolargl": [
           {
            "marker": {
             "colorbar": {
              "outlinewidth": 0,
              "ticks": ""
             }
            },
            "type": "scatterpolargl"
           }
          ],
          "scatterternary": [
           {
            "marker": {
             "colorbar": {
              "outlinewidth": 0,
              "ticks": ""
             }
            },
            "type": "scatterternary"
           }
          ],
          "surface": [
           {
            "colorbar": {
             "outlinewidth": 0,
             "ticks": ""
            },
            "colorscale": [
             [
              0,
              "#0d0887"
             ],
             [
              0.1111111111111111,
              "#46039f"
             ],
             [
              0.2222222222222222,
              "#7201a8"
             ],
             [
              0.3333333333333333,
              "#9c179e"
             ],
             [
              0.4444444444444444,
              "#bd3786"
             ],
             [
              0.5555555555555556,
              "#d8576b"
             ],
             [
              0.6666666666666666,
              "#ed7953"
             ],
             [
              0.7777777777777778,
              "#fb9f3a"
             ],
             [
              0.8888888888888888,
              "#fdca26"
             ],
             [
              1,
              "#f0f921"
             ]
            ],
            "type": "surface"
           }
          ],
          "table": [
           {
            "cells": {
             "fill": {
              "color": "#EBF0F8"
             },
             "line": {
              "color": "white"
             }
            },
            "header": {
             "fill": {
              "color": "#C8D4E3"
             },
             "line": {
              "color": "white"
             }
            },
            "type": "table"
           }
          ]
         },
         "layout": {
          "annotationdefaults": {
           "arrowcolor": "#2a3f5f",
           "arrowhead": 0,
           "arrowwidth": 1
          },
          "autotypenumbers": "strict",
          "coloraxis": {
           "colorbar": {
            "outlinewidth": 0,
            "ticks": ""
           }
          },
          "colorscale": {
           "diverging": [
            [
             0,
             "#8e0152"
            ],
            [
             0.1,
             "#c51b7d"
            ],
            [
             0.2,
             "#de77ae"
            ],
            [
             0.3,
             "#f1b6da"
            ],
            [
             0.4,
             "#fde0ef"
            ],
            [
             0.5,
             "#f7f7f7"
            ],
            [
             0.6,
             "#e6f5d0"
            ],
            [
             0.7,
             "#b8e186"
            ],
            [
             0.8,
             "#7fbc41"
            ],
            [
             0.9,
             "#4d9221"
            ],
            [
             1,
             "#276419"
            ]
           ],
           "sequential": [
            [
             0,
             "#0d0887"
            ],
            [
             0.1111111111111111,
             "#46039f"
            ],
            [
             0.2222222222222222,
             "#7201a8"
            ],
            [
             0.3333333333333333,
             "#9c179e"
            ],
            [
             0.4444444444444444,
             "#bd3786"
            ],
            [
             0.5555555555555556,
             "#d8576b"
            ],
            [
             0.6666666666666666,
             "#ed7953"
            ],
            [
             0.7777777777777778,
             "#fb9f3a"
            ],
            [
             0.8888888888888888,
             "#fdca26"
            ],
            [
             1,
             "#f0f921"
            ]
           ],
           "sequentialminus": [
            [
             0,
             "#0d0887"
            ],
            [
             0.1111111111111111,
             "#46039f"
            ],
            [
             0.2222222222222222,
             "#7201a8"
            ],
            [
             0.3333333333333333,
             "#9c179e"
            ],
            [
             0.4444444444444444,
             "#bd3786"
            ],
            [
             0.5555555555555556,
             "#d8576b"
            ],
            [
             0.6666666666666666,
             "#ed7953"
            ],
            [
             0.7777777777777778,
             "#fb9f3a"
            ],
            [
             0.8888888888888888,
             "#fdca26"
            ],
            [
             1,
             "#f0f921"
            ]
           ]
          },
          "colorway": [
           "#636efa",
           "#EF553B",
           "#00cc96",
           "#ab63fa",
           "#FFA15A",
           "#19d3f3",
           "#FF6692",
           "#B6E880",
           "#FF97FF",
           "#FECB52"
          ],
          "font": {
           "color": "#2a3f5f"
          },
          "geo": {
           "bgcolor": "white",
           "lakecolor": "white",
           "landcolor": "#E5ECF6",
           "showlakes": true,
           "showland": true,
           "subunitcolor": "white"
          },
          "hoverlabel": {
           "align": "left"
          },
          "hovermode": "closest",
          "mapbox": {
           "style": "light"
          },
          "paper_bgcolor": "white",
          "plot_bgcolor": "#E5ECF6",
          "polar": {
           "angularaxis": {
            "gridcolor": "white",
            "linecolor": "white",
            "ticks": ""
           },
           "bgcolor": "#E5ECF6",
           "radialaxis": {
            "gridcolor": "white",
            "linecolor": "white",
            "ticks": ""
           }
          },
          "scene": {
           "xaxis": {
            "backgroundcolor": "#E5ECF6",
            "gridcolor": "white",
            "gridwidth": 2,
            "linecolor": "white",
            "showbackground": true,
            "ticks": "",
            "zerolinecolor": "white"
           },
           "yaxis": {
            "backgroundcolor": "#E5ECF6",
            "gridcolor": "white",
            "gridwidth": 2,
            "linecolor": "white",
            "showbackground": true,
            "ticks": "",
            "zerolinecolor": "white"
           },
           "zaxis": {
            "backgroundcolor": "#E5ECF6",
            "gridcolor": "white",
            "gridwidth": 2,
            "linecolor": "white",
            "showbackground": true,
            "ticks": "",
            "zerolinecolor": "white"
           }
          },
          "shapedefaults": {
           "line": {
            "color": "#2a3f5f"
           }
          },
          "ternary": {
           "aaxis": {
            "gridcolor": "white",
            "linecolor": "white",
            "ticks": ""
           },
           "baxis": {
            "gridcolor": "white",
            "linecolor": "white",
            "ticks": ""
           },
           "bgcolor": "#E5ECF6",
           "caxis": {
            "gridcolor": "white",
            "linecolor": "white",
            "ticks": ""
           }
          },
          "title": {
           "x": 0.05
          },
          "xaxis": {
           "automargin": true,
           "gridcolor": "white",
           "linecolor": "white",
           "ticks": "",
           "title": {
            "standoff": 15
           },
           "zerolinecolor": "white",
           "zerolinewidth": 2
          },
          "yaxis": {
           "automargin": true,
           "gridcolor": "white",
           "linecolor": "white",
           "ticks": "",
           "title": {
            "standoff": 15
           },
           "zerolinecolor": "white",
           "zerolinewidth": 2
          }
         }
        },
        "title": {
         "text": "Word Count Plots"
        },
        "width": 900,
        "xaxis": {
         "anchor": "y",
         "domain": [
          0,
          0.45
         ]
        },
        "xaxis2": {
         "anchor": "y2",
         "domain": [
          0.55,
          1
         ]
        },
        "yaxis": {
         "anchor": "x",
         "domain": [
          0,
          1
         ]
        },
        "yaxis2": {
         "anchor": "x2",
         "domain": [
          0,
          1
         ]
        }
       }
      },
      "text/html": [
       "<div>                            <div id=\"cb2142d5-8481-4229-ac69-29e022dfd469\" class=\"plotly-graph-div\" style=\"height:1200px; width:900px;\"></div>            <script type=\"text/javascript\">                require([\"plotly\"], function(Plotly) {                    window.PLOTLYENV=window.PLOTLYENV || {};                                    if (document.getElementById(\"cb2142d5-8481-4229-ac69-29e022dfd469\")) {                    Plotly.newPlot(                        \"cb2142d5-8481-4229-ac69-29e022dfd469\",                        [{\"marker\":{\"color\":\"blue\"},\"orientation\":\"h\",\"showlegend\":false,\"x\":[29,29,30,30,30,31,31,32,32,32,32,32,32,32,34,34,35,35,36,39,40,40,40,41,41,42,42,42,44,45,46,47,48,48,52,52,53,54,57,60,61,61,64,66,69,71,73,79,91,184],\"xaxis\":\"x\",\"y\":[\"absolutely no sex drive.\",\"no mood swings, no\",\"absolutely no sex drive,\",\"never experienced anything like\",\"first birth control ever\",\"would not recommend medication\",\"absolutely no sex drive\",\"\\\"i started taking medicine\",\"it&#039;s not worth it.\\\"\",\"since started taking it.\",\"\\\"i took first dose\",\"\\\"i got birth control\",\"\\\"i got depo shot\",\"wish would read reviews\",\"it&#039;s not worth it.\",\"no weight gain, no\",\"\\\"this worst birth control\",\"not worth side effects\",\"felt like going pass\",\"side effects aren&#039;t worth\",\"worst birth control i&#039;ve\",\"not worth side effects.\\\"\",\"would not recommend pill\",\"would not recommend drug\",\"first birth control pill\",\"\\\"i got nexplanon inserted\",\"ever since started taking\",\"\\\"i taking birth control\",\"side effects go away\",\"\\\"i started taking medication\",\"no sex drive all.\",\"i&#039;m going stop taking\",\"started taking birth control\",\"worst pain i&#039;ve ever\",\"worst birth control ever\",\"\\\"i would not recommend\",\"would not recommend anyone.\",\"ortho tri cyclen lo\",\"would not recommend anyone.\\\"\",\"i&#039;m not sure it&#039;s\",\"\\\"this first birth control\",\"would not recommend anyone\",\"effects not worth it.\",\"would not recommend birth\",\"\\\"i started taking pill\",\"birth control i&#039;ve ever\",\"\\\"i started birth control\",\"feel like i&#039;m going\",\"not recommend birth control\",\"side effects not worth\"],\"yaxis\":\"y\",\"type\":\"bar\"},{\"marker\":{\"color\":\"blue\"},\"orientation\":\"h\",\"showlegend\":false,\"x\":[74,74,75,76,77,77,78,80,81,81,83,83,85,85,86,86,87,88,89,90,90,91,91,91,92,93,93,95,95,98,100,102,108,109,110,110,114,115,116,117,118,127,140,141,157,159,201,270,328,386],\"xaxis\":\"x2\",\"y\":[\"no side effects all,\",\"side effect i&#039;ve experienced\",\"side effect i&#039;ve noticed\",\"\\\"i love birth control.\",\"little no side effects\",\"best thing ever happened\",\"weight gain, no mood\",\"took plan b within\",\"no real side effects\",\"feel like new person.\",\"feel like old self\",\"no side effects me.\",\"side effects dry mouth\",\"first birth control i&#039;ve\",\"post traumatic stress disorder.\",\"side effects go away\",\"i&#039;m not sure it&#039;s\",\"best birth control i&#039;ve\",\"no noticeable side effects\",\"first birth control pill\",\"plan b one step\",\"no major side effects\",\"no bad side effects.\",\"don&#039;t know would without\",\"side effects i&#039;ve experienced\",\"\\\"this first birth control\",\"\\\"i started taking phentermine\",\"no side effects all.\\\"\",\"no negative side effects.\",\"no side effects no\",\"started taking birth control\",\"side effects went away\",\"no side effects whatsoever.\",\"\\\"i took plan b\",\"\\\"i started taking medication\",\"absolutely no side effects.\",\"little no side effects.\",\"no side effects, no\",\"post traumatic stress disorder\",\"i&#039;ve no side effects\",\"birth control i&#039;ve ever\",\"not experienced side effects\",\"absolutely no side effects\",\"experienced no side effects\",\"no negative side effects\",\"no bad side effects\",\"no mood swings, no\",\"no side effects except\",\"no side effects all.\",\"no weight gain, no\"],\"yaxis\":\"y2\",\"type\":\"bar\"}],                        {\"annotations\":[{\"font\":{\"size\":16},\"showarrow\":false,\"text\":\"Most used words of rating 1 to 5\",\"x\":0.225,\"xanchor\":\"center\",\"xref\":\"paper\",\"y\":1.0,\"yanchor\":\"bottom\",\"yref\":\"paper\"},{\"font\":{\"size\":16},\"showarrow\":false,\"text\":\"Most used words of rating 6 to 10\",\"x\":0.775,\"xanchor\":\"center\",\"xref\":\"paper\",\"y\":1.0,\"yanchor\":\"bottom\",\"yref\":\"paper\"}],\"height\":1200,\"paper_bgcolor\":\"rgb(233,233,233)\",\"template\":{\"data\":{\"barpolar\":[{\"marker\":{\"line\":{\"color\":\"#E5ECF6\",\"width\":0.5},\"pattern\":{\"fillmode\":\"overlay\",\"size\":10,\"solidity\":0.2}},\"type\":\"barpolar\"}],\"bar\":[{\"error_x\":{\"color\":\"#2a3f5f\"},\"error_y\":{\"color\":\"#2a3f5f\"},\"marker\":{\"line\":{\"color\":\"#E5ECF6\",\"width\":0.5},\"pattern\":{\"fillmode\":\"overlay\",\"size\":10,\"solidity\":0.2}},\"type\":\"bar\"}],\"carpet\":[{\"aaxis\":{\"endlinecolor\":\"#2a3f5f\",\"gridcolor\":\"white\",\"linecolor\":\"white\",\"minorgridcolor\":\"white\",\"startlinecolor\":\"#2a3f5f\"},\"baxis\":{\"endlinecolor\":\"#2a3f5f\",\"gridcolor\":\"white\",\"linecolor\":\"white\",\"minorgridcolor\":\"white\",\"startlinecolor\":\"#2a3f5f\"},\"type\":\"carpet\"}],\"choropleth\":[{\"colorbar\":{\"outlinewidth\":0,\"ticks\":\"\"},\"type\":\"choropleth\"}],\"contourcarpet\":[{\"colorbar\":{\"outlinewidth\":0,\"ticks\":\"\"},\"type\":\"contourcarpet\"}],\"contour\":[{\"colorbar\":{\"outlinewidth\":0,\"ticks\":\"\"},\"colorscale\":[[0.0,\"#0d0887\"],[0.1111111111111111,\"#46039f\"],[0.2222222222222222,\"#7201a8\"],[0.3333333333333333,\"#9c179e\"],[0.4444444444444444,\"#bd3786\"],[0.5555555555555556,\"#d8576b\"],[0.6666666666666666,\"#ed7953\"],[0.7777777777777778,\"#fb9f3a\"],[0.8888888888888888,\"#fdca26\"],[1.0,\"#f0f921\"]],\"type\":\"contour\"}],\"heatmapgl\":[{\"colorbar\":{\"outlinewidth\":0,\"ticks\":\"\"},\"colorscale\":[[0.0,\"#0d0887\"],[0.1111111111111111,\"#46039f\"],[0.2222222222222222,\"#7201a8\"],[0.3333333333333333,\"#9c179e\"],[0.4444444444444444,\"#bd3786\"],[0.5555555555555556,\"#d8576b\"],[0.6666666666666666,\"#ed7953\"],[0.7777777777777778,\"#fb9f3a\"],[0.8888888888888888,\"#fdca26\"],[1.0,\"#f0f921\"]],\"type\":\"heatmapgl\"}],\"heatmap\":[{\"colorbar\":{\"outlinewidth\":0,\"ticks\":\"\"},\"colorscale\":[[0.0,\"#0d0887\"],[0.1111111111111111,\"#46039f\"],[0.2222222222222222,\"#7201a8\"],[0.3333333333333333,\"#9c179e\"],[0.4444444444444444,\"#bd3786\"],[0.5555555555555556,\"#d8576b\"],[0.6666666666666666,\"#ed7953\"],[0.7777777777777778,\"#fb9f3a\"],[0.8888888888888888,\"#fdca26\"],[1.0,\"#f0f921\"]],\"type\":\"heatmap\"}],\"histogram2dcontour\":[{\"colorbar\":{\"outlinewidth\":0,\"ticks\":\"\"},\"colorscale\":[[0.0,\"#0d0887\"],[0.1111111111111111,\"#46039f\"],[0.2222222222222222,\"#7201a8\"],[0.3333333333333333,\"#9c179e\"],[0.4444444444444444,\"#bd3786\"],[0.5555555555555556,\"#d8576b\"],[0.6666666666666666,\"#ed7953\"],[0.7777777777777778,\"#fb9f3a\"],[0.8888888888888888,\"#fdca26\"],[1.0,\"#f0f921\"]],\"type\":\"histogram2dcontour\"}],\"histogram2d\":[{\"colorbar\":{\"outlinewidth\":0,\"ticks\":\"\"},\"colorscale\":[[0.0,\"#0d0887\"],[0.1111111111111111,\"#46039f\"],[0.2222222222222222,\"#7201a8\"],[0.3333333333333333,\"#9c179e\"],[0.4444444444444444,\"#bd3786\"],[0.5555555555555556,\"#d8576b\"],[0.6666666666666666,\"#ed7953\"],[0.7777777777777778,\"#fb9f3a\"],[0.8888888888888888,\"#fdca26\"],[1.0,\"#f0f921\"]],\"type\":\"histogram2d\"}],\"histogram\":[{\"marker\":{\"pattern\":{\"fillmode\":\"overlay\",\"size\":10,\"solidity\":0.2}},\"type\":\"histogram\"}],\"mesh3d\":[{\"colorbar\":{\"outlinewidth\":0,\"ticks\":\"\"},\"type\":\"mesh3d\"}],\"parcoords\":[{\"line\":{\"colorbar\":{\"outlinewidth\":0,\"ticks\":\"\"}},\"type\":\"parcoords\"}],\"pie\":[{\"automargin\":true,\"type\":\"pie\"}],\"scatter3d\":[{\"line\":{\"colorbar\":{\"outlinewidth\":0,\"ticks\":\"\"}},\"marker\":{\"colorbar\":{\"outlinewidth\":0,\"ticks\":\"\"}},\"type\":\"scatter3d\"}],\"scattercarpet\":[{\"marker\":{\"colorbar\":{\"outlinewidth\":0,\"ticks\":\"\"}},\"type\":\"scattercarpet\"}],\"scattergeo\":[{\"marker\":{\"colorbar\":{\"outlinewidth\":0,\"ticks\":\"\"}},\"type\":\"scattergeo\"}],\"scattergl\":[{\"marker\":{\"colorbar\":{\"outlinewidth\":0,\"ticks\":\"\"}},\"type\":\"scattergl\"}],\"scattermapbox\":[{\"marker\":{\"colorbar\":{\"outlinewidth\":0,\"ticks\":\"\"}},\"type\":\"scattermapbox\"}],\"scatterpolargl\":[{\"marker\":{\"colorbar\":{\"outlinewidth\":0,\"ticks\":\"\"}},\"type\":\"scatterpolargl\"}],\"scatterpolar\":[{\"marker\":{\"colorbar\":{\"outlinewidth\":0,\"ticks\":\"\"}},\"type\":\"scatterpolar\"}],\"scatter\":[{\"fillpattern\":{\"fillmode\":\"overlay\",\"size\":10,\"solidity\":0.2},\"type\":\"scatter\"}],\"scatterternary\":[{\"marker\":{\"colorbar\":{\"outlinewidth\":0,\"ticks\":\"\"}},\"type\":\"scatterternary\"}],\"surface\":[{\"colorbar\":{\"outlinewidth\":0,\"ticks\":\"\"},\"colorscale\":[[0.0,\"#0d0887\"],[0.1111111111111111,\"#46039f\"],[0.2222222222222222,\"#7201a8\"],[0.3333333333333333,\"#9c179e\"],[0.4444444444444444,\"#bd3786\"],[0.5555555555555556,\"#d8576b\"],[0.6666666666666666,\"#ed7953\"],[0.7777777777777778,\"#fb9f3a\"],[0.8888888888888888,\"#fdca26\"],[1.0,\"#f0f921\"]],\"type\":\"surface\"}],\"table\":[{\"cells\":{\"fill\":{\"color\":\"#EBF0F8\"},\"line\":{\"color\":\"white\"}},\"header\":{\"fill\":{\"color\":\"#C8D4E3\"},\"line\":{\"color\":\"white\"}},\"type\":\"table\"}]},\"layout\":{\"annotationdefaults\":{\"arrowcolor\":\"#2a3f5f\",\"arrowhead\":0,\"arrowwidth\":1},\"autotypenumbers\":\"strict\",\"coloraxis\":{\"colorbar\":{\"outlinewidth\":0,\"ticks\":\"\"}},\"colorscale\":{\"diverging\":[[0,\"#8e0152\"],[0.1,\"#c51b7d\"],[0.2,\"#de77ae\"],[0.3,\"#f1b6da\"],[0.4,\"#fde0ef\"],[0.5,\"#f7f7f7\"],[0.6,\"#e6f5d0\"],[0.7,\"#b8e186\"],[0.8,\"#7fbc41\"],[0.9,\"#4d9221\"],[1,\"#276419\"]],\"sequential\":[[0.0,\"#0d0887\"],[0.1111111111111111,\"#46039f\"],[0.2222222222222222,\"#7201a8\"],[0.3333333333333333,\"#9c179e\"],[0.4444444444444444,\"#bd3786\"],[0.5555555555555556,\"#d8576b\"],[0.6666666666666666,\"#ed7953\"],[0.7777777777777778,\"#fb9f3a\"],[0.8888888888888888,\"#fdca26\"],[1.0,\"#f0f921\"]],\"sequentialminus\":[[0.0,\"#0d0887\"],[0.1111111111111111,\"#46039f\"],[0.2222222222222222,\"#7201a8\"],[0.3333333333333333,\"#9c179e\"],[0.4444444444444444,\"#bd3786\"],[0.5555555555555556,\"#d8576b\"],[0.6666666666666666,\"#ed7953\"],[0.7777777777777778,\"#fb9f3a\"],[0.8888888888888888,\"#fdca26\"],[1.0,\"#f0f921\"]]},\"colorway\":[\"#636efa\",\"#EF553B\",\"#00cc96\",\"#ab63fa\",\"#FFA15A\",\"#19d3f3\",\"#FF6692\",\"#B6E880\",\"#FF97FF\",\"#FECB52\"],\"font\":{\"color\":\"#2a3f5f\"},\"geo\":{\"bgcolor\":\"white\",\"lakecolor\":\"white\",\"landcolor\":\"#E5ECF6\",\"showlakes\":true,\"showland\":true,\"subunitcolor\":\"white\"},\"hoverlabel\":{\"align\":\"left\"},\"hovermode\":\"closest\",\"mapbox\":{\"style\":\"light\"},\"paper_bgcolor\":\"white\",\"plot_bgcolor\":\"#E5ECF6\",\"polar\":{\"angularaxis\":{\"gridcolor\":\"white\",\"linecolor\":\"white\",\"ticks\":\"\"},\"bgcolor\":\"#E5ECF6\",\"radialaxis\":{\"gridcolor\":\"white\",\"linecolor\":\"white\",\"ticks\":\"\"}},\"scene\":{\"xaxis\":{\"backgroundcolor\":\"#E5ECF6\",\"gridcolor\":\"white\",\"gridwidth\":2,\"linecolor\":\"white\",\"showbackground\":true,\"ticks\":\"\",\"zerolinecolor\":\"white\"},\"yaxis\":{\"backgroundcolor\":\"#E5ECF6\",\"gridcolor\":\"white\",\"gridwidth\":2,\"linecolor\":\"white\",\"showbackground\":true,\"ticks\":\"\",\"zerolinecolor\":\"white\"},\"zaxis\":{\"backgroundcolor\":\"#E5ECF6\",\"gridcolor\":\"white\",\"gridwidth\":2,\"linecolor\":\"white\",\"showbackground\":true,\"ticks\":\"\",\"zerolinecolor\":\"white\"}},\"shapedefaults\":{\"line\":{\"color\":\"#2a3f5f\"}},\"ternary\":{\"aaxis\":{\"gridcolor\":\"white\",\"linecolor\":\"white\",\"ticks\":\"\"},\"baxis\":{\"gridcolor\":\"white\",\"linecolor\":\"white\",\"ticks\":\"\"},\"bgcolor\":\"#E5ECF6\",\"caxis\":{\"gridcolor\":\"white\",\"linecolor\":\"white\",\"ticks\":\"\"}},\"title\":{\"x\":0.05},\"xaxis\":{\"automargin\":true,\"gridcolor\":\"white\",\"linecolor\":\"white\",\"ticks\":\"\",\"title\":{\"standoff\":15},\"zerolinecolor\":\"white\",\"zerolinewidth\":2},\"yaxis\":{\"automargin\":true,\"gridcolor\":\"white\",\"linecolor\":\"white\",\"ticks\":\"\",\"title\":{\"standoff\":15},\"zerolinecolor\":\"white\",\"zerolinewidth\":2}}},\"title\":{\"text\":\"Word Count Plots\"},\"width\":900,\"xaxis\":{\"anchor\":\"y\",\"domain\":[0.0,0.45]},\"yaxis\":{\"anchor\":\"x\",\"domain\":[0.0,1.0]},\"xaxis2\":{\"anchor\":\"y2\",\"domain\":[0.55,1.0]},\"yaxis2\":{\"anchor\":\"x2\",\"domain\":[0.0,1.0]}},                        {\"responsive\": true}                    ).then(function(){\n",
       "                            \n",
       "var gd = document.getElementById('cb2142d5-8481-4229-ac69-29e022dfd469');\n",
       "var x = new MutationObserver(function (mutations, observer) {{\n",
       "        var display = window.getComputedStyle(gd).display;\n",
       "        if (!display || display === 'none') {{\n",
       "            console.log([gd, 'removed!']);\n",
       "            Plotly.purge(gd);\n",
       "            observer.disconnect();\n",
       "        }}\n",
       "}});\n",
       "\n",
       "// Listen for the removal of the full notebook cells\n",
       "var notebookContainer = gd.closest('#notebook-container');\n",
       "if (notebookContainer) {{\n",
       "    x.observe(notebookContainer, {childList: true});\n",
       "}}\n",
       "\n",
       "// Listen for the clearing of the current output cell\n",
       "var outputEl = gd.closest('.output');\n",
       "if (outputEl) {{\n",
       "    x.observe(outputEl, {childList: true});\n",
       "}}\n",
       "\n",
       "                        })                };                });            </script>        </div>"
      ]
     },
     "metadata": {},
     "output_type": "display_data"
    }
   ],
   "source": [
    "#get the bar chart from rating 1 to 5\n",
    "\n",
    "freq_dict = defaultdict(int)\n",
    "for sent in df_all_1_5['review']:\n",
    "    for word in generate_ngrams(sent, 4):\n",
    "        freq_dict[word] += 1\n",
    "        \n",
    "fd_sorted_1_5 = pd.DataFrame(sorted(freq_dict.items(), key=lambda x: x[1])[::-1])\n",
    "#the same as: pd.DataFrame(freq_dict.items, columns=['word','freq']).sort_values('freq', ascending=False)\n",
    "fd_sorted_1_5.columns = ['word', 'wordcount']\n",
    "trace0 = horizontal_bar_chart(fd_sorted_1_5.head(50), 'blue')\n",
    "\n",
    "#get the bar chart from rating 6 to 10\n",
    "\n",
    "freq_dict = defaultdict(int)\n",
    "for sent in df_all_6_10['review']:\n",
    "    for word in generate_ngrams(sent, 4):\n",
    "        freq_dict[word] += 1\n",
    "        \n",
    "fd_sorted_6_10 = pd.DataFrame(sorted(freq_dict.items(), key=lambda x: x[1])[::-1])\n",
    "#the same as: pd.DataFrame(freq_dict.items, columns=['word','freq']).sort_values('freq', ascending=False)\n",
    "fd_sorted_6_10.columns = ['word', 'wordcount']\n",
    "trace1 = horizontal_bar_chart(fd_sorted_6_10.head(50), 'blue')\n",
    "\n",
    "#create two subplots\n",
    "fig = tools.make_subplots(rows=1, cols=2, vertical_spacing=0.04,\n",
    "                         subplot_titles= ['Most used words of rating 1 to 5',\n",
    "                                         'Most used words of rating 6 to 10'])\n",
    "fig.append_trace(trace0, 1, 1)\n",
    "fig.append_trace(trace1, 1, 2)\n",
    "fig['layout'].update(height=1200, width=900, paper_bgcolor='rgb(233,233,233)', title=\"Word Count Plots\")\n",
    "py.iplot(fig, filename='word-plots')"
   ]
  },
  {
   "cell_type": "code",
   "execution_count": 56,
   "id": "ffb4361e",
   "metadata": {
    "hidden": true
   },
   "outputs": [
    {
     "name": "stdout",
     "output_type": "stream",
     "text": [
      "There are 9 most used 4-grams that are shared in both dataframes\n"
     ]
    }
   ],
   "source": [
    "count = fd_sorted_1_5.head(50)['word'].isin(fd_sorted_6_10.head(50)['word']).sum()\n",
    "print(f'There are {count} most used 4-grams that are shared in both dataframes')"
   ]
  },
  {
   "cell_type": "markdown",
   "id": "3d5da2a1",
   "metadata": {
    "heading_collapsed": true,
    "hidden": true
   },
   "source": [
    "##### 9 seems to be a good enough to separate a good review from a bad one. Let's use the 4-grams to build the model"
   ]
  },
  {
   "cell_type": "markdown",
   "id": "c295e013",
   "metadata": {},
   "source": [
    "### Create new features"
   ]
  },
  {
   "cell_type": "code",
   "execution_count": 25,
   "id": "d3495b43",
   "metadata": {},
   "outputs": [
    {
     "name": "stderr",
     "output_type": "stream",
     "text": [
      "/Users/eduardomonteiro/.pyenv/versions/3.10.6/envs/lewagon/lib/python3.10/site-packages/bs4/__init__.py:435: MarkupResemblesLocatorWarning: The input looks more like a filename than markup. You may want to open this file and pass the filehandle into Beautiful Soup.\n",
      "  warnings.warn(\n"
     ]
    },
    {
     "name": "stdout",
     "output_type": "stream",
     "text": [
      "CPU times: user 1min 11s, sys: 193 ms, total: 1min 11s\n",
      "Wall time: 1min 11s\n"
     ]
    }
   ],
   "source": [
    "%time df_all['review_clean'] = df_all['review'].apply(review_to_words)"
   ]
  },
  {
   "cell_type": "code",
   "execution_count": 26,
   "id": "6c908eb1",
   "metadata": {},
   "outputs": [],
   "source": [
    "df_all['sentiment'] = df_all['rating'].apply(lambda x: 1 if x > 5 else 0)"
   ]
  },
  {
   "cell_type": "markdown",
   "id": "76b65922",
   "metadata": {},
   "source": [
    "## Model"
   ]
  },
  {
   "cell_type": "code",
   "execution_count": 52,
   "id": "d87a6eb1",
   "metadata": {},
   "outputs": [],
   "source": [
    "def plot_history(history):\n",
    "    \n",
    "    fig, ax = plt.subplots(1,2, figsize=(20,7))\n",
    "    # --- LOSS: MSE --- \n",
    "    ax[0].plot(history.history['loss'])\n",
    "    ax[0].plot(history.history['val_loss'])\n",
    "    ax[0].set_title('MSE')\n",
    "    ax[0].set_ylabel('Loss')\n",
    "    ax[0].set_xlabel('Epoch')\n",
    "    ax[0].legend(['Train', 'Validation'], loc='best')\n",
    "    ax[0].grid(axis=\"x\",linewidth=0.5)\n",
    "    ax[0].grid(axis=\"y\",linewidth=0.5)\n",
    "    \n",
    "    # --- METRICS:MAE ---\n",
    "    \n",
    "    ax[1].plot(history.history['accuracy'])\n",
    "    ax[1].plot(history.history['val_accuracy'])\n",
    "    ax[1].set_title('Accuracy')\n",
    "    ax[1].set_ylabel('Accuracy')\n",
    "    ax[1].set_xlabel('Epoch')\n",
    "    ax[1].legend(['Train', 'Validation'], loc='best')\n",
    "    ax[1].grid(axis=\"x\",linewidth=0.5)\n",
    "    ax[1].grid(axis=\"y\",linewidth=0.5)\n",
    "                        \n",
    "    return ax"
   ]
  },
  {
   "cell_type": "code",
   "execution_count": 53,
   "id": "af6e632d",
   "metadata": {},
   "outputs": [
    {
     "data": {
      "text/html": [
       "<div>\n",
       "<style scoped>\n",
       "    .dataframe tbody tr th:only-of-type {\n",
       "        vertical-align: middle;\n",
       "    }\n",
       "\n",
       "    .dataframe tbody tr th {\n",
       "        vertical-align: top;\n",
       "    }\n",
       "\n",
       "    .dataframe thead th {\n",
       "        text-align: right;\n",
       "    }\n",
       "</style>\n",
       "<table border=\"1\" class=\"dataframe\">\n",
       "  <thead>\n",
       "    <tr style=\"text-align: right;\">\n",
       "      <th></th>\n",
       "      <th>uniqueID</th>\n",
       "      <th>drugName</th>\n",
       "      <th>condition</th>\n",
       "      <th>review</th>\n",
       "      <th>rating</th>\n",
       "      <th>date</th>\n",
       "      <th>usefulCount</th>\n",
       "      <th>review_clean</th>\n",
       "      <th>sentiment</th>\n",
       "    </tr>\n",
       "  </thead>\n",
       "  <tbody>\n",
       "    <tr>\n",
       "      <th>0</th>\n",
       "      <td>206461</td>\n",
       "      <td>Valsartan</td>\n",
       "      <td>Left Ventricular Dysfunction</td>\n",
       "      <td>\"It has no side effect, I take it in combinati...</td>\n",
       "      <td>9</td>\n",
       "      <td>20-May-12</td>\n",
       "      <td>27</td>\n",
       "      <td>no side effect take combin bystol mg fish oil</td>\n",
       "      <td>1</td>\n",
       "    </tr>\n",
       "    <tr>\n",
       "      <th>1</th>\n",
       "      <td>95260</td>\n",
       "      <td>Guanfacine</td>\n",
       "      <td>ADHD</td>\n",
       "      <td>\"My son is halfway through his fourth week of ...</td>\n",
       "      <td>8</td>\n",
       "      <td>27-Apr-10</td>\n",
       "      <td>192</td>\n",
       "      <td>son halfway fourth week intuniv becam concern ...</td>\n",
       "      <td>1</td>\n",
       "    </tr>\n",
       "    <tr>\n",
       "      <th>2</th>\n",
       "      <td>92703</td>\n",
       "      <td>Lybrel</td>\n",
       "      <td>Birth Control</td>\n",
       "      <td>\"I used to take another oral contraceptive, wh...</td>\n",
       "      <td>5</td>\n",
       "      <td>14-Dec-09</td>\n",
       "      <td>17</td>\n",
       "      <td>use take anoth oral contracept pill cycl happi...</td>\n",
       "      <td>0</td>\n",
       "    </tr>\n",
       "    <tr>\n",
       "      <th>3</th>\n",
       "      <td>138000</td>\n",
       "      <td>Ortho Evra</td>\n",
       "      <td>Birth Control</td>\n",
       "      <td>\"This is my first time using any form of birth...</td>\n",
       "      <td>8</td>\n",
       "      <td>3-Nov-15</td>\n",
       "      <td>10</td>\n",
       "      <td>first time use form birth control glad went pa...</td>\n",
       "      <td>1</td>\n",
       "    </tr>\n",
       "    <tr>\n",
       "      <th>4</th>\n",
       "      <td>35696</td>\n",
       "      <td>Buprenorphine / naloxone</td>\n",
       "      <td>Opiate Dependence</td>\n",
       "      <td>\"Suboxone has completely turned my life around...</td>\n",
       "      <td>9</td>\n",
       "      <td>27-Nov-16</td>\n",
       "      <td>37</td>\n",
       "      <td>suboxon complet turn life around feel healthie...</td>\n",
       "      <td>1</td>\n",
       "    </tr>\n",
       "    <tr>\n",
       "      <th>...</th>\n",
       "      <td>...</td>\n",
       "      <td>...</td>\n",
       "      <td>...</td>\n",
       "      <td>...</td>\n",
       "      <td>...</td>\n",
       "      <td>...</td>\n",
       "      <td>...</td>\n",
       "      <td>...</td>\n",
       "      <td>...</td>\n",
       "    </tr>\n",
       "    <tr>\n",
       "      <th>212693</th>\n",
       "      <td>159999</td>\n",
       "      <td>Tamoxifen</td>\n",
       "      <td>Breast Cancer, Prevention</td>\n",
       "      <td>\"I have taken Tamoxifen for 5 years. Side effe...</td>\n",
       "      <td>10</td>\n",
       "      <td>13-Sep-14</td>\n",
       "      <td>43</td>\n",
       "      <td>taken tamoxifen year side effect sever sweat d...</td>\n",
       "      <td>1</td>\n",
       "    </tr>\n",
       "    <tr>\n",
       "      <th>212694</th>\n",
       "      <td>140714</td>\n",
       "      <td>Escitalopram</td>\n",
       "      <td>Anxiety</td>\n",
       "      <td>\"I&amp;#039;ve been taking Lexapro (escitaploprgra...</td>\n",
       "      <td>9</td>\n",
       "      <td>8-Oct-16</td>\n",
       "      <td>11</td>\n",
       "      <td>take lexapro escitaploprgram sinc februari fir...</td>\n",
       "      <td>1</td>\n",
       "    </tr>\n",
       "    <tr>\n",
       "      <th>212695</th>\n",
       "      <td>130945</td>\n",
       "      <td>Levonorgestrel</td>\n",
       "      <td>Birth Control</td>\n",
       "      <td>\"I&amp;#039;m married, 34 years old and I have no ...</td>\n",
       "      <td>8</td>\n",
       "      <td>15-Nov-10</td>\n",
       "      <td>7</td>\n",
       "      <td>marri year old no kid take pill hassl decid ge...</td>\n",
       "      <td>1</td>\n",
       "    </tr>\n",
       "    <tr>\n",
       "      <th>212696</th>\n",
       "      <td>47656</td>\n",
       "      <td>Tapentadol</td>\n",
       "      <td>Pain</td>\n",
       "      <td>\"I was prescribed Nucynta for severe neck/shou...</td>\n",
       "      <td>1</td>\n",
       "      <td>28-Nov-11</td>\n",
       "      <td>20</td>\n",
       "      <td>prescrib nucynta sever neck shoulder pain take...</td>\n",
       "      <td>0</td>\n",
       "    </tr>\n",
       "    <tr>\n",
       "      <th>212697</th>\n",
       "      <td>113712</td>\n",
       "      <td>Arthrotec</td>\n",
       "      <td>Sciatica</td>\n",
       "      <td>\"It works!!!\"</td>\n",
       "      <td>9</td>\n",
       "      <td>13-Sep-09</td>\n",
       "      <td>46</td>\n",
       "      <td>work</td>\n",
       "      <td>1</td>\n",
       "    </tr>\n",
       "  </tbody>\n",
       "</table>\n",
       "<p>212053 rows × 9 columns</p>\n",
       "</div>"
      ],
      "text/plain": [
       "        uniqueID                  drugName                     condition  \\\n",
       "0         206461                 Valsartan  Left Ventricular Dysfunction   \n",
       "1          95260                Guanfacine                          ADHD   \n",
       "2          92703                    Lybrel                 Birth Control   \n",
       "3         138000                Ortho Evra                 Birth Control   \n",
       "4          35696  Buprenorphine / naloxone             Opiate Dependence   \n",
       "...          ...                       ...                           ...   \n",
       "212693    159999                 Tamoxifen     Breast Cancer, Prevention   \n",
       "212694    140714              Escitalopram                       Anxiety   \n",
       "212695    130945            Levonorgestrel                 Birth Control   \n",
       "212696     47656                Tapentadol                          Pain   \n",
       "212697    113712                 Arthrotec                      Sciatica   \n",
       "\n",
       "                                                   review  rating       date  \\\n",
       "0       \"It has no side effect, I take it in combinati...       9  20-May-12   \n",
       "1       \"My son is halfway through his fourth week of ...       8  27-Apr-10   \n",
       "2       \"I used to take another oral contraceptive, wh...       5  14-Dec-09   \n",
       "3       \"This is my first time using any form of birth...       8   3-Nov-15   \n",
       "4       \"Suboxone has completely turned my life around...       9  27-Nov-16   \n",
       "...                                                   ...     ...        ...   \n",
       "212693  \"I have taken Tamoxifen for 5 years. Side effe...      10  13-Sep-14   \n",
       "212694  \"I&#039;ve been taking Lexapro (escitaploprgra...       9   8-Oct-16   \n",
       "212695  \"I&#039;m married, 34 years old and I have no ...       8  15-Nov-10   \n",
       "212696  \"I was prescribed Nucynta for severe neck/shou...       1  28-Nov-11   \n",
       "212697                                      \"It works!!!\"       9  13-Sep-09   \n",
       "\n",
       "        usefulCount                                       review_clean  \\\n",
       "0                27      no side effect take combin bystol mg fish oil   \n",
       "1               192  son halfway fourth week intuniv becam concern ...   \n",
       "2                17  use take anoth oral contracept pill cycl happi...   \n",
       "3                10  first time use form birth control glad went pa...   \n",
       "4                37  suboxon complet turn life around feel healthie...   \n",
       "...             ...                                                ...   \n",
       "212693           43  taken tamoxifen year side effect sever sweat d...   \n",
       "212694           11  take lexapro escitaploprgram sinc februari fir...   \n",
       "212695            7  marri year old no kid take pill hassl decid ge...   \n",
       "212696           20  prescrib nucynta sever neck shoulder pain take...   \n",
       "212697           46                                               work   \n",
       "\n",
       "        sentiment  \n",
       "0               1  \n",
       "1               1  \n",
       "2               0  \n",
       "3               1  \n",
       "4               1  \n",
       "...           ...  \n",
       "212693          1  \n",
       "212694          1  \n",
       "212695          1  \n",
       "212696          0  \n",
       "212697          1  \n",
       "\n",
       "[212053 rows x 9 columns]"
      ]
     },
     "execution_count": 53,
     "metadata": {},
     "output_type": "execute_result"
    }
   ],
   "source": [
    "df_all"
   ]
  },
  {
   "cell_type": "code",
   "execution_count": 54,
   "id": "4484f8e3",
   "metadata": {},
   "outputs": [],
   "source": [
    "from sklearn.model_selection import train_test_split\n",
    "\n",
    "df_train, df_test = train_test_split(df_all, test_size = 0.33, random_state=42)"
   ]
  },
  {
   "cell_type": "code",
   "execution_count": 55,
   "id": "4b5d81b7",
   "metadata": {},
   "outputs": [],
   "source": [
    "from sklearn.feature_extraction.text import CountVectorizer\n",
    "\n",
    "vectorizer = CountVectorizer(ngram_range=(4,4), min_df=2, max_features=20000)"
   ]
  },
  {
   "cell_type": "code",
   "execution_count": 56,
   "id": "5625f0f8",
   "metadata": {},
   "outputs": [
    {
     "data": {
      "text/html": [
       "<div>\n",
       "<style scoped>\n",
       "    .dataframe tbody tr th:only-of-type {\n",
       "        vertical-align: middle;\n",
       "    }\n",
       "\n",
       "    .dataframe tbody tr th {\n",
       "        vertical-align: top;\n",
       "    }\n",
       "\n",
       "    .dataframe thead th {\n",
       "        text-align: right;\n",
       "    }\n",
       "</style>\n",
       "<table border=\"1\" class=\"dataframe\">\n",
       "  <thead>\n",
       "    <tr style=\"text-align: right;\">\n",
       "      <th></th>\n",
       "      <th>uniqueID</th>\n",
       "      <th>drugName</th>\n",
       "      <th>condition</th>\n",
       "      <th>review</th>\n",
       "      <th>rating</th>\n",
       "      <th>date</th>\n",
       "      <th>usefulCount</th>\n",
       "      <th>review_clean</th>\n",
       "      <th>sentiment</th>\n",
       "    </tr>\n",
       "  </thead>\n",
       "  <tbody>\n",
       "    <tr>\n",
       "      <th>130586</th>\n",
       "      <td>66913</td>\n",
       "      <td>Seroquel</td>\n",
       "      <td>Generalized Anxiety Disorde</td>\n",
       "      <td>\"After trying nearly every SSRI on the market ...</td>\n",
       "      <td>9</td>\n",
       "      <td>26-Nov-10</td>\n",
       "      <td>102</td>\n",
       "      <td>tri near everi ssri market place pristiq impro...</td>\n",
       "      <td>1</td>\n",
       "    </tr>\n",
       "    <tr>\n",
       "      <th>155983</th>\n",
       "      <td>222222</td>\n",
       "      <td>Fluconazole</td>\n",
       "      <td>Onychomycosis, Toenail</td>\n",
       "      <td>\"This takes 6+ months, but did clear up a deca...</td>\n",
       "      <td>9</td>\n",
       "      <td>3-May-08</td>\n",
       "      <td>39</td>\n",
       "      <td>take month clear decad long infect</td>\n",
       "      <td>1</td>\n",
       "    </tr>\n",
       "    <tr>\n",
       "      <th>75560</th>\n",
       "      <td>75807</td>\n",
       "      <td>Temazepam</td>\n",
       "      <td>Insomnia</td>\n",
       "      <td>\"Worked for awhile pretty well but then went b...</td>\n",
       "      <td>2</td>\n",
       "      <td>21-Apr-16</td>\n",
       "      <td>15</td>\n",
       "      <td>work awhil pretti well went back mayb get hour...</td>\n",
       "      <td>0</td>\n",
       "    </tr>\n",
       "    <tr>\n",
       "      <th>19235</th>\n",
       "      <td>229747</td>\n",
       "      <td>Ketamine</td>\n",
       "      <td>Pain</td>\n",
       "      <td>\"I was given this after surgery for pain as I ...</td>\n",
       "      <td>1</td>\n",
       "      <td>16-Apr-16</td>\n",
       "      <td>19</td>\n",
       "      <td>given surgeri pain morphin tri drug sort omg w...</td>\n",
       "      <td>0</td>\n",
       "    </tr>\n",
       "    <tr>\n",
       "      <th>210375</th>\n",
       "      <td>102495</td>\n",
       "      <td>Aripiprazole</td>\n",
       "      <td>Major Depressive Disorde</td>\n",
       "      <td>\"Abilify served me well over a two month perio...</td>\n",
       "      <td>9</td>\n",
       "      <td>16-Dec-16</td>\n",
       "      <td>5</td>\n",
       "      <td>abilifi serv well two month period antidepress...</td>\n",
       "      <td>1</td>\n",
       "    </tr>\n",
       "    <tr>\n",
       "      <th>...</th>\n",
       "      <td>...</td>\n",
       "      <td>...</td>\n",
       "      <td>...</td>\n",
       "      <td>...</td>\n",
       "      <td>...</td>\n",
       "      <td>...</td>\n",
       "      <td>...</td>\n",
       "      <td>...</td>\n",
       "      <td>...</td>\n",
       "    </tr>\n",
       "    <tr>\n",
       "      <th>120251</th>\n",
       "      <td>147556</td>\n",
       "      <td>Alprazolam</td>\n",
       "      <td>Anxiety</td>\n",
       "      <td>\"Love it. It made me really relaxed/calm and s...</td>\n",
       "      <td>10</td>\n",
       "      <td>14-Jul-09</td>\n",
       "      <td>30</td>\n",
       "      <td>love made realli relax calm still abl work</td>\n",
       "      <td>1</td>\n",
       "    </tr>\n",
       "    <tr>\n",
       "      <th>104029</th>\n",
       "      <td>221534</td>\n",
       "      <td>Makena</td>\n",
       "      <td>Premature Lab</td>\n",
       "      <td>\"I had two of my boys at 34 wks and one at 29 ...</td>\n",
       "      <td>10</td>\n",
       "      <td>7-Jul-17</td>\n",
       "      <td>9</td>\n",
       "      <td>two boy wks one wks start makena inject wks pr...</td>\n",
       "      <td>1</td>\n",
       "    </tr>\n",
       "    <tr>\n",
       "      <th>132337</th>\n",
       "      <td>221729</td>\n",
       "      <td>Dexlansoprazole</td>\n",
       "      <td>Erosive Esophagitis</td>\n",
       "      <td>\"Had severe chest pain, but knew it wasn&amp;#039;...</td>\n",
       "      <td>9</td>\n",
       "      <td>23-May-11</td>\n",
       "      <td>33</td>\n",
       "      <td>sever chest pain knew heart endoscop show duod...</td>\n",
       "      <td>1</td>\n",
       "    </tr>\n",
       "    <tr>\n",
       "      <th>147326</th>\n",
       "      <td>149934</td>\n",
       "      <td>Soma</td>\n",
       "      <td>Nocturnal Leg Cramps</td>\n",
       "      <td>\"This medicine is a God-send! For years I stru...</td>\n",
       "      <td>10</td>\n",
       "      <td>28-May-13</td>\n",
       "      <td>119</td>\n",
       "      <td>medicin god send year struggl restless leg hyp...</td>\n",
       "      <td>1</td>\n",
       "    </tr>\n",
       "    <tr>\n",
       "      <th>122337</th>\n",
       "      <td>45856</td>\n",
       "      <td>Phendimetrazine</td>\n",
       "      <td>Obesity</td>\n",
       "      <td>\"I started taking the Medicine exactly one wee...</td>\n",
       "      <td>9</td>\n",
       "      <td>1-Sep-15</td>\n",
       "      <td>28</td>\n",
       "      <td>start take medicin exact one week today weigh ...</td>\n",
       "      <td>1</td>\n",
       "    </tr>\n",
       "  </tbody>\n",
       "</table>\n",
       "<p>142075 rows × 9 columns</p>\n",
       "</div>"
      ],
      "text/plain": [
       "        uniqueID         drugName                    condition  \\\n",
       "130586     66913         Seroquel  Generalized Anxiety Disorde   \n",
       "155983    222222      Fluconazole       Onychomycosis, Toenail   \n",
       "75560      75807        Temazepam                     Insomnia   \n",
       "19235     229747         Ketamine                         Pain   \n",
       "210375    102495     Aripiprazole     Major Depressive Disorde   \n",
       "...          ...              ...                          ...   \n",
       "120251    147556       Alprazolam                      Anxiety   \n",
       "104029    221534           Makena                Premature Lab   \n",
       "132337    221729  Dexlansoprazole          Erosive Esophagitis   \n",
       "147326    149934             Soma         Nocturnal Leg Cramps   \n",
       "122337     45856  Phendimetrazine                      Obesity   \n",
       "\n",
       "                                                   review  rating       date  \\\n",
       "130586  \"After trying nearly every SSRI on the market ...       9  26-Nov-10   \n",
       "155983  \"This takes 6+ months, but did clear up a deca...       9   3-May-08   \n",
       "75560   \"Worked for awhile pretty well but then went b...       2  21-Apr-16   \n",
       "19235   \"I was given this after surgery for pain as I ...       1  16-Apr-16   \n",
       "210375  \"Abilify served me well over a two month perio...       9  16-Dec-16   \n",
       "...                                                   ...     ...        ...   \n",
       "120251  \"Love it. It made me really relaxed/calm and s...      10  14-Jul-09   \n",
       "104029  \"I had two of my boys at 34 wks and one at 29 ...      10   7-Jul-17   \n",
       "132337  \"Had severe chest pain, but knew it wasn&#039;...       9  23-May-11   \n",
       "147326  \"This medicine is a God-send! For years I stru...      10  28-May-13   \n",
       "122337  \"I started taking the Medicine exactly one wee...       9   1-Sep-15   \n",
       "\n",
       "        usefulCount                                       review_clean  \\\n",
       "130586          102  tri near everi ssri market place pristiq impro...   \n",
       "155983           39                 take month clear decad long infect   \n",
       "75560            15  work awhil pretti well went back mayb get hour...   \n",
       "19235            19  given surgeri pain morphin tri drug sort omg w...   \n",
       "210375            5  abilifi serv well two month period antidepress...   \n",
       "...             ...                                                ...   \n",
       "120251           30         love made realli relax calm still abl work   \n",
       "104029            9  two boy wks one wks start makena inject wks pr...   \n",
       "132337           33  sever chest pain knew heart endoscop show duod...   \n",
       "147326          119  medicin god send year struggl restless leg hyp...   \n",
       "122337           28  start take medicin exact one week today weigh ...   \n",
       "\n",
       "        sentiment  \n",
       "130586          1  \n",
       "155983          1  \n",
       "75560           0  \n",
       "19235           0  \n",
       "210375          1  \n",
       "...           ...  \n",
       "120251          1  \n",
       "104029          1  \n",
       "132337          1  \n",
       "147326          1  \n",
       "122337          1  \n",
       "\n",
       "[142075 rows x 9 columns]"
      ]
     },
     "execution_count": 56,
     "metadata": {},
     "output_type": "execute_result"
    }
   ],
   "source": [
    "df_train"
   ]
  },
  {
   "cell_type": "code",
   "execution_count": 57,
   "id": "ec1b2e1f",
   "metadata": {},
   "outputs": [
    {
     "name": "stdout",
     "output_type": "stream",
     "text": [
      "CPU times: user 11.5 s, sys: 477 ms, total: 12 s\n",
      "Wall time: 12.2 s\n",
      "CPU times: user 1.8 s, sys: 29 ms, total: 1.83 s\n",
      "Wall time: 1.83 s\n"
     ]
    }
   ],
   "source": [
    "#fit and transform train set\n",
    "%time train_data_features = vectorizer.fit_transform(df_train['review_clean'])\n",
    "\n",
    "#transform test set\n",
    "%time test_data_features = vectorizer.transform(df_test['review_clean'])"
   ]
  },
  {
   "cell_type": "code",
   "execution_count": 58,
   "id": "941e6016",
   "metadata": {},
   "outputs": [],
   "source": [
    "#define target and features\n",
    "\n",
    "y_train = df_train['sentiment']\n",
    "y_test = df_test['sentiment']\n",
    "\n",
    "X_train = train_data_features.toarray()\n",
    "X_test = test_data_features.toarray()"
   ]
  },
  {
   "cell_type": "code",
   "execution_count": 59,
   "id": "febe482c",
   "metadata": {},
   "outputs": [
    {
     "name": "stdout",
     "output_type": "stream",
     "text": [
      "Model: \"sequential_4\"\n",
      "_________________________________________________________________\n",
      " Layer (type)                Output Shape              Param #   \n",
      "=================================================================\n",
      " dense_12 (Dense)            (None, 50)                1000050   \n",
      "                                                                 \n",
      " batch_normalization_4 (Batc  (None, 50)               200       \n",
      " hNormalization)                                                 \n",
      "                                                                 \n",
      " dropout_4 (Dropout)         (None, 50)                0         \n",
      "                                                                 \n",
      " dense_13 (Dense)            (None, 25)                1275      \n",
      "                                                                 \n",
      " dense_14 (Dense)            (None, 1)                 26        \n",
      "                                                                 \n",
      "=================================================================\n",
      "Total params: 1,001,551\n",
      "Trainable params: 1,001,451\n",
      "Non-trainable params: 100\n",
      "_________________________________________________________________\n"
     ]
    }
   ],
   "source": [
    "from tensorflow.keras import layers, Sequential\n",
    "\n",
    "model = Sequential()\n",
    "model.add(layers.Dense(50, input_shape=(20000,), activation='relu'))\n",
    "model.add(layers.BatchNormalization())\n",
    "model.add(layers.Dropout(0.5))\n",
    "model.add(layers.Dense(25, activation='relu'))\n",
    "model.add(layers.Dense(1, activation='sigmoid'))\n",
    "\n",
    "model.compile(optimizer='adam',\n",
    "             loss='binary_crossentropy',\n",
    "             metrics=['accuracy'])\n",
    "\n",
    "model.summary()"
   ]
  },
  {
   "cell_type": "code",
   "execution_count": 48,
   "id": "1e5db365",
   "metadata": {},
   "outputs": [
    {
     "name": "stdout",
     "output_type": "stream",
     "text": [
      "Epoch 1/10\n",
      "2975/2975 [==============================] - 13s 4ms/step - loss: 0.5910 - accuracy: 0.7083 - val_loss: 0.5533 - val_accuracy: 0.7266\n",
      "Epoch 2/10\n",
      "2975/2975 [==============================] - 14s 5ms/step - loss: 0.5285 - accuracy: 0.7443 - val_loss: 0.5364 - val_accuracy: 0.7379\n",
      "Epoch 3/10\n",
      "2975/2975 [==============================] - 16s 5ms/step - loss: 0.4912 - accuracy: 0.7633 - val_loss: 0.5346 - val_accuracy: 0.7408\n",
      "Epoch 4/10\n",
      "2975/2975 [==============================] - 16s 5ms/step - loss: 0.4692 - accuracy: 0.7756 - val_loss: 0.5388 - val_accuracy: 0.7436\n",
      "Epoch 5/10\n",
      "2975/2975 [==============================] - 14s 5ms/step - loss: 0.4542 - accuracy: 0.7822 - val_loss: 0.5456 - val_accuracy: 0.7444\n",
      "Epoch 6/10\n",
      "2975/2975 [==============================] - 16s 5ms/step - loss: 0.4445 - accuracy: 0.7856 - val_loss: 0.5501 - val_accuracy: 0.7453\n",
      "Epoch 7/10\n",
      "2975/2975 [==============================] - 14s 5ms/step - loss: 0.4374 - accuracy: 0.7896 - val_loss: 0.5536 - val_accuracy: 0.7453\n",
      "Epoch 8/10\n",
      "2975/2975 [==============================] - 14s 5ms/step - loss: 0.4305 - accuracy: 0.7927 - val_loss: 0.5618 - val_accuracy: 0.7471\n",
      "Epoch 9/10\n",
      "2975/2975 [==============================] - 16s 5ms/step - loss: 0.4260 - accuracy: 0.7945 - val_loss: 0.5638 - val_accuracy: 0.7471\n",
      "Epoch 10/10\n",
      "2975/2975 [==============================] - 17s 6ms/step - loss: 0.4221 - accuracy: 0.7962 - val_loss: 0.5656 - val_accuracy: 0.7484\n"
     ]
    }
   ],
   "source": [
    "history = model.fit(X_train, y_train,\n",
    "                    validation_split=0.33,\n",
    "                   batch_size=32,\n",
    "                   epochs=10,\n",
    "                   verbose=1)"
   ]
  },
  {
   "cell_type": "code",
   "execution_count": 60,
   "id": "a3674847",
   "metadata": {},
   "outputs": [
    {
     "data": {
      "text/plain": [
       "array([<AxesSubplot:title={'center':'MSE'}, xlabel='Epoch', ylabel='Loss'>,\n",
       "       <AxesSubplot:title={'center':'Accuracy'}, xlabel='Epoch', ylabel='Accuracy'>],\n",
       "      dtype=object)"
      ]
     },
     "execution_count": 60,
     "metadata": {},
     "output_type": "execute_result"
    },
    {
     "data": {
      "image/png": "[encoded data removed]",
      "text/plain": [
       "<Figure size 2000x700 with 2 Axes>"
      ]
     },
     "metadata": {},
     "output_type": "display_data"
    }
   ],
   "source": [
    "plot_history(history)"
   ]
  },
  {
   "cell_type": "code",
   "execution_count": 45,
   "id": "3246e56b",
   "metadata": {},
   "outputs": [
    {
     "data": {
      "text/plain": [
       "[0.5310944318771362, 0.7484923601150513]"
      ]
     },
     "execution_count": 45,
     "metadata": {},
     "output_type": "execute_result"
    }
   ],
   "source": [
    "model.evaluate(X_test, y_test, verbose=0)"
   ]
  },
  {
   "cell_type": "code",
   "execution_count": null,
   "id": "f7e84a21",
   "metadata": {},
   "outputs": [],
   "source": []
  }
 ],
 "metadata": {
  "kernelspec": {
   "display_name": "Python 3 (ipykernel)",
   "language": "python",
   "name": "python3"
  },
  "language_info": {
   "codemirror_mode": {
    "name": "ipython",
    "version": 3
   },
   "file_extension": ".py",
   "mimetype": "text/x-python",
   "name": "python",
   "nbconvert_exporter": "python",
   "pygments_lexer": "ipython3",
   "version": "3.10.6"
  },
  "toc": {
   "base_numbering": 1,
   "nav_menu": {},
   "number_sections": true,
   "sideBar": true,
   "skip_h1_title": false,
   "title_cell": "Table of Contents",
   "title_sidebar": "Contents",
   "toc_cell": false,
   "toc_position": {},
   "toc_section_display": true,
   "toc_window_display": false
  }
 },
 "nbformat": 4,
 "nbformat_minor": 5
}
